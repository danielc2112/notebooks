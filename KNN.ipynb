{
 "cells": [
  {
   "cell_type": "markdown",
   "metadata": {
    "collapsed": false
   },
   "source": [
    "<h1><center>K-Nearest Neighbors<center></h1>"
   ]
  },
  {
   "cell_type": "markdown",
   "metadata": {
    "collapsed": false
   },
   "source": [
    "<p>Da mesma forma que podemos classificar modelos como _supervisionados_ ou _não-supervisionados_, podemos classificar modelos como **paramétricos** ou **não-paramétricos**</p>\n",
    "\n",
    "<p>Os paramétricos têm um número fixo de paramêtros, e em geral são mais rápidos, mas fazem suposições mais fortes sobre a natureza dos dados e sua distribuição. Por outro lado, nos modelos não-paramétricos, o número de variáveis cresce com a quantidade de dados.<p>\n",
    "\n",
    "Veremos aqui, como exemplo de um modelo não-paramétrico, um classificador chamado __K-Nearest Neighbors__ (KNN). O seu algoritmo é bem simples: compare o novo dado $X$ a ser classificado com os **K** pontos mais 'próximos' (há que se definir o que isso significa) e atribua a classe mais provável (a classe da maioria dos K comparados)."
   ]
  },
  {
   "cell_type": "markdown",
   "metadata": {
    "collapsed": false
   },
   "source": [
    "Formalizando: $$p(y=c|x,\\mathcal{D},K) = \\frac{1}{K}\\sum_{i \\in  N_{K}(x,\\mathcal{D})} \\mathbb{I}(y_{i}=c)$$"
   ]
  },
  {
   "cell_type": "markdown",
   "metadata": {},
   "source": [
    "Onde $N_{k}(x,\\mathcal{D})$ calcula os índices dos K vizinhos mais próximos a $x$, e $\\mathbb{I}$ é **função indicador**:<br>\n",
    "\n",
    "$$\\mathbb{I}(e)=\\left\\{ \\begin{array}{ll}\n",
    "                  1 & \\text{se $e$ é verdadeiro}\\\\\n",
    "                  0 & \\text{if $e$ é falso}\n",
    "                \\end{array}\n",
    "              \\right.$$"
   ]
  },
  {
   "cell_type": "markdown",
   "metadata": {},
   "source": [
    "Assim o KNN efetivamente **divide** o espaço de _features_ com uma granularidade **K**\n",
    "<br>\n",
    "se K=1, o modelo terá erro zero ao treinar (visto que apenas retornamos os pontos originais de treino), mas terá muito pouco valor explicativo ao ser utilizado.\n",
    "<br>\n",
    "Ao aumentar K, as divisões do espaço vão ficando mais suaves, até que em K=N, é um classificador que chuta sempre a classe majoritária da massa de dados.\n",
    "<br>\n",
    "A escolha de K nos coloca em um ponto entre o mínimo e o máximo de generalização."
   ]
  },
  {
   "cell_type": "markdown",
   "metadata": {},
   "source": [
    "<h4>No Free Lunch Theorem</h4>"
   ]
  },
  {
   "cell_type": "markdown",
   "metadata": {},
   "source": [
    "Cunhado por Wolpert (1966), diz que não há um único modelo que dê resultados ótimos para todo tipo de problema. Um conjunto de pressupostos que dão resultado bom para um problema podem não funcionar bem em outro (ou com outros dados). Assim, diferentes modelos são criados em resposta a diferentes problemas e dados do mundo real, e diferentes algoritmos podem ser usados para treinar cada modelo, que por sua vez terão diferentes desempehos nas dimensões **velocidade-acurácia-precisão**. "
   ]
  },
  {
   "cell_type": "markdown",
   "metadata": {},
   "source": [
    "<h4>Código</h4>"
   ]
  },
  {
   "cell_type": "markdown",
   "metadata": {},
   "source": [
    "1) para calcular a proximidade entre os pontos, preciso de uma métrica de distância exitem várias: Jaccard, City-Block, Coseno ...para começar podemos usar a Euclideana:\n",
    "\n",
    "para dois vetores de _features_: $X=(x_1,x_2,...,x_n)$ e $Y=(y_1,y_2,...,y_n)$\n",
    "\n",
    "$$ d=\\sqrt{(x_1-y_1)^2+(x_2-y_2)^2+...+(x_n-y_n)^2}$$\n",
    "\n",
    "OBS: Vale observar que valores nominais não darão certo com esta escolha de métrica ...como resolver? \n",
    "\n",
    "(dummy coding, Jaccard)"
   ]
  },
  {
   "cell_type": "code",
   "execution_count": 6,
   "metadata": {
    "collapsed": true
   },
   "outputs": [],
   "source": [
    "import math\n",
    "#####################################################################################\n",
    "# d = sqrt((a1-b1)^2 + (a2-b2)^2+(a3-b3)^2+(a4-b4)^2)\n",
    "#####################################################################################\n",
    "def euclidean_dist(data1, data2):\n",
    "    \n",
    "    # transformo [a1,a2,...,an] e [b1,b2,...,bn] em (a1,b1),(a2,b2),...(an,bn)\n",
    "    points = zip(data1, data2)\n",
    "    \n",
    "    # quadrado das diferenças, dimensão por dimensão\n",
    "    diffs_squared_distance = [pow(a - b, 2) for (a, b) in points if a is not None and b is not None]\n",
    "    # retorno a raiz da soma\n",
    "    return math.sqrt(sum(diffs_squared_distance))"
   ]
  },
  {
   "cell_type": "markdown",
   "metadata": {},
   "source": [
    "2) Agora criaremos uma função que calcula a distância entre cada item do gabarito e um item novo a ser julgado"
   ]
  },
  {
   "cell_type": "code",
   "execution_count": 4,
   "metadata": {
    "collapsed": true
   },
   "outputs": [],
   "source": [
    "from operator import itemgetter\n",
    "#####################################################################################\n",
    "# olho os vizinhos 1 a 1 e guardo os k mais próximos\n",
    "#####################################################################################\n",
    "def get_neighbours(training_set, test_instance, k):\n",
    "    \n",
    "    # calculo a distância do item a ser julgado de cada outro ponto\n",
    "    # distances tem a forma: [(item1,d1), (item2,d2), ...]\n",
    "    # onde d1 é a distância entre item1 e test_instance, \n",
    "    #      d2 é a distância entre item2 e test_instance ...e assim por diante\n",
    "    distances = [_get_tuple_distance(training_instance, test_instance) for training_instance in training_set]\n",
    " \n",
    "    # reordeno a lista de items da menor distância para a maior\n",
    "    sorted_distances = sorted(distances, key=itemgetter(1))\n",
    " \n",
    "    # não guardo as distâncias, só os items, uma vez ordenados\n",
    "    sorted_training_instances = [x[0] for x in sorted_distances]\n",
    " \n",
    "    # retorno os primeiros k items da lista ordenada\n",
    "    return sorted_training_instances[:k]\n",
    "#####################################################################################\n",
    "# aplico a minha função de distância entre dois itens.\n",
    "#####################################################################################\n",
    "def _get_tuple_distance(training_instance, test_instance):\n",
    "    return (training_instance, euclidean_dist(test_instance, training_instance[0]))"
   ]
  },
  {
   "cell_type": "markdown",
   "metadata": {},
   "source": [
    "3) Uma vez que temos os vizinhos mais próximos, precisamos contar a classe de cada um, para saber o que responder"
   ]
  },
  {
   "cell_type": "code",
   "execution_count": 5,
   "metadata": {
    "collapsed": true
   },
   "outputs": [],
   "source": [
    "from collections import Counter\n",
    " \n",
    "def get_majority_vote(neighbours):\n",
    "    # presumo aqui que a neighbours tem o formato \n",
    "    # [(item,classe), (item,classe)...]\n",
    "    classes = [neighbour[1] for neighbour in neighbours]\n",
    "    count = Counter(classes)\n",
    "    return count.most_common()[0][0]"
   ]
  },
  {
   "cell_type": "markdown",
   "metadata": {},
   "source": [
    "agora vamos brincar..."
   ]
  },
  {
   "cell_type": "code",
   "execution_count": 42,
   "metadata": {
    "collapsed": false
   },
   "outputs": [
    {
     "name": "stdout",
     "output_type": "stream",
     "text": [
      "I think this guy likes: action\n"
     ]
    }
   ],
   "source": [
    "#############################################################\n",
    "def run(dataset, item, K):\n",
    "    neighbours = get_neighbours(dataset, item, K)\n",
    "    guess = get_majority_vote(neighbours)\n",
    "    print 'I think this guy likes:',guess\n",
    "#############################################################    \n",
    "def generate_random_data():\n",
    "    for _ in range(30):\n",
    "        item = []\n",
    "        for i in range(10):\n",
    "            item.append(random.randint(1,5))\n",
    "        \n",
    "        bucket = ''   \n",
    "        cl = random.randint(0,8)\n",
    "        if cl < 3: bucket = 'action'\n",
    "        elif cl < 6: bucket = 'drama'\n",
    "        else: bucket = 'comedy'\n",
    "        data.append( (item,bucket) )\n",
    "    print data\n",
    "#############################################################\n",
    "import random\n",
    "if __name__ == '__main__':\n",
    "    # generate_random_data()\n",
    "    K = 5\n",
    "    data = [([4, 2, 5, 3, 3, 3, 5, 3, 4, 2], 'action'), \n",
    "            ([5, 3, 4, 2, 2, 5, 5, 2, 3, 2], 'comedy'), \n",
    "            ([2, 5, 3, 3, 4, 4, 5, 1, 3, 5], 'action'), \n",
    "            ([1, 3, 3, 5, 3, 1, 2, 5, 1, 3], 'action'), \n",
    "            ([5, 3, 2, 4, 3, 1, 4, 3, 3, 4], 'drama'), \n",
    "            ([5, 5, 1, 3, 1, 3, 3, 4, 3, 3], 'action'), \n",
    "            ([1, 2, 3, 3, 2, 3, 2, 3, 5, 4], 'drama'), \n",
    "            ([3, 5, 1, 3, 4, 1, 4, 2, 3, 4], 'drama'), \n",
    "            ([1, 1, 1, 2, 1, 3, 3, 4, 5, 1], 'comedy'), \n",
    "            ([5, 3, 4, 2, 5, 2, 4, 1, 3, 2], 'comedy'), \n",
    "            ([4, 2, 3, 5, 1, 3, 1, 5, 3, 5], 'drama'), \n",
    "            ([1, 2, 3, 1, 3, 2, 4, 4, 4, 5], 'drama'), \n",
    "            ([3, 2, 1, 1, 2, 3, 1, 4, 2, 4], 'comedy'), \n",
    "            ([4, 5, 5, 3, 5, 3, 5, 1, 3, 4], 'drama'), \n",
    "            ([4, 4, 3, 3, 3, 2, 1, 5, 3, 4], 'comedy'), \n",
    "            ([4, 1, 2, 5, 4, 4, 5, 4, 1, 4], 'comedy'), \n",
    "            ([2, 2, 1, 3, 1, 5, 1, 3, 5, 1], 'comedy'), \n",
    "            ([2, 3, 1, 1, 2, 5, 2, 2, 4, 2], 'comedy'), \n",
    "            ([5, 2, 2, 4, 5, 3, 4, 5, 4, 2], 'comedy'), \n",
    "            ([1, 1, 4, 4, 2, 2, 4, 4, 3, 1], 'comedy'), \n",
    "            ([3, 3, 2, 2, 5, 1, 5, 3, 5, 2], 'comedy'), \n",
    "            ([5, 4, 1, 2, 1, 5, 1, 5, 1, 5], 'comedy'), \n",
    "            ([4, 1, 5, 5, 1, 3, 1, 5, 4, 1], 'comedy'), \n",
    "            ([3, 4, 2, 1, 1, 2, 5, 4, 3, 5], 'action'), \n",
    "            ([4, 5, 2, 1, 1, 1, 1, 2, 2, 2], 'drama'), \n",
    "            ([3, 3, 1, 5, 1, 1, 5, 2, 1, 2], 'action'), \n",
    "            ([1, 5, 2, 4, 1, 2, 1, 2, 3, 2], 'drama'), \n",
    "            ([5, 3, 3, 5, 1, 3, 1, 2, 1, 3], 'drama'), \n",
    "            ([1, 1, 4, 4, 4, 5, 2, 2, 1, 5], 'action'), \n",
    "            ([3, 1, 5, 2, 1, 1, 5, 1, 5, 1], 'drama'), \n",
    "            ([4, 2, 3, 4, 3, 2, 5, 4, 1, 3], 'comedy'), \n",
    "            ([3, 2, 5, 3, 2, 4, 2, 2, 5, 4], 'drama'), \n",
    "            ([1, 3, 1, 2, 5, 4, 2, 4, 4, 3], 'action'), \n",
    "            ([4, 3, 4, 5, 1, 2, 2, 1, 1, 2], 'drama'), \n",
    "            ([3, 3, 3, 1, 4, 3, 5, 2, 4, 5], 'action'), \n",
    "            ([2, 5, 1, 2, 3, 3, 1, 3, 5, 1], 'action'), \n",
    "            ([2, 4, 2, 1, 4, 2, 2, 4, 1, 1], 'action'), \n",
    "            ([3, 2, 3, 3, 3, 3, 4, 2, 2, 1], 'comedy'), \n",
    "            ([2, 5, 1, 5, 2, 5, 1, 1, 4, 5], 'action'), \n",
    "            ([5, 2, 4, 1, 2, 5, 5, 3, 3, 4], 'comedy'), \n",
    "            ([3, 5, 1, 3, 3, 5, 2, 1, 3, 1], 'action'), \n",
    "            ([4, 1, 4, 1, 5, 2, 3, 5, 5, 3], 'drama'), \n",
    "            ([3, 4, 2, 2, 4, 2, 1, 4, 1, 5], 'drama'), \n",
    "            ([3, 3, 5, 3, 3, 3, 3, 4, 1, 4], 'comedy'), \n",
    "            ([2, 3, 2, 1, 3, 1, 3, 2, 1, 4], 'comedy'), \n",
    "            ([3, 5, 1, 1, 2, 4, 1, 5, 1, 2], 'comedy'), \n",
    "            ([2, 2, 4, 1, 3, 4, 2, 3, 3, 5], 'comedy'), \n",
    "            ([5, 3, 4, 5, 1, 5, 2, 4, 1, 1], 'drama'), \n",
    "            ([4, 2, 5, 2, 3, 1, 2, 3, 2, 2], 'action'), \n",
    "            ([1, 3, 3, 5, 3, 3, 2, 5, 4, 2], 'drama'), \n",
    "            ([3, 4, 2, 1, 4, 2, 1, 4, 1, 3], 'drama'), \n",
    "            ([3, 1, 3, 4, 5, 5, 5, 2, 1, 3], 'drama'), \n",
    "            ([4, 4, 4, 2, 2, 1, 1, 2, 2, 1], 'action'), \n",
    "            ([1, 3, 3, 4, 4, 4, 3, 5, 1, 2], 'drama'), \n",
    "            ([3, 3, 3, 3, 2, 2, 1, 5, 5, 4], 'comedy'), \n",
    "            ([2, 5, 4, 2, 4, 1, 2, 4, 1, 5], 'drama'), \n",
    "            ([3, 1, 1, 1, 5, 1, 2, 3, 1, 1], 'action'), \n",
    "            ([1, 3, 4, 3, 3, 2, 1, 4, 3, 5], 'action'), \n",
    "            ([3, 2, 3, 1, 4, 5, 4, 3, 5, 2], 'action'), \n",
    "            ([5, 1, 3, 2, 3, 2, 4, 3, 4, 2], 'action')\n",
    "           ]\n",
    "    \n",
    "     \n",
    "            \n",
    "    run(data, [5,5,5,1,1,1,5,1,1,1], K)"
   ]
  },
  {
   "cell_type": "code",
   "execution_count": null,
   "metadata": {
    "collapsed": true
   },
   "outputs": [],
   "source": []
  },
  {
   "cell_type": "code",
   "execution_count": null,
   "metadata": {
    "collapsed": true
   },
   "outputs": [],
   "source": []
  }
 ],
 "metadata": {
  "celltoolbar": "Raw Cell Format",
  "kernelspec": {
   "display_name": "Python 2",
   "language": "python",
   "name": "python2"
  },
  "language_info": {
   "codemirror_mode": {
    "name": "ipython",
    "version": 2
   },
   "file_extension": ".py",
   "mimetype": "text/x-python",
   "name": "python",
   "nbconvert_exporter": "python",
   "pygments_lexer": "ipython2",
   "version": "2.7.11"
  }
 },
 "nbformat": 4,
 "nbformat_minor": 0
}
