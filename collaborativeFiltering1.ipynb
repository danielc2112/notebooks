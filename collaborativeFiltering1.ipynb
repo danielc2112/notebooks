{
 "cells": [
  {
   "cell_type": "markdown",
   "metadata": {
    "collapsed": false
   },
   "source": [
    "<h1><center>Recommender Systems &amp; Collaborative Filtering<center></h1>\n",
    "\n"
   ]
  },
  {
   "cell_type": "markdown",
   "metadata": {},
   "source": [
    "<p>Sistemas de recomendação são uma das principais aplicações de machine learning na atualidade: estima-se que até **60%** da receita da Amazon venha de de recomendações [não tenho uma citação ainda, então isso é achismo].</p>\n",
    "\n",
    "<p>Em 2 de Outubro 2 de 2006, a Netflix ofereceu um prêmio de **US\\$ 1.000.000,00** a qualquer pessoa ou time que melhorasse seu algoritmo de recomendação em 10% ... o prêmio final foi conquistado em 21 Setembro de 2009, mais de 3 anos depois.</p>\n",
    "\n",
    "<p>Só estes exemplos já demonstram a importância real de boas recomendações ..e o impacto que algoritmos que obtém bons resultados podem ter.</p>\n",
    "\n",
    "<p>Collaborative Filtering é o 'carro-chefe' quando se pensa em sistemas de recomendação ...mas o que é um _filtro colaborativo_?</p>\n",
    "\n",
    "VAMOS PRO PPT! DEPOIS VOLTAMOS\n",
    "\n"
   ]
  },
  {
   "cell_type": "code",
   "execution_count": 59,
   "metadata": {
    "collapsed": false
   },
   "outputs": [],
   "source": [
    "from math import sqrt\n",
    "from critics import critics\n",
    "\n",
    "#SampleSet with movies\n",
    "movies={\n",
    "    'Bernadette': {\n",
    "        'Lady in the Water': 2.5, \n",
    "        'Snakes on a Plane': 1.0, \n",
    "        'Just My Luck': 3.0, \n",
    "        'Superman Returns': 3.5,\n",
    "        #'Star Wars': 1.0,\n",
    "        'Love Story': 5.0, \n",
    "        'The Notebook': 5.0},\n",
    "    'Amy': {\n",
    "        'Lady in the Water': 2.0, \n",
    "        'Snakes on a Plane': 3.5, \n",
    "        'Just My Luck': 1.5, \n",
    "        'Superman Returns': 5.0,\n",
    "        #'Star Wars': 5.0,\n",
    "        'Love Story': 3.5,\n",
    "        'The Notebook': 5.0}, \n",
    "    'Howard': {\n",
    "        'Lady in the Water': 4.5, \n",
    "        'Snakes on a Plane': 1.0,\n",
    "        # ###NO just my luck\n",
    "        'Superman Returns': 5.0,\n",
    "        #'Star Wars': 5.0,\n",
    "        # no Love Story\n",
    "        'The Notebook': 1.0},\n",
    "    'Raj': {\n",
    "        # ###NO lady in the water\n",
    "        'Snakes on a Plane': 3.5, \n",
    "        'Just My Luck': 3.0,\n",
    "        'Superman Returns': 4.0,\n",
    "        #'Star Wars': 5.0,\n",
    "        'Love Story': 5.0,\n",
    "        'The Notebook': 4.5},\n",
    "    'Leonard': {\n",
    "        'Lady in the Water': 2.0, \n",
    "        'Snakes on a Plane': 5.0, \n",
    "        'Just My Luck': 2.0, \n",
    "        'Superman Returns': 5.0,\n",
    "        #'Star Wars': 5.0,\n",
    "        'Love Story': 2.5,\n",
    "        'The Notebook': 2.5}, \n",
    "    'Sheldon': {\n",
    "        'Lady in the Water': 1.5, \n",
    "        'Snakes on a Plane': 5.0,\n",
    "        # ###no just my luck\n",
    "        'Superman Returns': 5.0, \n",
    "        #'Star Wars': 1.0,\n",
    "        'Love Story': 1.0,\n",
    "        'The Notebook': 1.0},\n",
    "    'Penny': {\n",
    "        # ###NO lady in the water\n",
    "        'Snakes on a Plane': 1.0,\n",
    "        # ###NO just my luck\n",
    "        'Superman Returns':4.0,\n",
    "        #'Star Wars': 2.5,\n",
    "        'Love Story':5.0,\n",
    "        # ###NO night listener\n",
    "        },\n",
    "    'Daniel': {\n",
    "        'Superman Returns': 1.0,\n",
    "        'The Notebook': 5.0,\n",
    "        #'Star Wars'\n",
    "    }\n",
    "}\n",
    "#################################################################\n",
    "def loadDataset(path=\"\"):\n",
    "    \"\"\" To load the dataSet\"\n",
    "        Parameter: The folder where the data files are stored\n",
    "        Return: the dictionary with the data\n",
    "    \"\"\"\n",
    "    #Recover the titles of the books\n",
    "    books = {}\n",
    "    for line in open(path+\"BX-Books.csv\"):\n",
    "        line = line.replace('\"', \"\")\n",
    "        (id,title) = line.split(\";\") [0:2]\n",
    "        books[id] = title\n",
    "\n",
    "    #Load the data\n",
    "    prefs = {}\n",
    "    count = 0\n",
    "    for line in open(path+\"BX-Book-Ratings.csv\"):\n",
    "        line = line.replace('\"', \"\")\n",
    "        line = line.replace(\"\\\\\",\"\")\n",
    "        (user,bookid,rating) = line.split(\";\")\n",
    "        try:\n",
    "            if float(rating) > 0.0:\n",
    "                prefs.setdefault(user,{})\n",
    "                prefs[user][books[bookid]] = float(rating)\n",
    "        except ValueError:\n",
    "            count+=1\n",
    "            print \"value error found! \" + user + bookid + rating\n",
    "        except KeyError:\n",
    "            count +=1\n",
    "            print \"key error found! \" + user + \" \" + bookid\n",
    "    return prefs\n",
    "#################################################################\n",
    "# transofrma pessoa, item -em-> item, pessoa\n",
    "def transformPrefs(prefs):\n",
    "    results = {}\n",
    "    for person in prefs:\n",
    "        for item in prefs[person]:\n",
    "            results.setdefault(item,{})\n",
    "\n",
    "            results[item][person] = prefs[person][item]\n",
    "    return results\n",
    "#################################################################\n",
    "# SIMILARIDADE com base da dist. euclideana -- que vimos\n",
    "def sim_euclidean(prefs, person1, person2):\n",
    "    #pego a lista de items que existem em ambos\n",
    "    si = {}\n",
    "    for item in prefs[person1]:\n",
    "        if item in prefs[person2]:\n",
    "            si[item] = 1\n",
    "\n",
    "    #se nao há items em comum, retorno zero\n",
    "    if len(si) == 0: return 0\n",
    "\n",
    "    #soma das diferencas\n",
    "    sum_of_squares = sum([pow(prefs[person1][item]-prefs[person2][item],2) for item in prefs[person1] if item in prefs[person2]])\n",
    "\n",
    "    return 1 / (1 + sum_of_squares)\n",
    "#################################################################\n",
    "#Returns the Pearson correlation coefficient for p1 and p2 \n",
    "def sim_pearson(prefs,p1,p2):\n",
    "    #pego a lista de items que existem em ambos\n",
    "    si = {}\n",
    "    for item in prefs[p1]:\n",
    "        if item in prefs[p2]: \n",
    "            si[item] = 1\n",
    "\n",
    "    #se nao há items em comum, retorno zero\n",
    "    if len(si) == 0: return 0\n",
    "\n",
    "    #sum calculations\n",
    "    n = len(si)\n",
    "\n",
    "    #sum of all preferences\n",
    "    sum1 = sum([prefs[p1][it] for it in si])\n",
    "    sum2 = sum([prefs[p2][it] for it in si])\n",
    "\n",
    "    #Sum of the squares\n",
    "    sum1Sq = sum([pow(prefs[p1][it],2) for it in si])\n",
    "    sum2Sq = sum([pow(prefs[p2][it],2) for it in si])\n",
    "\n",
    "    #Sum of the products\n",
    "    pSum = sum([prefs[p1][it] * prefs[p2][it] for it in si])\n",
    "\n",
    "    #Calculate r (Pearson score)\n",
    "    num = pSum - (sum1 * sum2/n)\n",
    "    den = sqrt((sum1Sq - pow(sum1,2)/n) * (sum2Sq - pow(sum2,2)/n))\n",
    "    if den == 0:\n",
    "        return 0\n",
    "\n",
    "    r = num/den\n",
    "\n",
    "    return r\n",
    "#################################################################\n",
    "#Returns the best matches for person from the prefs dictionary\n",
    "#Number of the results and similiraty function are optional params.\n",
    "def topMatches(prefs,person,n=5,similarity=sim_pearson):\n",
    "    scores = [(similarity(prefs,person,other),other) for other in prefs if other != person]\n",
    "    scores.sort()\n",
    "    scores.reverse()\n",
    "    return scores[0:n]\n",
    "#################################################################\n",
    "#Gets recommendations for a person by using a weighted average\n",
    "#of every other user's rankings\n",
    "def getRecommendations(prefs,person,similarity=sim_pearson):\n",
    "    totals = {}\n",
    "    simSums = {}\n",
    "    for other in prefs:\n",
    "        # nao me comparo com eu mesmo\n",
    "        if other == person: continue\n",
    "        # uso a fn. de similaridade provida    \n",
    "        sim = similarity(prefs,person,other)\n",
    "\n",
    "        # caso haja, ignore notas de zero ou menos\n",
    "        if sim <= 0: continue\n",
    "            \n",
    "        for item in prefs[other]:\n",
    "            # so olhe para filmes que ainda nao vi\n",
    "            if item not in prefs[person] or prefs[person][item] == 0:\n",
    "                #Similarity * score\n",
    "                totals.setdefault(item,0)\n",
    "                totals[item] += prefs[other][item] * sim\n",
    "                #Sum of similarities\n",
    "                simSums.setdefault(item,0)\n",
    "                simSums[item] += sim\n",
    "\n",
    "    #crio uma lista normalizada\n",
    "    rankings = [(total/simSums[item],item) for item,total in totals.items()]\n",
    "\n",
    "    #retorno rearrumado de maior a menor\n",
    "    rankings.sort()\n",
    "    rankings.reverse()\n",
    "    return rankings\n"
   ]
  },
  {
   "cell_type": "code",
   "execution_count": 60,
   "metadata": {
    "collapsed": false
   },
   "outputs": [
    {
     "data": {
      "text/plain": [
       "0.058823529411764705"
      ]
     },
     "execution_count": 60,
     "metadata": {},
     "output_type": "execute_result"
    }
   ],
   "source": [
    "sim_euclidean(critics,'98556', '180727')"
   ]
  },
  {
   "cell_type": "code",
   "execution_count": 61,
   "metadata": {
    "collapsed": false
   },
   "outputs": [
    {
     "data": {
      "text/plain": [
       "0.6622661785325219"
      ]
     },
     "execution_count": 61,
     "metadata": {},
     "output_type": "execute_result"
    }
   ],
   "source": [
    "sim_pearson(critics,'180727', '177432')"
   ]
  },
  {
   "cell_type": "code",
   "execution_count": 62,
   "metadata": {
    "collapsed": false
   },
   "outputs": [
    {
     "data": {
      "text/plain": [
       "[(1.0, '69721'),\n",
       " (1.0, '28667'),\n",
       " (1.0, '224646'),\n",
       " (1.0, '182212'),\n",
       " (1.0, '11676'),\n",
       " (0.5, '4157'),\n",
       " (0.5, '28729'),\n",
       " (0.5, '224650'),\n",
       " (0.5, '199616'),\n",
       " (0.5, '189139')]"
      ]
     },
     "execution_count": 62,
     "metadata": {},
     "output_type": "execute_result"
    }
   ],
   "source": [
    "topMatches(critics,'98556',10,sim_euclidean)"
   ]
  },
  {
   "cell_type": "code",
   "execution_count": 64,
   "metadata": {
    "collapsed": false
   },
   "outputs": [
    {
     "data": {
      "text/plain": [
       "[(4.322167619090522, 'Love Story'),\n",
       " (2.6109225700944156, 'Just My Luck'),\n",
       " (2.4313712546785573, 'Lady in the Water'),\n",
       " (2.3741151597664496, 'Snakes on a Plane')]"
      ]
     },
     "execution_count": 64,
     "metadata": {},
     "output_type": "execute_result"
    }
   ],
   "source": [
    "getRecommendations(movies,'Daniel', sim_euclidean)[:5]"
   ]
  },
  {
   "cell_type": "code",
   "execution_count": null,
   "metadata": {
    "collapsed": true
   },
   "outputs": [],
   "source": []
  }
 ],
 "metadata": {
  "kernelspec": {
   "display_name": "Python 2",
   "language": "python",
   "name": "python2"
  },
  "language_info": {
   "codemirror_mode": {
    "name": "ipython",
    "version": 2
   },
   "file_extension": ".py",
   "mimetype": "text/x-python",
   "name": "python",
   "nbconvert_exporter": "python",
   "pygments_lexer": "ipython2",
   "version": "2.7.11"
  }
 },
 "nbformat": 4,
 "nbformat_minor": 0
}
