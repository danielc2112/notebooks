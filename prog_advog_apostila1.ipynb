{
 "cells": [
  {
   "cell_type": "markdown",
   "metadata": {},
   "source": [
    "<h1><br/><br/><br/><br/><br/><br/><br/><br/><br/><br/><br/><br/>\n",
    "<center><u>Programação para Advogados - Apostila 1</u></center></h1>"
   ]
  },
  {
   "cell_type": "markdown",
   "metadata": {},
   "source": [
    "<h4><br/> <br/> <br/> <br/> <br/> <br/> <br/> <br/> <br/><center>Daniel Chada & Ivar Hartmann<br/>2014</center><br/> <br/> <br/> <br/> <br/> <br/> <br/> <br/> <br/> <br/> <br/> <br/> <br/> <br/> <br/> <br/> <br/> <br/></h4>"
   ]
  },
  {
   "cell_type": "markdown",
   "metadata": {},
   "source": [
    "<h2><br/> <br/> <br/> <br/> <br/> <br/> <br/> <br/> <br/><center><span id=\"indice\">Índice<span></center><br/> <br/> <br/> <br/> <br/> <br/> <br/> <br/> <br/></h2>\n"
   ]
  },
  {
   "cell_type": "markdown",
   "metadata": {},
   "source": [
    "+ <a href=\"#introducao\">Introdução<br/><br/></a>\n",
    "\n",
    "+ <a href=\"#aula_0\">Módulo 0 - Boas Vindas<br/><br/></a>\n",
    "\n",
    "+ <a href=\"#aula_1\">Módulo 1 - Variáveis, Números, Strings (pte. 1)<br/></a>\n",
    "\n",
    "    - <a href=\"#literais\">Literais</a>\n",
    "    \n",
    "    - <a href=\"#variaveis\">Variáveis</a>\n",
    "    \n",
    "    - <a href=\"#operadores\">Operadores</a>\n",
    "    \n",
    "    - <a href=\"#expressoes\">Expressões</a>\n",
    "    \n",
    "    - <a href=\"#statements\">*Statements* (Declarações)</a>\n",
    "    \n",
    "    - <a href=\"#strings\">Strings</a>\n",
    "    \n",
    "    - <a href=\"#none\">O None</a>\n",
    "    \n",
    "    - <a href=\"#funcoes_uteis\">Funções Úteis: dir(), type(), locals(), globals()</a>\n",
    "    \n",
    "    - <a href=\"#tipagem_dinamica\">Tipagem Dinâmica<br/><br/></a>\n",
    "  \n",
    "+ <a href=\"#aula_2\">Módulo 2</a>\n",
    "\n",
    "    - <a href=\"#estruturas_de_dados\">Estruturas de dados</a>\n",
    "    \n",
    "    - <a href=\"#lista_e_tupla\">Lista e tupla</a>\n",
    "    \n",
    "    - <a href=\"#indexacao_e_recorte\">Indexação (*indexing*) e Recorte (*slicing*)</a>\n",
    "    \n",
    "    - <a href=\"#if_elif_else\">Condicionando a sequência do programa: if, elif, else</a>\n",
    "    \n",
    "    - <a href=\"#operadores_logicos\">Operadores Lógicos: not, or, and<br/><br/></a>\n",
    "\n",
    "+ <a href=\"#aula_3\">Módulo 3 - Funções (pte. 1)</a>\n",
    "\n",
    "    - <a href=\"#definindo\">Definindo ('declarando'):</a>\n",
    "    \n",
    "    - <a href=\"#usando\">Usando ('chamando'):</a>\n",
    "    \n",
    "    - <a href=\"#o_que_e_escopo\">O que é escopo?</a>\n",
    "    \n",
    "    - <a href=\"#revendo_operadores\">Revendo operadores</a>\n",
    "    \n",
    "    - <a href=\"#pass\">A palavra reservada pass</a>\n",
    "    \n",
    "    - <a href=\"#pass_by_\">Mudando variáveis dentro de um escopo --- *Pass by Value, Pass by Reference*, ** *pass-by-object reference* **</a>\n",
    "    \n",
    "    - <a href=\"#return\">Retornando valores (ou não)<br/><br/></a>\n",
    "    \n",
    "+ <a href=\"#aula_4\">Módulo 4 - Iteração com for, range(); a \"Sua Amiga a Internet\"</a>\n",
    "\n",
    "    - <a href=\"#for\">O loop for:</a>\n",
    "    \n",
    "    - <a href=\"#range\">Usando range()</a>\n",
    "    \n",
    "    - <a href=\"#amiga\">Sua Amiga a Internet\" ou \"Olhe no Stack Overflow Antes!\"<br/><br/></a>\n",
    "\n",
    "+ <a href=\"#aula_5\">Módulo 5 - Importação de Módulos, Abrindo e Manipulando Arquivos, Dicionários</a>\n",
    "\n",
    "    - <a href=\"#arquivos\">Arquivos - abrindo, e manipulando, de dentro e de fora</a>\n",
    "    \n",
    "    - <a href=\"#dicionarios\">Dicionários</a>\n",
    "    \n",
    "    - <a href=\"#modulos\">Importando Módulos</a>\n",
    "    \n",
    "    - <a href=\"#chdir\">Manipulando arquivos em si, não só seu conteúdo (o módulo os)<br/><br/></a>\n",
    "    \n",
    "+ <a href=\"#aula_6\">Módulo 6 - Funções (pte. 2); Built-ins: zip, map, reduce, filter; usando lambda; usando \\*args, \\*\\*kwargs</a>\n",
    "\n",
    "    - <a href=\"#outras_built_in\">Outras Funcões Built-in</a>\n",
    "    \n",
    "    - <a href=\"#lambda\">Funções anônimas com lambda</a>\n",
    "    \n",
    "    - <a href=\"#defaults\">Valores default em funções</a>\n",
    "    \n",
    "    - <a href=\"#args_kwargs\">Parâmetros Variáveis com \\*args, \\*\\*kwargs<br/><br/></a>\n",
    "\n",
    "+ <a href=\"#aula_7\">Módulo 7 - Strings Avançados</a>\n",
    "\n",
    "    - <a href=\"#unicode\">Unicode strings</a>\n",
    "    \n",
    "    - <a href=\"#formatacao\">Formatação</a>\n",
    "    \n",
    "    - <a href=\"#multi_line\">Multi-line strings</a>\n",
    "    \n",
    "    - <a href=\"#coding\">Enfim ...O porque do \"#coding: utf-8\" no início dos arquivos!<br/><br/></a>\n",
    "    \n",
    "+ <a href=\"#aula_8\">Módulo 8 - Números Binários, Tabelas Verdade, OR, AND, XOR, NAND</a>\n",
    "\n",
    "+ <a href=\"#aula_9\">Módulo 9 - Usando APIs Externas</a>"
   ]
  },
  {
   "cell_type": "markdown",
   "metadata": {},
   "source": [
    "<span id=\"introducao\"><h2>Introdução</h2></span>"
   ]
  },
  {
   "cell_type": "markdown",
   "metadata": {},
   "source": [
    "Esta apostila visa prover resumos do conteúdo visto em sala durante as aulas teóricas da Atividade Complementar 'Programação para Advogados'. Não se visa que esta seja uma referência completa nem aprofundada de nenhum dos temas abordados em seu texto, mas sim uma introdução amena a certos conceitos de utilidede a alunos de graduação de Direito ou de outros temas de 'Humanas'.\n",
    "\n",
    "Almeja-se que os temas aqui abordados formem uma base conceitual para posterior aprofundamento tanto na teoria quanto na pratica do desenvolvimento de *software*.\n"
   ]
  },
  {
   "cell_type": "markdown",
   "metadata": {},
   "source": [
    "<span id=\"aula_0\"><h2>Módulo 0 - Boas Vindas</h2></span>"
   ]
  },
  {
   "cell_type": "markdown",
   "metadata": {},
   "source": [
    "Bem-vindos Advo* ...programadores!\n",
    "\n",
    "Esta apostila segue o material coberto nas aulas teóricas da ATC \"Programação para Advogados\". Teremos exemplos práticos toda semana. O formato desta apostila tem dupla funcionalidade: i. de ser uma referência impressa para acompanhamento e ii. ser um repositório de exemplos de código a serem explorados e editados.\n",
    "\n",
    "Com este fim, escolhemos oferecer não só a versão impressa da apostila, mas também uma versão em iPython Notebook. iPython Notebook é um *framework* que permite a edição de texto, junto com a execução de código Python, em células auto-contidas. Desta forma é possível executar e editar, no seu próprio computador, os códigos dos exemplos expostos aqui.\n",
    "\n",
    "A homepage do [Ipython Notebook](http://ipython.org/notebook.html) contém instruções para instalação para Windows, OSX e Linux.\n",
    "\n",
    "Nosso desejo é que você, leitor e aluno da ATC, use esta funcionalidade para melhor entender o código provido a cada exemplo e tente explorar diferentes aspectos do Python.\n",
    "\n",
    "Boa Sorte!"
   ]
  },
  {
   "cell_type": "markdown",
   "metadata": {},
   "source": [
    "<span id=\"aula_1\"><h2>Módulo 1 - Variáveis, Números, Strings (pte. 1)</h2></span>"
   ]
  },
  {
   "cell_type": "markdown",
   "metadata": {},
   "source": [
    "#### <span id=\"literais\"><h4>Literais</h4></span>"
   ]
  },
  {
   "cell_type": "markdown",
   "metadata": {},
   "source": [
    "São as expressões e a notação usadas para gerar os valores de tipos *built-in* como números inteiros, longos (que ocupam mais espaço em memória, mas são maiores), decimais (também conhecidos como *floating point* ou *float*), números complexos e *strings*. Exemplos: **4, 3.2e212, 3.14159, 1+3j,'Ivar'**.\n",
    "\n",
    "Estes são chamados *literais* pois os objetos são literalmente aquilo que representam: **3, \"spam\", 7e4**\n",
    "\n",
    "Literais podem ser declarados, ou convertidos (dentro do possível) com **operadores** (que veremos abaixo) *built-in* do Python. isto é:"
   ]
  },
  {
   "cell_type": "code",
   "execution_count": 1,
   "metadata": {
    "collapsed": false
   },
   "outputs": [
    {
     "data": {
      "text/plain": [
       "4"
      ]
     },
     "execution_count": 1,
     "metadata": {},
     "output_type": "execute_result"
    }
   ],
   "source": [
    "int(4.5) # gera um inteiro (que geralmente usa até 32 bits de memória)"
   ]
  },
  {
   "cell_type": "code",
   "execution_count": 2,
   "metadata": {
    "collapsed": false
   },
   "outputs": [
    {
     "data": {
      "text/plain": [
       "'4.5'"
      ]
     },
     "execution_count": 2,
     "metadata": {},
     "output_type": "execute_result"
    }
   ],
   "source": [
    "str(4.5) # gera uma string"
   ]
  },
  {
   "cell_type": "code",
   "execution_count": 3,
   "metadata": {
    "collapsed": false
   },
   "outputs": [
    {
     "data": {
      "text/plain": [
       "4500000000000000000000L"
      ]
     },
     "execution_count": 3,
     "metadata": {},
     "output_type": "execute_result"
    }
   ],
   "source": [
    "long(4.5e21) # gera um número longo, que tem precisão ilimitada (note o L ao final)"
   ]
  },
  {
   "cell_type": "code",
   "execution_count": 4,
   "metadata": {
    "collapsed": false
   },
   "outputs": [
    {
     "data": {
      "text/plain": [
       "3.0"
      ]
     },
     "execution_count": 4,
     "metadata": {},
     "output_type": "execute_result"
    }
   ],
   "source": [
    "float(3) # gera um decimal, também chamado de 'ponto flutuante' (floating point)"
   ]
  },
  {
   "cell_type": "code",
   "execution_count": 5,
   "metadata": {
    "collapsed": false
   },
   "outputs": [
    {
     "data": {
      "text/plain": [
       "True"
      ]
     },
     "execution_count": 5,
     "metadata": {},
     "output_type": "execute_result"
    }
   ],
   "source": [
    "bool(4.5) # gera um booleano"
   ]
  },
  {
   "cell_type": "code",
   "execution_count": 6,
   "metadata": {
    "collapsed": false
   },
   "outputs": [
    {
     "data": {
      "text/plain": [
       "False"
      ]
     },
     "execution_count": 6,
     "metadata": {},
     "output_type": "execute_result"
    }
   ],
   "source": [
    "bool(0.000) # zero é sempre falso no Python"
   ]
  },
  {
   "cell_type": "markdown",
   "metadata": {},
   "source": [
    "Python permite uma série de outros formatos literais muito úteis na computação e ciência, mas que não cabem no escopo desta apostila, como números complexos (a + b√-1) octais (0-7), hexadecimais (1-9,A-F) e binários (0,1). \n",
    "\n",
    "Veremos binários brevemente em uma das últimas unidades."
   ]
  },
  {
   "cell_type": "code",
   "execution_count": 7,
   "metadata": {
    "collapsed": false
   },
   "outputs": [
    {
     "data": {
      "text/plain": [
       "(1+3.14159j)"
      ]
     },
     "execution_count": 7,
     "metadata": {},
     "output_type": "execute_result"
    }
   ],
   "source": [
    "complex(1,3.14159)"
   ]
  },
  {
   "cell_type": "code",
   "execution_count": 8,
   "metadata": {
    "collapsed": false
   },
   "outputs": [
    {
     "data": {
      "text/plain": [
       "'0764'"
      ]
     },
     "execution_count": 8,
     "metadata": {},
     "output_type": "execute_result"
    }
   ],
   "source": [
    "oct(500) # um zero sempre o precede"
   ]
  },
  {
   "cell_type": "code",
   "execution_count": 9,
   "metadata": {
    "collapsed": false
   },
   "outputs": [
    {
     "data": {
      "text/plain": [
       "'0x1f4'"
      ]
     },
     "execution_count": 9,
     "metadata": {},
     "output_type": "execute_result"
    }
   ],
   "source": [
    "hex(500) # um '0x' sempre o precede"
   ]
  },
  {
   "cell_type": "code",
   "execution_count": 10,
   "metadata": {
    "collapsed": false
   },
   "outputs": [
    {
     "data": {
      "text/plain": [
       "'0b111110100'"
      ]
     },
     "execution_count": 10,
     "metadata": {},
     "output_type": "execute_result"
    }
   ],
   "source": [
    "bin(500) # um '0b' sempre o precede"
   ]
  },
  {
   "cell_type": "markdown",
   "metadata": {},
   "source": [
    "<span id=\"variaveis\"><h4>Variáveis</h4><span>"
   ]
  },
  {
   "cell_type": "markdown",
   "metadata": {},
   "source": [
    "**Variáveis** são nomes que o programador dá a *objetos* no seu código. Podemos pensar em **objetos** como espaços de memória alocados no computador. Estes espaços têm diferentes tamanhos e são grandes o suficiente para representar o que quer que cada objeto seja. Um inteiro no Python, por exemplo, geralmente ocupa 32 bits de memória.\n",
    "\n",
    "Assim, uma variável referencia um objeto. Uma **referência** é um ponteiro, isto é, uma seta que aponta da variável (nome) ao objeto (lugar). \n",
    "\n",
    "Veja a figura 1.1: internamente, a variável aponta para o espaço de memória criado por se executar a expressão (veja o que é uma *expressão* abaixo) do operador 3.\n",
    "\n",
    "<img src=\"img/fig_1.1.svg\" style=\"width:400px\"/>\n",
    "\n",
    "Variáveis são criadas no momento que você as atribue um valor (*tecnicamente* algumas são criadas antes disso, mas para nós basta esta definição). Atribuições subsequentes no código mudam o valor da variável (i.e. mudam para onde ela aponta). Variáveis nunca guardam em si nenhum tipo de informação, elas simplesmente se referem a um lugar onde algo fica. [1]\n",
    "\n",
    "Quando uma variável aparece em uma expressão, ela é imediatamente substituída pelo objeto para qual aponta:\n",
    "\n"
   ]
  },
  {
   "cell_type": "code",
   "execution_count": 11,
   "metadata": {
    "collapsed": false
   },
   "outputs": [
    {
     "name": "stdout",
     "output_type": "stream",
     "text": [
      "3\n"
     ]
    }
   ],
   "source": [
    "x = 3   # crio o nome 'x' e mando ele apontar para o objeto '3' gerado na memória\n",
    "print x # não imprimo 'x', e sim o valor para o qual 'x' aponta"
   ]
  },
  {
   "cell_type": "code",
   "execution_count": 12,
   "metadata": {
    "collapsed": false
   },
   "outputs": [
    {
     "name": "stdout",
     "output_type": "stream",
     "text": [
      "Python para advogados é mole!\n"
     ]
    }
   ],
   "source": [
    "y = \"Python para advogados é mole!\"\n",
    "print y"
   ]
  },
  {
   "cell_type": "markdown",
   "metadata": {},
   "source": [
    "A nomenclatura de variáveis deve seguir algumas regras: <br/>i. o primeiro caractére da variável deve ser uma letra ou o \\_ (underscore); <br/>ii. nomes de variáveis são *case-sensitive*; <br/>iii. nomes de variáveis só podem conter caracréres alfanuméricos ou o *underscore* (a-z,A-Z,0-9,\\_) "
   ]
  },
  {
   "cell_type": "code",
   "execution_count": 13,
   "metadata": {
    "collapsed": false
   },
   "outputs": [
    {
     "name": "stdout",
     "output_type": "stream",
     "text": [
      "0 1 2\n"
     ]
    }
   ],
   "source": [
    "_oi_1 = '0'; Oi = 1; oi = '2' # exemplos de variáveis (dica: o ';' funciona igual à quebra de linha: permite um novo comando)\n",
    "print _oi_1, Oi, oi\n",
    "\n"
   ]
  },
  {
   "cell_type": "markdown",
   "metadata": {},
   "source": [
    "<span id=\"operadores\"><h4>Operadores</h4></span>"
   ]
  },
  {
   "cell_type": "markdown",
   "metadata": {},
   "source": [
    "**Operadores** computam algum valor, quando executadas pelo Python. A tabela 1.1 lista todos os operadores do Python, em ordem de precedência.<br/>"
   ]
  },
  {
   "cell_type": "markdown",
   "metadata": {},
   "source": [
    "<table width=\"100%\">\n",
    "<tbody>\n",
    "<tr>\n",
    "<td>operador</td><td>descrição</td><td>veremos?</td>\n",
    "<tr>\n",
    "<td><code>yield</code> x</td><td>protocolo de envio de uma função geradora</td><td>talvez</td>\n",
    "</tr>\n",
    "<tr>\n",
    "<td><code>lambda</code> args: expressão</td><td>geração de função anônima</td><td>sim</td>\n",
    "</tr>\n",
    "<tr>\n",
    "<td>x <code>if</code> y <code>else</code> z</td><td>seleção ternária</td><td>talvez</td>\n",
    "</tr>\n",
    "<tr>\n",
    "<td>x <code>or</code> y</td><td>'ou' lógico</td><td>sim</td>\n",
    "</tr>\n",
    "<tr>\n",
    "<td>x <code>and</code> y</td><td>'e' lógico</td><td>sim</td>\n",
    "</tr>\n",
    "<tr>\n",
    "<td><code>not</code> x</td><td>negação lógica</td><td>sim</td>\n",
    "</tr>\n",
    "<tr>\n",
    "<td>x <code>in</code> y; x <code>not in</code> y</td><td>pertence (iteráveis, conjuntos)</td><td>sim</td>\n",
    "</tr>\n",
    "<tr>\n",
    "<td>x <code>is</code> y; x <code>is not</code> y</td><td>teste de identidade de <i>objeto</i></td><td>sim</td>\n",
    "</tr>\n",
    "<tr>\n",
    "<td>x <code>&gt;,&gt;=,&lt;,&lt;=</code> y</td><td>compara magnitude, ou sub/super-conjunto</td><td>sim</td>\n",
    "</tr>\n",
    "<tr>\n",
    "<td>x <code>==</code> y, x <code>!=</code> y</td><td>igualdade/desigualdade de <i>valores</i></td><td>sim</td>\n",
    "</tr>\n",
    "<tr>\n",
    "<td>x | y</td><td>'ou' bitwise, união de conjuntos</td><td>sim</td>\n",
    "</tr>\n",
    "<tr>\n",
    "<td>x &amp; y</td><td>'e' bitwise, interseção de conjuntos</td><td>sim</td>\n",
    "</tr>\n",
    "<tr>\n",
    "<td>x ^ y</td><td>xor bitwise</td><td>sim</td>\n",
    "</tr>\n",
    "<tr>\n",
    "<td>x <code>&lt;&lt;,&gt;&gt;</code> y</td><td>shiftar x, y bits para a esquerda/direita</td><td>sim</td>\n",
    "</tr>\n",
    "<tr>\n",
    "<td>x <code>+</code> y</td><td>adição, concatenação</td><td>sim</td>\n",
    "</tr>\n",
    "<tr>\n",
    "<td>x <code>-</code> y</td><td>subtração, deferença de conjuntos</td><td>sim</td>\n",
    "</tr>\n",
    "<tr>\n",
    "<td>x <code></code> y</td><td>multiplicação, repetição</td><td>sim</td>\n",
    "</tr>\n",
    "<tr>\n",
    "<td>x <code>%</code> y</td><td>módulo (resto), formatação</td><td>sim</td>\n",
    "</tr>\n",
    "<tr>\n",
    "<td>x <code>/,//</code> y</td><td>divisão: real e piso</td><td>sim</td>\n",
    "</tr>\n",
    "<tr>\n",
    "<td><code>-</code>x,<code>+</code>x</td><td>negação, identidade</td><td>sim</td>\n",
    "</tr>\n",
    "<tr>\n",
    "<td><code>~</code>x</td><td>'não' bitwise, inversão</td><td>sim</td>\n",
    "</tr>\n",
    "<tr>\n",
    "<td>x <code>**</code> y</td><td>potênciação</td><td>sim</td>\n",
    "</tr>\n",
    "<tr>\n",
    "<td>x<code>[i]</code></td><td>indexação (sequências, strings, etc)</td><td>sim</td>\n",
    "</tr>\n",
    "<tr>\n",
    "<td>x<code>[i:j:k]</code></td><td>recorte (<i>slicing</i>)</td><td>sim</td>\n",
    "</tr>\n",
    "<tr>\n",
    "<td>x<code>(...)</code></td><td>chamada (função, método, classe, 'chamáveis')</td><td>sim</td>\n",
    "</tr>\n",
    "<tr>\n",
    "<td>x.<code><i>attr</i></code></td><td>referência a <i>attr</i></td><td>sim</td>\n",
    "</tr>\n",
    "<tr>\n",
    "<td><code>(...)</code></td><td>tupla, expressão, expressão geradora</td><td>sim</td>\n",
    "</tr>\n",
    "<tr>\n",
    "<td><code>[...]</code></td><td>lista, <i>list comprehension</i></td><td>sim</td>\n",
    "</tr>\n",
    "<tr>\n",
    "<td><code>{...}</code></td><td>dicionário</td><td>sim</td>\n",
    "</tr>\n",
    "<tr>\n",
    "<td></td><td></td><td><b>fonte: <a href=\"http://tutorialspoint.com\">tutorialspoint</a></b></td>\n",
    "</tr>\n",
    "</tbody>\n",
    "</table>"
   ]
  },
  {
   "cell_type": "markdown",
   "metadata": {},
   "source": [
    "<span id=\"expressoes\"><h4>Expressões</h4><span>"
   ]
  },
  {
   "cell_type": "markdown",
   "metadata": {},
   "source": [
    "**Expressões** são combinações de objetos (literais ou outros) e operadores que computam algum valor, quando executadas pelo Python. \n",
    "\n",
    "Expressões compostas seguem as regras de precedência de operadores. Expressões compostas podem, porém, ser agrupadas por parênteses em subexpressões, ignorando as regras de prioridade normalmente aplicadas aos operadores (veja a Tabela 1.1 e o código abaixo).\n",
    "\n"
   ]
  },
  {
   "cell_type": "code",
   "execution_count": 14,
   "metadata": {
    "collapsed": false
   },
   "outputs": [
    {
     "name": "stdout",
     "output_type": "stream",
     "text": [
      "14 20\n"
     ]
    }
   ],
   "source": [
    "x = 2 + 3 * 4 # o lado direito do igual é uma expressão\n",
    "y = (2 + 3) * 4 # aqui também\n",
    "print x, y"
   ]
  },
  {
   "cell_type": "markdown",
   "metadata": {},
   "source": [
    "<span id=\"statements\"><h4>*Statements* (Declarações)</h4></span>"
   ]
  },
  {
   "cell_type": "markdown",
   "metadata": {},
   "source": [
    "Uma ***statement*** no Python é qualquer linha de código que o Python consiga interpretar e executar. Expressões podem ser declarações ou parte delas, mas nem toda expressão é uma *statement*.\n",
    "\n",
    "Essa distinção se tornará mais importante quando estudarmos funções anônimas com o operador <code>lambda</code> e as expressões geradas com ele."
   ]
  },
  {
   "cell_type": "markdown",
   "metadata": {},
   "source": [
    "#### <span id=\"strings\"><h4>Strings</h4></span>"
   ]
  },
  {
   "cell_type": "markdown",
   "metadata": {},
   "source": [
    "**Strings** são cadeias de caracteres, delimitadas por aspas (simples ou duplas). Strings são *literais* de enorme utilidade na programação, e vamos usá-los constantemente neste curso. Esta 'parte 1' sobre strings expõe o básico do seu funcionamento, para que possamos começar a criá-los e manipulá-los.\n",
    "\n",
    "A primeira característica a mencionar é que strings, no Python, podem ser delimitados por aspas simples ('') ou duplas (\"\"), desde que se mantenha a conformidade, isto é, se abrimos uma string com aspas simples, o Python só entenderá que a string se fechou ao ver a próxima aspa simples. Veja:"
   ]
  },
  {
   "cell_type": "code",
   "execution_count": 15,
   "metadata": {
    "collapsed": false
   },
   "outputs": [
    {
     "name": "stdout",
     "output_type": "stream",
     "text": [
      "('A', 'A')\n"
     ]
    }
   ],
   "source": [
    "x = (\"A\",'A') # aspas e aspas duplas são a mesma coisa, isto é só uma conveniência\n",
    "print x"
   ]
  },
  {
   "cell_type": "markdown",
   "metadata": {},
   "source": [
    "Strings comportam caracteres especiais e difíceis de digitar com **sequências de escape**. No Python, toda sequência de escape é iniciada pela 'barra invertida' (*backslash*): \\\\\n",
    "\n",
    "Sequências de escape são consideradas como um único caractere, apesar de, em geral, serem digitadas com dois (a barra invertida e mais um). As principais sequências de escape são <code>\\n</code> (nova linha), <code>\\t</code> (tab), <code>\\'</code> (aspas simples, <code>\\\"</code> (aspas duplas), <code>\\\\\\\\</code> (a própria barra invertida).\n",
    "\n",
    "Então, se temos uma string definida com aspas duplas ...e precisamos inserir aspas duplas *dentro* da mesma string, podemos usar a sequencia de escape <code>\\\"</code> que dirá ao Python que esta aspa dupla *não* deve ser interpretado como o fim da minha string.\n",
    "\n",
    "Uma lista das sequências de escape permitidas pelo Python está no tutorial de strings do site [TutorialsPoint](http://www.tutorialspoint.com/python/python_strings.htm):"
   ]
  },
  {
   "cell_type": "code",
   "execution_count": 16,
   "metadata": {
    "collapsed": false
   },
   "outputs": [
    {
     "name": "stdout",
     "output_type": "stream",
     "text": [
      "o advogado : 10\n",
      "o advo\n",
      "gado : 11\n",
      "\n",
      "disse\t\"oi\" : 11\n"
     ]
    }
   ],
   "source": [
    "x = 'o advogado'\n",
    "y = 'o advo\\ngado'\n",
    "# a função built-in len() dá o comprimento do objeto passado\n",
    "print x,':',len(x)\n",
    "print y,':',len(y)\n",
    "\n",
    "# a sequência de escape \\\" faz com que a aspa dupla \n",
    "# não seja interpretada como delimitador da string!\n",
    "x = \"\\ndisse\\t\\\"oi\\\"\"\n",
    "print x,':',len(x)"
   ]
  },
  {
   "cell_type": "markdown",
   "metadata": {},
   "source": [
    "Strings são iteráveis (como veremos na seção sobre iteração) e implementam diferentes operadores, incluindo concatenação (via o mais, '+'), indexação e slicing (com '[]') e repetição (via o operador de multiplicação, '*':"
   ]
  },
  {
   "cell_type": "code",
   "execution_count": 17,
   "metadata": {
    "collapsed": false
   },
   "outputs": [
    {
     "name": "stdout",
     "output_type": "stream",
     "text": [
      "Daniel\n",
      "oi! oi! oi! \n",
      "Oi, me chamo Felipe\n"
     ]
    }
   ],
   "source": [
    "x = \"Dani\" + \"el\" # concatenação com +\n",
    "print x\n",
    "\n",
    "x = 'oi! ' * 3 # repetição com *\n",
    "print x\n",
    "\n",
    "x = \"Oi, me chamo Daniel\" # slicing com []\n",
    "print x[0:13] + 'Felipe'\n"
   ]
  },
  {
   "cell_type": "markdown",
   "metadata": {},
   "source": [
    "<br/> Veremos mais sobre estes operadores no módulo sobre listas."
   ]
  },
  {
   "cell_type": "markdown",
   "metadata": {},
   "source": [
    "<span id=\"none\"><h4>O <code>None</code></h4></span>"
   ]
  },
  {
   "cell_type": "markdown",
   "metadata": {},
   "source": [
    "O <code>None</code> é uma palavra reservada do Python e uma constante *built-in*. <code>None</code> implica a ausência de valor. <code>None</code> pode ser usado quando queremos declarar uma variável, mas não lhe dar nenhum valor. Vale ressaltar que <code>None</code> sempre é avaliado como falso (veja o exemplo abaixo).\n",
    "\n",
    "Veremos mais sobre o <code>None</code> na seção sobre funções."
   ]
  },
  {
   "cell_type": "code",
   "execution_count": 18,
   "metadata": {
    "collapsed": false
   },
   "outputs": [
    {
     "name": "stdout",
     "output_type": "stream",
     "text": [
      "None\n",
      "False\n",
      "3\n"
     ]
    }
   ],
   "source": [
    "x = None\n",
    "print x\n",
    "print bool(x)\n",
    "x = 3\n",
    "print x"
   ]
  },
  {
   "cell_type": "markdown",
   "metadata": {},
   "source": [
    "<span id=\"funcoes_uteis\"><h4>Funções Úteis: <code>dir()</code>, <code>type()</code>, <code>locals()</code>, <code>globals()</code></h4></span>"
   ]
  },
  {
   "cell_type": "markdown",
   "metadata": {},
   "source": [
    "Existem certas funcionalidades muito úteis no Python, que são disponibilizadas como funções do próprio Python, não atreladas a algum módulo ou objeto. Veremos muitas destas no decorrer desta apostila. Vamos começar explorando quatro:\n",
    "\n",
    "<code>type(x)</code>: a função type retorna um objeto <code>type</code> que representa o tipo da variável x em questão (veja a seção tipagem dinâmica para exemplos).\n",
    "\n",
    "<code>dir(x)</code>: retorna uma lista dos atributos (variáveis e funções) internos da variável x em questão\n",
    "\n",
    "<code>locals()</code>: retorna uma lista co os nomes de todas as variáveis no escopo local (veremos mais sobre escopo no módulo sobre funções)\n",
    "\n",
    "<code>globals()</code>: retorna uma lista co os nomes de todas as variáveis no escopo global (veremos mais sobre escopo no módulo sobre funções)\n",
    "\n",
    "<code>print</code> é um *statement* tão utilizado no Python, que os criadores da linguagem não requerem o uso de parênteses para sua chamada (isso mudou no Python 3). Vale notar que o print no Python 2.x **não** é um operador nem chamada de função."
   ]
  },
  {
   "cell_type": "markdown",
   "metadata": {},
   "source": [
    "#### <span id=\"tipagem_dinamica\"><h4>Tipagem Dinâmica</h4></span>"
   ]
  },
  {
   "cell_type": "markdown",
   "metadata": {},
   "source": [
    "O Python utiliza uma forma de designação de tipos chamada 'tipagem dinâmica' (em contraste à 'tipagem estática'). Isto significa que toda a informação sobre o **tipo** de ma variável fica guardada com o **objeto** ao qual ela aponta, não com a própria variável.\n",
    "\n",
    "Veja:"
   ]
  },
  {
   "cell_type": "code",
   "execution_count": 19,
   "metadata": {
    "collapsed": false
   },
   "outputs": [
    {
     "name": "stdout",
     "output_type": "stream",
     "text": [
      "<type 'int'>\n",
      "<type 'str'>\n",
      "<type 'NoneType'>\n",
      "<type 'builtin_function_or_method'>\n",
      "<type 'type'>\n"
     ]
    }
   ],
   "source": [
    "x = 3            # x é um número\n",
    "print type(x)\n",
    "x = 'e agora?'   # x é um string\n",
    "print type(x)\n",
    "x = None         # x agora é o None! (única coisa no Python que tem o tipo NoneType)\n",
    "print type(x)\n",
    "x = len          # x agora é a função len, logo seu tipo é 'função built-in'\n",
    "print type(x)\n",
    "x = type         # finalmente, x agora é a própria função type, seu tipo então é 'type'\n",
    "print x"
   ]
  },
  {
   "cell_type": "markdown",
   "metadata": {},
   "source": [
    "Encontramos uma lista dos tipos built-in do Python em [python.org](https://docs.python.org/2/library/types.html)"
   ]
  },
  {
   "cell_type": "markdown",
   "metadata": {},
   "source": [
    "## Módulo 2 - Tupla, Lista, Indexing e Slicing, Condicionais com if"
   ]
  },
  {
   "cell_type": "markdown",
   "metadata": {},
   "source": [
    "<span id=\"estruturas_de_dados\"><h4>Estruturas de Dados</h4></span>"
   ]
  },
  {
   "cell_type": "markdown",
   "metadata": {},
   "source": [
    "**Uma estrutura de dados é uma forma de se organizar os dados para utilização eficiente.** Seja consulta, manipulação ou adição posterior de novos dados de forma rápida, ou até utilizações altamente específicas. Toda linguagem de computação se utiliza de estrutura de dados para alcançar seus fins.\n",
    "\n",
    "O Python (como toda outra linguagem) permite a criação de estruturas de dados por parte do programador. Mas o Python também provê uma série de estruturas genéricas e de forte utilidade. Já vimos uma destas: a *string*, que é uma forma de se organizar characteres individuais em sequência.\n",
    "\n",
    "Veremos agora duas outras estruturas que também organizam dados de forma sequencial: a lista e a tupla."
   ]
  },
  {
   "cell_type": "markdown",
   "metadata": {},
   "source": [
    "#### <span id=\"lista_e_tupla\"><h4>Lista e Tupla</h4></span>"
   ]
  },
  {
   "cell_type": "markdown",
   "metadata": {},
   "source": [
    "A **lista** é uma das estruturas de dados mais utilizadas no Python, e se define por uma sequência de variáveis, separadas por **vírgula** e delimitadas por **colchetes**. Os itens de uma lista podem ser quaisquer variáveis ou objetos do Python, e uma lista não requer que seus elementos sejam uniformes. Veja o código abaixo:"
   ]
  },
  {
   "cell_type": "code",
   "execution_count": 20,
   "metadata": {
    "collapsed": false
   },
   "outputs": [],
   "source": [
    "lista1 = ['lista','de','strings']\n",
    "lista2 = [3.14, 'heterogeneidade', 'de', type(lista1), 'valores', lista1]"
   ]
  },
  {
   "cell_type": "markdown",
   "metadata": {},
   "source": [
    "A **tupla** é uma sequência **imutável** de objetos, separados por **vírgula** e delimitados por **parênteses**. Esta é a principal diferença entre a lista e a tupla: uma vez criada, seus membros não podem mais ser alterados. Veja o código abaixo:"
   ]
  },
  {
   "cell_type": "code",
   "execution_count": 21,
   "metadata": {
    "collapsed": false
   },
   "outputs": [
    {
     "ename": "TypeError",
     "evalue": "'tuple' object does not support item assignment",
     "output_type": "error",
     "traceback": [
      "\u001b[0;31m---------------------------------------------------------------------------\u001b[0m\n\u001b[0;31mTypeError\u001b[0m                                 Traceback (most recent call last)",
      "\u001b[0;32m<ipython-input-21-abd7796095f2>\u001b[0m in \u001b[0;36m<module>\u001b[0;34m()\u001b[0m\n\u001b[1;32m      1\u001b[0m \u001b[0mtupla1\u001b[0m \u001b[0;34m=\u001b[0m \u001b[0;34m(\u001b[0m\u001b[0;34m'lista1'\u001b[0m\u001b[0;34m,\u001b[0m\u001b[0mlista1\u001b[0m\u001b[0;34m,\u001b[0m\u001b[0;34m'lista2'\u001b[0m\u001b[0;34m,\u001b[0m\u001b[0mlista2\u001b[0m\u001b[0;34m)\u001b[0m\u001b[0;34m\u001b[0m\u001b[0m\n\u001b[0;32m----> 2\u001b[0;31m \u001b[0mtupla1\u001b[0m\u001b[0;34m[\u001b[0m\u001b[0;36m0\u001b[0m\u001b[0;34m]\u001b[0m \u001b[0;34m=\u001b[0m \u001b[0;34m'blah!'\u001b[0m \u001b[0;31m# vai dar erro!\u001b[0m\u001b[0;34m\u001b[0m\u001b[0m\n\u001b[0m",
      "\u001b[0;31mTypeError\u001b[0m: 'tuple' object does not support item assignment"
     ]
    }
   ],
   "source": [
    "tupla1 = ('lista1',lista1,'lista2',lista2)\n",
    "tupla1[0] = 'blah!' # vai dar erro!"
   ]
  },
  {
   "cell_type": "markdown",
   "metadata": {},
   "source": [
    "<br/> O erro indica que um item da tupla não pode ser designado, isto é, após a sua criação, seus itens não podem ser modificados!\n",
    "\n",
    "...note que colocamos uma lista dentro de uma tupla ..este tipo de composição de objetos e estruturas de dados não só é permitido como pode ser muito útil!"
   ]
  },
  {
   "cell_type": "markdown",
   "metadata": {},
   "source": [
    "<span id=\"indexacao_e_recorte\"><h4>Indexação (*indexing*) e Recorte (*slicing*)</h4></span>"
   ]
  },
  {
   "cell_type": "markdown",
   "metadata": {},
   "source": [
    "Vimos que *listas* e *tuplas* no Python estruturas de dados que permitem guardar coleções de itens, sejam estes variáveis, literais, objetos, funções e até outras listas e tuplas! Estes itens ficam guardados em ordem, na lista ou tupla, e podemos acessá-los via seu **índice**, isto é sua posição na lista ou tupla.\n",
    "\n",
    "Este índice, por convenção dos criadores do Python (e seguindo a tradição de outras linguagens) sempre começa com o **ZERO**...vejamos:"
   ]
  },
  {
   "cell_type": "code",
   "execution_count": 22,
   "metadata": {
    "collapsed": false
   },
   "outputs": [
    {
     "name": "stdout",
     "output_type": "stream",
     "text": [
      "oi!, meu nome é Daniel\n"
     ]
    }
   ],
   "source": [
    "# aqui, Daniel é o segundo item da tupla\n",
    "equipeSen = ('Ivar', 'Daniel', 'Felipe', 'Pedro', 'Bianca', 'Luan', 'Mariana')\n",
    "\n",
    "# como todas as coleções em Python começam com índice ZERO, acessamos o SEGUNDO item com o índice 1\n",
    "print 'oi!, meu nome é', equipeSen[1] "
   ]
  },
  {
   "cell_type": "markdown",
   "metadata": {},
   "source": [
    "Note que acessamos os itens contido na lista/tupla usando **colchetes** após o nome da variável que representa a lista/tupla. É assim que *indexamos* os valores guardados em listas e tuplas. Vale ressaltar que **strings** também funcionam da mesma forma (podemos pensar neles como listas de caracteres!)\n"
   ]
  },
  {
   "cell_type": "code",
   "execution_count": 23,
   "metadata": {
    "collapsed": false
   },
   "outputs": [
    {
     "name": "stdout",
     "output_type": "stream",
     "text": [
      "J\n"
     ]
    }
   ],
   "source": [
    "cidade = 'Rio de Janeiro'\n",
    "\n",
    "print cidade[7]"
   ]
  },
  {
   "cell_type": "markdown",
   "metadata": {},
   "source": [
    "Se quisermos acessar uma sublista dos valores guardados em uma lista ou tupla, podemos vazer um *recorte* dela:"
   ]
  },
  {
   "cell_type": "code",
   "execution_count": 24,
   "metadata": {
    "collapsed": false
   },
   "outputs": [
    {
     "name": "stdout",
     "output_type": "stream",
     "text": [
      "('Ivar', 'Daniel')\n"
     ]
    }
   ],
   "source": [
    "lideresSen = equipeSen[0:2] # note que eu defino até o dois para pegar o índice 1, pois o python é indexado em ZERO\n",
    "print lideresSen"
   ]
  },
  {
   "cell_type": "markdown",
   "metadata": {},
   "source": [
    "A indexação pode ser feita da esquerda para a direita, começando do zero, ou da direita para a esquerda, começando do -1. Assim, o último item do objeto iterável (lista, tupla ou string) pode ser acessado pelo seu valor positivo (que podemos pegar com len()) ou pelo número -1 ...vejamos um exemplo:"
   ]
  },
  {
   "cell_type": "code",
   "execution_count": 25,
   "metadata": {
    "collapsed": false
   },
   "outputs": [
    {
     "name": "stdout",
     "output_type": "stream",
     "text": [
      "Mariana\n",
      "Luan\n",
      "('Luan', 'Mariana')\n"
     ]
    }
   ],
   "source": [
    "ultimoSen = equipeSen[-1]\n",
    "print ultimoSen\n",
    "penultimoSen = equipeSen[-2]\n",
    "print penultimoSen\n",
    "\n",
    "novosSen = equipeSen[-2:]\n",
    "print novosSen"
   ]
  },
  {
   "cell_type": "markdown",
   "metadata": {},
   "source": [
    "#### Algumas das principais funções de listas são:"
   ]
  },
  {
   "cell_type": "code",
   "execution_count": 26,
   "metadata": {
    "collapsed": false
   },
   "outputs": [
    {
     "name": "stdout",
     "output_type": "stream",
     "text": [
      "adicionei mesmo:\n",
      "['Ivar', 'Daniel', 'Felipe', 'Pedro', 'Bianca', 'Luan', 'Mariana', 'Fabio']\n",
      "\n",
      "adicionei os membros da tupla:\n",
      "['Ivar', 'Daniel', 'Felipe', 'Pedro', 'Bianca', 'Luan', 'Mariana', 'Fabio', 'Gabriel', 'Daniel']\n",
      "\n",
      "multiplicando: ['Oi', 'SeN', 'Oi', 'SeN', 'Oi', 'SeN']\n",
      "\n",
      "removi:\n",
      "['Ivar', 'Daniel', 'Felipe', 'Bianca', 'Luan', 'Mariana', 'Fabio', 'Gabriel', 'Daniel', 'Fred', 'Livia']\n",
      "\n",
      "Qual a posição do membro Fabio? 6\n",
      "\n",
      "quantos Danieis? 2\n",
      "\n",
      "por fim: ['Ivar', 'Daniel', 'Felipe', 'Bianca', 'Luan', 'Mariana', 'Gabriel', 'Daniel', 'Fred', 'Pedro', 'Livia']\n"
     ]
    }
   ],
   "source": [
    "\"\"\"Easter Egg: os primeiros 4 que me mandarem um e-mail explicando \n",
    "corretamente o que estou fazendo na linha abaixo e porque, ganham um chocolate\"\"\"\n",
    "SeNList = list(equipeSen) \n",
    "\n",
    "# adiciona um objeto ao final da lista. CUIDADO: se adicionar uma lista, a própria lista, e não seus membros, será adicionada\n",
    "SeNList.append('Fabio') \n",
    "print 'adicionei mesmo:\\n',SeNList\n",
    "\n",
    "# extend extrai os MEMBROS de uma coleção, e os adiciona ...note que é uma TUPLA sendo passada\n",
    "SeNList.extend(('Gabriel', 'Daniel'))\n",
    "print '\\nadicionei os membros da tupla:\\n',SeNList\n",
    "\n",
    "# podemos concatenar listas\n",
    "SeNList = SeNList + ['Fred','Livia']\n",
    "\n",
    "# podemos repetir seus membros\n",
    "print '\\nmultiplicando:',['Oi','SeN'] * 3\n",
    "\n",
    "# remove retira o objeto\n",
    "SeNList.remove('Pedro')\n",
    "print '\\nremovi:\\n',SeNList\n",
    "\n",
    "# acho a posição de um objeto\n",
    "aSair = 'Fabio'\n",
    "print '\\nQual a posição do membro '+aSair+'?',SeNList.index(aSair)\n",
    "\n",
    "# insere o objeto passado na posição x (opcional, default 0)\n",
    "SeNList.insert(-1,'Pedro')\n",
    "\n",
    "# podemos deletar um objeto de dentro da lista\n",
    "del(SeNList[SeNList.index(aSair)])\n",
    "\n",
    "# podemos contar?\n",
    "print '\\nquantos Danieis?', SeNList.count('Daniel')\n",
    "\n",
    "print '\\npor fim:', SeNList\n",
    "\n"
   ]
  },
  {
   "cell_type": "markdown",
   "metadata": {},
   "source": [
    "<span id=\"if_elif_else\"><h4>Condicionando a sequência do programa: if, elif, else</h4></span>"
   ]
  },
  {
   "cell_type": "markdown",
   "metadata": {},
   "source": [
    "Vamos mudar o foco agora de estruturas de dados para o fluxo dos nossos programas.\n",
    "\n",
    "Até agora, os nossos programas todos seguem uma sequência lógica única, isto é, executamos um comando por vez, um atrás do outro (A), contudo, podemos usar a estrutura condicional **if** para que nosso programa possa tomar caminhos alternativos (B) a sintaxe é:\n",
    "\n",
    "<code>if [[condição a ser avaliada]] :</code> <- note o 'dois pontos'<br>\n",
    "<code>    [[instruções avaliadas...]]</code><br>\n",
    "<code>    [[...se a condição for verdadeira...]]</code><br>\n",
    "<code>    [[...ficam dentro de um novo escopo (com tab)]]</code>\n",
    "\n",
    "ao terminar, retorna-se ao escopo normal, escrevendo instruções sem tab (ou com um tab a menos!)\n",
    "\n",
    "![fig_1.svg](files/img/fig_1.svg)\n",
    "\n",
    "Vejam o código abaixo:\n"
   ]
  },
  {
   "cell_type": "code",
   "execution_count": 27,
   "metadata": {
    "collapsed": false
   },
   "outputs": [
    {
     "name": "stdout",
     "output_type": "stream",
     "text": [
      "['Lucas', 16, 'RS', 'menor de idade']\n"
     ]
    }
   ],
   "source": [
    "minhalista = ['Lucas', 16, 'RS']\n",
    "if minhalista[1] < 18: # não esqueçam o 'dois pontos'!\n",
    "    minhalista.append('menor de idade') # notem que uso a função append() para colocar uma nova informação na lista\n",
    "print minhalista"
   ]
  },
  {
   "cell_type": "markdown",
   "metadata": {},
   "source": [
    "Podemos adicionar mais condicionais, com <code>elif</code> e <code>else</code>. \n",
    "\n",
    "Com <code>elif [[nova condicional]]:</code>, podemos encadear condicionais de forma que se a condicional do primeiro <code>if</code> der falso, a condicional do primeiro <code>elif</code> será avaliada. Se esta der falso também, a segunda será avaliada, e assim por diante. Veja o código abaixo:"
   ]
  },
  {
   "cell_type": "code",
   "execution_count": 28,
   "metadata": {
    "collapsed": false
   },
   "outputs": [
    {
     "name": "stdout",
     "output_type": "stream",
     "text": [
      "[]\n"
     ]
    }
   ],
   "source": [
    "genteNaSala = [] # inicio uma lista vazia\n",
    "\n",
    "if 'Ivar' in genteNaSala: \n",
    "    genteNaSala.extend(['Luan','Gabriel','Livia'])\n",
    "elif 'Daniel' in genteNaSala:\n",
    "    genteNaSala.extend(['Mariana','Fred','Bianca'])\n",
    "    \n",
    "print genteNaSala # como nem o Daniel nem o Ivar estão, a sala fica vazia!"
   ]
  },
  {
   "cell_type": "markdown",
   "metadata": {},
   "source": [
    "Aproveite para brincar com os valores iniciais da lista e com as condicionais do <code>if</code> e do <code>elif</code>.\n",
    "\n",
    "O <code>else</code> por sua vez, oferece uma última opção de instruções para o caso que nenhuma das condicionais de true. Seri o caso do *senão* ...passamos pelo <code>if</code> e quaisquer <code>elif</code>s dizendo \"se isso acontecer, ou então se isso acontecer, ou então se isso acontecer\" ...com o <code>else</code>, colocamos um *senão* ao final, caso nenhuma outra condicional seja preenchida. Vamos ver um exemplo:"
   ]
  },
  {
   "cell_type": "code",
   "execution_count": 29,
   "metadata": {
    "collapsed": false
   },
   "outputs": [
    {
     "name": "stdout",
     "output_type": "stream",
     "text": [
      "['Felipe']\n"
     ]
    }
   ],
   "source": [
    "genteNaSala = [] # inicio uma lista vazia\n",
    "\n",
    "if 'Ivar' in genteNaSala: #\n",
    "    genteNaSala.extend(['Luan','Gabriel','Livia','Felipe'])\n",
    "elif 'Daniel' in genteNaSala:\n",
    "    genteNaSala.extend(['Mariana','Fred','Bianca','Felipe'])\n",
    "else:\n",
    "    genteNaSala.append('Felipe')\n",
    "    \n",
    "print genteNaSala # o Felipe está SEMPRE na sala."
   ]
  },
  {
   "cell_type": "markdown",
   "metadata": {},
   "source": [
    "###### PERGUNTA: Qual a diferença entre usar <code>elif</code> e encadear condições <code>if</code>? Parece dar no mesmo!"
   ]
  },
  {
   "cell_type": "markdown",
   "metadata": {},
   "source": [
    "<br/>Boa pergunta! vamos ver qual a diferença...\n",
    "\n",
    "Digamos que eu tenho uma lista dos professores que vão sair para almoçar. Como cada professor tem o seu apelido favorito para o professor Ivar, vamos reeditar a lista com <code>if</code>s encadeados e com <code>elif</code>s, para ver qual será o apelido utilizado em um dado almoço para o prof. Ivar."
   ]
  },
  {
   "cell_type": "code",
   "execution_count": 30,
   "metadata": {
    "collapsed": false
   },
   "outputs": [
    {
     "name": "stdout",
     "output_type": "stream",
     "text": [
      "['Ivan', 'Daniel', 'Leandro']\n"
     ]
    }
   ],
   "source": [
    "# notem que aqui uso uma lista, não uma tupla, pois vou alterar os seus valores!\n",
    "quemAlmoca = ['Ivar', 'Daniel', 'Leandro']\n",
    "\n",
    "if 'Daniel' in quemAlmoca:\n",
    "    quemAlmoca[0] = 'Ivair' # note aqui uma mudança para escopo interno\n",
    "if 'Leandro' in quemAlmoca:\n",
    "    quemAlmoca[0] = 'Ivan' # o else também\n",
    "if 'Fernando' in quemAlmoca:\n",
    "    quemAlmoca[0] = 'Ismar'\n",
    "    \n",
    "print quemAlmoca # qual será o nome do Ivar neste almoço??"
   ]
  },
  {
   "cell_type": "markdown",
   "metadata": {},
   "source": [
    "...se usarmos outra lista, vejam:"
   ]
  },
  {
   "cell_type": "code",
   "execution_count": 31,
   "metadata": {
    "collapsed": false
   },
   "outputs": [
    {
     "name": "stdout",
     "output_type": "stream",
     "text": [
      "['Ivair', 'Daniel', 'Leandro', 'Fernando']\n"
     ]
    }
   ],
   "source": [
    "quemAlmoca = ['Ivar', 'Daniel', 'Leandro', 'Fernando'] # mudei a lista!\n",
    "\n",
    "if 'Daniel' in quemAlmoca:\n",
    "    quemAlmoca[0] = 'Ivair' \n",
    "elif 'Leandro' in quemAlmoca: # só mudei o if para elif aqui...\n",
    "    quemAlmoca[0] = 'Ivan' \n",
    "elif 'Fernando' in quemAlmoca: # ...e aqui\n",
    "    quemAlmoca[0] = 'Ismar'\n",
    "    \n",
    "print quemAlmoca # qual será o nome do Ivar neste almoço??"
   ]
  },
  {
   "cell_type": "markdown",
   "metadata": {},
   "source": [
    "<br/> Os dois exemplos de código mostram a diferença entre usar <code>elif</code> ao invés de encadear <code>if</code>s."
   ]
  },
  {
   "cell_type": "markdown",
   "metadata": {},
   "source": [
    "<span id=\"operadores_logicos\"><h4>Operadores Lógicos: not, or, and</h4></span>"
   ]
  },
  {
   "cell_type": "markdown",
   "metadata": {},
   "source": [
    "Os operadores lógicos nos permitem encadear avaliações lógicas. Já sabemos que <code>True</code> e <code>False</code> são literais essenciais à programação e que podemos modificar o curso do nosso programa com condicionais e avaliações lógicas.\n",
    "\n",
    "Com operadores lógicos podemos criar avaliações mais complexas, e de maior utilidade.\n",
    "\n",
    "vejamos:"
   ]
  },
  {
   "cell_type": "code",
   "execution_count": 32,
   "metadata": {
    "collapsed": false
   },
   "outputs": [
    {
     "name": "stdout",
     "output_type": "stream",
     "text": [
      "a senhora, sendo de idade avançada...\n"
     ]
    }
   ],
   "source": [
    "idade = 79\n",
    "sexo = 'feminino'\n",
    "hc = \"\"\n",
    "\n",
    "# posso fazer...\n",
    "if (idade > 65 and sexo == \"feminino\"):\n",
    "    hc = hc + \"a senhora, sendo de idade avançada...\"\n",
    "elif(idade > 65 and sexo == \"masculino\"):\n",
    "    hc = hc + \"o senhor, sendo de idade avançada...\"\n",
    "\n",
    "print hc"
   ]
  },
  {
   "cell_type": "markdown",
   "metadata": {},
   "source": [
    "<br/> a ordem de avaliação de operadores é: <code>not, and, or</code>\n",
    "\n",
    "<code>not</code>: é usado para inverter a avaliação de uma proposição, se é <code>True</code> o <code>not</code> o tornará falso.\n",
    "\n",
    "<code>and</code>: retorna <code>True</code> somente se ambos os seus operandos forem verdadeiros.\n",
    "\n",
    "<code>or</code>: retorna <code>True</code> se qualquer um ou ambos os operandos foram verdadeiros.\n",
    "\n",
    "No caso do <code>and</code> as proposições são avaliadas da esquerda para a direita, sendo que a primeira que dê <code>False</code> interrompe a avaliação.\n",
    "\n",
    "O caso do <code>or</code> é similar mas oposto: avalia-se da esquerda para a direita, sendo que o primeiro <code>True</code> interrompe a avaliação.\n",
    "\n",
    "Podemos brincar um pouco com essas propriedades:"
   ]
  },
  {
   "cell_type": "code",
   "execution_count": 33,
   "metadata": {
    "collapsed": false
   },
   "outputs": [
    {
     "name": "stdout",
     "output_type": "stream",
     "text": [
      "25\n"
     ]
    }
   ],
   "source": [
    "x = 25\n",
    "y = None #lembrem que é igual a falso!\n",
    "\n",
    "z = x or y\n",
    "print z"
   ]
  },
  {
   "cell_type": "code",
   "execution_count": 34,
   "metadata": {
    "collapsed": false
   },
   "outputs": [
    {
     "name": "stdout",
     "output_type": "stream",
     "text": [
      "None\n"
     ]
    }
   ],
   "source": [
    "z = x and y\n",
    "print z"
   ]
  },
  {
   "cell_type": "code",
   "execution_count": 35,
   "metadata": {
    "collapsed": false
   },
   "outputs": [
    {
     "name": "stdout",
     "output_type": "stream",
     "text": [
      "[]\n",
      "None\n"
     ]
    }
   ],
   "source": [
    "l = []\n",
    "s = \"\"\n",
    "n = None\n",
    "\n",
    "z = l and s and n\n",
    "print z\n",
    "\n",
    "z = l or s or n\n",
    "print z"
   ]
  },
  {
   "cell_type": "markdown",
   "metadata": {},
   "source": [
    "<br/> Surerimos que vocês usem a funcionalidade do iPython Notebook para explorar as possibilidade de operadores lógicos, partindo dos exemplos acima."
   ]
  },
  {
   "cell_type": "markdown",
   "metadata": {},
   "source": [
    "## <span id=\"aula_3\"><h4>Módulo 3 - Funções (pte. 1)</h4></span>"
   ]
  },
  {
   "cell_type": "markdown",
   "metadata": {},
   "source": [
    "Funções são blocos de código reutilizável, organizado de forma a ser reutilizado e reduzir a repetição de código. \n",
    "\n",
    "Uma função pode ser vista como uma unidade de código que executa uma única tarefa.\n",
    "\n",
    "O Python disponibiliza uma série de funções ao programador (veja as built-in functions [aqui](https://docs.python.org/2/library/functions.html)), mas podemos também criar as nossas próprias funções, a fim de **organizar**, e poder **reutilizar** o nosso código.\n",
    "\n",
    "Já viemos trabalhando informalmente com funções desde o Módulo 1, porém agora vamos definir mais rigorosamente a sintaxe e funcionamento de uma função:"
   ]
  },
  {
   "cell_type": "markdown",
   "metadata": {},
   "source": [
    "<span id=\"definindo\"><h4>Definindo ('declarando'):</h4></span>"
   ]
  },
  {
   "cell_type": "markdown",
   "metadata": {},
   "source": [
    "Definimos uma função com a palavra reservada <code>def</code>, seguida do nome que queremos dar à função, depois colocamos quaisquer argumentos que queiramos passar à função entre parênteses (ou deixamos eles vazios). Por fim, usamos dois pontos para fechar a linha de definição e abrir o novo *escopo* (vide seção abaixo, para a definição de 'escopo')."
   ]
  },
  {
   "cell_type": "code",
   "execution_count": 36,
   "metadata": {
    "collapsed": false
   },
   "outputs": [],
   "source": [
    "def foo(): # def <nome da função> <parênteses vazios ou com parâmetros> <dois pontos>\n",
    "    # <<instruções aqui>>\n",
    "    # <<instruções aqui>>      <- note o novo escopo! (veja abaixo)\n",
    "    # <<instruções aqui>>\n",
    "    pass # posso usar 'pass' como placeholder, vamos falar sobre o pass já já"
   ]
  },
  {
   "cell_type": "markdown",
   "metadata": {},
   "source": [
    "<span id=\"usando\"><h4>Usando ('chamando'):</h4></span>"
   ]
  },
  {
   "cell_type": "markdown",
   "metadata": {},
   "source": [
    "Após declarar uma função, podemos utilizar o seu código simplesmente chamando a função por nome, e passando quaisquer argumentos que lhe sejam necessários:"
   ]
  },
  {
   "cell_type": "code",
   "execution_count": 37,
   "metadata": {
    "collapsed": false
   },
   "outputs": [
    {
     "name": "stdout",
     "output_type": "stream",
     "text": [
      "Oi, meu nome é Daniel Chada e tenho 34 anos\n",
      "Oi, meu nome é Ivar Hartmann e tenho 28 anos\n",
      "Oi, meu nome é Felipe Silva e tenho 25 anos\n"
     ]
    }
   ],
   "source": [
    "def mostrar_frase(nome, sobrenome, idade):\n",
    "    print 'Oi, meu nome é',nome, sobrenome, 'e tenho',idade,'anos'\n",
    "    \n",
    "mostrar_frase('Daniel','Chada','34')\n",
    "mostrar_frase('Ivar','Hartmann','28')\n",
    "mostrar_frase('Felipe','Silva','25')"
   ]
  },
  {
   "cell_type": "markdown",
   "metadata": {},
   "source": [
    "<br/>Aqui passamos os argumentos 'nome' e 'idade' a cada vez que chamamos a função <code>mostrar_frase</code>. Como <code>mostrar_frase</code> foi definida para receber dois parâmetros, que dentro dela são chamados pelos nomes <code>nome</code> e <code>idade</code> se a chamarmos *sem passar* os argumentos necessários, receberemos um erro!"
   ]
  },
  {
   "cell_type": "code",
   "execution_count": 38,
   "metadata": {
    "collapsed": false
   },
   "outputs": [
    {
     "ename": "TypeError",
     "evalue": "mostrar_frase() takes exactly 3 arguments (1 given)",
     "output_type": "error",
     "traceback": [
      "\u001b[0;31m---------------------------------------------------------------------------\u001b[0m\n\u001b[0;31mTypeError\u001b[0m                                 Traceback (most recent call last)",
      "\u001b[0;32m<ipython-input-38-a5ee942457ef>\u001b[0m in \u001b[0;36m<module>\u001b[0;34m()\u001b[0m\n\u001b[0;32m----> 1\u001b[0;31m \u001b[0mmostrar_frase\u001b[0m\u001b[0;34m(\u001b[0m\u001b[0;34m'Mari'\u001b[0m\u001b[0;34m)\u001b[0m \u001b[0;31m# uh oh! falta argumento!\u001b[0m\u001b[0;34m\u001b[0m\u001b[0m\n\u001b[0m",
      "\u001b[0;31mTypeError\u001b[0m: mostrar_frase() takes exactly 3 arguments (1 given)"
     ]
    }
   ],
   "source": [
    "mostrar_frase('Mari') # uh oh! falta argumento!"
   ]
  },
  {
   "cell_type": "markdown",
   "metadata": {},
   "source": [
    "Além de passarmos os argumentos definidos utilizando a **ordem** (no caso de <code>mostrar_frase</code> 'nome' em primeiro, depois 'idade') também podemos passar argumentos 'dando nome aos bois'. Isso se chamar usar *keyword arguments* ...vejamos"
   ]
  },
  {
   "cell_type": "code",
   "execution_count": 39,
   "metadata": {
    "collapsed": false
   },
   "outputs": [
    {
     "name": "stdout",
     "output_type": "stream",
     "text": [
      "Oi, meu nome é Mari Bedran e tenho 25 anos\n"
     ]
    }
   ],
   "source": [
    "mostrar_frase(idade='25',nome='Mari', sobrenome='Bedran')"
   ]
  },
  {
   "cell_type": "markdown",
   "metadata": {},
   "source": [
    "Mas cuidado, uma vez que começamos a nomear, não podemos voltar a utilizar a ordenação (até porque o Python não saberia poe onde recomeçar)."
   ]
  },
  {
   "cell_type": "code",
   "execution_count": 40,
   "metadata": {
    "collapsed": false
   },
   "outputs": [
    {
     "ename": "SyntaxError",
     "evalue": "non-keyword arg after keyword arg (<ipython-input-40-164c6b628553>, line 1)",
     "output_type": "error",
     "traceback": [
      "\u001b[0;36m  File \u001b[0;32m\"<ipython-input-40-164c6b628553>\"\u001b[0;36m, line \u001b[0;32m1\u001b[0m\n\u001b[0;31m    mostrar_frase(idade='25', 'Mari', 'Bedran') # po Mari, para de quebrar o Python!\u001b[0m\n\u001b[0;31mSyntaxError\u001b[0m\u001b[0;31m:\u001b[0m non-keyword arg after keyword arg\n"
     ]
    }
   ],
   "source": [
    "mostrar_frase(idade='25', 'Mari', 'Bedran') # po Mari, para de quebrar o Python!"
   ]
  },
  {
   "cell_type": "markdown",
   "metadata": {},
   "source": [
    "#### <span id=\"o_que_e_escopo\"><h4>O que é '**escopo**'?</h4></span>"
   ]
  },
  {
   "cell_type": "markdown",
   "metadata": {},
   "source": [
    "Vimos anteriormente que variáveis são somente nomes dados a objetos, isto é, *tags* que damos a objetos e referenciam os objetos para nós. Porém, nem toda referência que fazemos fica válida por todo o decorrer do nosso programa.\n",
    "\n",
    "Uma definição intuitiva de escopo é a parte, ou subseção do nosso programa em que certas junções <code>nome-->objeto</code> se mantém válidas.\n",
    "\n",
    "Variáveis declaradas dentro de um determinado escopo em geral não se mantém válidas uma vez que o processamento daquele escopo termina.\n",
    "\n",
    "O Python tem regras muito bem definidas de escopo, que são fáceis de lembrar via o mnemonico: **LEGB**:* **L**ocal, **E**nclosing, **G**lobal, **B**uilt-in*.\n",
    "\n",
    "-Local: nomes de variável definidos dentro da função na qual estamos trabalhando<br/>\n",
    "-Enclosing: nomes de variável definidos na função que cerca o atual escopo local (no caso de aninhamento de funções, ou funções <code>lambda</code> que veremos<br/>\n",
    "-Global: o escopo global do arquivo .py em que estamos trabalhando<br/>\n",
    "-Built-in: nativas ao Python, acessíveis de qualquer programa Python"
   ]
  },
  {
   "cell_type": "code",
   "execution_count": 41,
   "metadata": {
    "collapsed": false
   },
   "outputs": [
    {
     "name": "stdout",
     "output_type": "stream",
     "text": [
      "dentro temos bar\n",
      "fora temos foo\n"
     ]
    }
   ],
   "source": [
    "# CUIDADO COM O ESCOPO LOCAL!\n",
    "var = 'foo'\n",
    "def ex1():\n",
    "    var = 'bar'\n",
    "    print 'dentro temos', var\n",
    "\n",
    "ex1()\n",
    "print 'fora temos', var"
   ]
  },
  {
   "cell_type": "markdown",
   "metadata": {},
   "source": [
    "Este blog post: http://www.saltycrane.com/blog/2008/01/python-variable-scope-notes/ contém um ótimo tutorial sobre escopo no Python."
   ]
  },
  {
   "cell_type": "markdown",
   "metadata": {},
   "source": [
    "<span id=\"revendo_operadores\"><h4>Revendo operadores</h4></span>"
   ]
  },
  {
   "cell_type": "markdown",
   "metadata": {},
   "source": [
    "Agora que já conhecemos o suficiente sobre funções, podemos revelar a verdade! (TAM TAM TAAAAAM!)\n",
    "\n",
    "Os operadores no Python são o que chamamos de \"açúcar sintático\" (*syntactic sugar*) ...eles são atalhos: formas mais rápidas e fáceis de digitar coisas que na realidade, têm outro nome.\n",
    "\n",
    "o operador '<code>+</code>' para números, na realidade pega o objeto referenciado pelo primeiro número e chama a sue função interna  <code>\\_\\_add\\_\\_()</code>, passando o segundo número \n",
    "\n",
    "Já o operador '<code>*</code>' chama a função <code>\\_\\_mul\\_\\_()</code>.\n",
    "\n",
    "...veja: "
   ]
  },
  {
   "cell_type": "code",
   "execution_count": 42,
   "metadata": {
    "collapsed": false
   },
   "outputs": [
    {
     "name": "stdout",
     "output_type": "stream",
     "text": [
      "3 7\n",
      "21\n"
     ]
    }
   ],
   "source": [
    "x = 3\n",
    "y = x.__add__(4)\n",
    "z = y.__mul__(x)\n",
    "print x, y\n",
    "print z"
   ]
  },
  {
   "cell_type": "markdown",
   "metadata": {},
   "source": [
    "<br/>Listas, tuplas e strings, ao usar operadores, também usam *syntactic sugar*:"
   ]
  },
  {
   "cell_type": "code",
   "execution_count": 43,
   "metadata": {
    "collapsed": false
   },
   "outputs": [
    {
     "name": "stdout",
     "output_type": "stream",
     "text": [
      "sugar\n",
      "True\n",
      "['salt', 'sugar']\n"
     ]
    }
   ],
   "source": [
    "l = ['syntactic','sugar']\n",
    "print l.__getitem__(1)\n",
    "print l.__getitem__(1) == l[1]\n",
    "\n",
    "l.__setitem__(0,'salt')\n",
    "print l\n"
   ]
  },
  {
   "cell_type": "markdown",
   "metadata": {},
   "source": [
    "Podemos dizer que *quase* tudo no Python se reverte a executar alguma função."
   ]
  },
  {
   "cell_type": "markdown",
   "metadata": {},
   "source": [
    "<span id=\"pass\"><h4>A palavra reservada <code>pass</code></h4></span>"
   ]
  },
  {
   "cell_type": "markdown",
   "metadata": {},
   "source": [
    "A palavra reservada <code>pass</code> no Python é uma operação nula (como multiplicar por 1). Ela é útil como preenchimento quando algum comando é necessário sintaticamente mas não temos código para executar naquele lugar."
   ]
  },
  {
   "cell_type": "code",
   "execution_count": 44,
   "metadata": {
    "collapsed": false
   },
   "outputs": [
    {
     "name": "stdout",
     "output_type": "stream",
     "text": [
      "123\n"
     ]
    }
   ],
   "source": [
    "def foo():\n",
    "    pass # não dá erro como daria se só continuassemos o código\n",
    "print '123'"
   ]
  },
  {
   "cell_type": "markdown",
   "metadata": {},
   "source": [
    "<span id=\"pass_by_\"><h4>Mudando variáveis dentro de um escopo --- *Pass by Value, Pass by Reference*, ** *pass-by-object reference* **</h4></span>"
   ]
  },
  {
   "cell_type": "markdown",
   "metadata": {},
   "source": [
    "Para literais, Python usa pass-by-value , enquanto para estruturas de dados, pass-by-reference ...vejamos as diferenç\n",
    "\n",
    "Em pass-by-value, passamos o *valor*, isto é, o lugar onde o objeto está guardado. Em pass-by-reference passamos, como o nome implica, a *referência*, isto é, o ponteiro que aonte para onde o objeto está.\n",
    "\n",
    "A diferença deve ficar mais clara nos exemplos abaixo"
   ]
  },
  {
   "cell_type": "code",
   "execution_count": 45,
   "metadata": {
    "collapsed": false
   },
   "outputs": [
    {
     "name": "stdout",
     "output_type": "stream",
     "text": [
      "primeiro dentro temos foo\n",
      "depois temos foo\n",
      "fora temos foo\n"
     ]
    }
   ],
   "source": [
    "# pass-by-value\n",
    "\n",
    "def ex1(nome_interno):\n",
    "    print 'primeiro dentro temos',nome_interno\n",
    "    var = 'bar'\n",
    "    print 'depois temos', nome_interno\n",
    "    \n",
    "var = 'foo'\n",
    "ex1(var)\n",
    "print 'fora temos', var"
   ]
  },
  {
   "cell_type": "code",
   "execution_count": 46,
   "metadata": {
    "collapsed": false
   },
   "outputs": [
    {
     "name": "stdout",
     "output_type": "stream",
     "text": [
      "aqui temos ['foo', 'bar']\n",
      "depois temos ['foo', 'ih, mudou?']\n",
      "e aqui fora ['foo', 'ih, mudou?']\n"
     ]
    }
   ],
   "source": [
    "# exemplo de pass-by-reference\n",
    "def ex2(aqui_dentro_chamo_disso):\n",
    "    print 'aqui temos',aqui_dentro_chamo_disso\n",
    "    aqui_dentro_chamo_disso[1] = 'ih, mudou?'\n",
    "    print 'depois temos', aqui_dentro_chamo_disso\n",
    "\n",
    "var = ['foo','bar']\n",
    "ex2(var)\n",
    "print 'e aqui fora',var\n"
   ]
  },
  {
   "cell_type": "markdown",
   "metadata": {},
   "source": [
    "Este comportamento do Python, na literatura, o define como *nem* pass-by-value *nem* pass-by-reference ..mas omo *pass-by-object-reference. No fundo não importa muito o que se chama, desde que os conceitos estejam sólidamente compreendidos.\n",
    "\n",
    "Este [link](http://robertheaton.com/2014/02/09/pythons-pass-by-object-reference-as-explained-by-philip-k-dick/) pode ajudar, e [este](http://www.tutorialspoint.com/python/python_functions.htm) também"
   ]
  },
  {
   "cell_type": "markdown",
   "metadata": {},
   "source": [
    "#### <span id=\"return\"><h4>Retornando valores (ou não)</h4></span>"
   ]
  },
  {
   "cell_type": "markdown",
   "metadata": {},
   "source": [
    "A palavra-chave <code>return</code> imediatamente finaliza a execução de código dentro de qualquer função e efetua a saída do escopo vigente.\n",
    "\n",
    "Isto é, o <code>return</code> termina e retorna ao escopo externo (de onde se chamou a função) o valor que o sucede. Um <code>return</code> sem nada em sua frente implica em retornar <code>None</code>. \n",
    "\n",
    "por *default* a finalização de qualquer função, sem o uso da palavra-chave <code>return</code> tem o mesmo efeito que <code>return None</code>\n",
    "\n",
    "vejamos exemplos:"
   ]
  },
  {
   "cell_type": "code",
   "execution_count": 47,
   "metadata": {
    "collapsed": false
   },
   "outputs": [
    {
     "name": "stdout",
     "output_type": "stream",
     "text": [
      "\t...recebi um None.\n",
      "\t...not empty, not False, not None, but not a string!\n",
      "\t...recebi algo, mas conta como falso.\n",
      "False True False False\n"
     ]
    }
   ],
   "source": [
    "def eh_string(input):\n",
    "    if isinstance(input, str):\n",
    "        # caso seja uma string, não preciso continuar com a função\n",
    "        return True \n",
    "    elif input:\n",
    "        print '\\t...not empty, not False, not None, but not a string!'\n",
    "        return False\n",
    "    elif input is None:\n",
    "        print '\\t...recebi um None.'\n",
    "        return False\n",
    "    print '\\t...recebi algo, mas conta como falso.'\n",
    "    return False\n",
    "    \n",
    "x = eh_string(None)\n",
    "y = eh_string(\"oi!\")\n",
    "z = eh_string(21234)\n",
    "w = eh_string(()) # veremos mais sobre o que é False e o que é True em breve!\n",
    "\n",
    "print x,y,z,w"
   ]
  },
  {
   "cell_type": "markdown",
   "metadata": {},
   "source": [
    "<br/>Veja que a execução pára quando se chega a um <code>return</code>.\n",
    "\n",
    "vejamos outro exemplo:"
   ]
  },
  {
   "cell_type": "code",
   "execution_count": 48,
   "metadata": {
    "collapsed": false
   },
   "outputs": [
    {
     "name": "stdout",
     "output_type": "stream",
     "text": [
      "True\n",
      "\n",
      "segunda tentativa:\n",
      "cheguei ao fim e nada...nada de xiiiiiis!!!\n",
      "False\n"
     ]
    }
   ],
   "source": [
    "def find_x(input):\n",
    "    for item in input:\n",
    "        if item == 'x':\n",
    "            return True \n",
    "    print 'cheguei ao fim e nada...nada de xiiiiiis!!!'\n",
    "    return False\n",
    "\n",
    "print find_x([123,'Daniel','x','Ivar'])\n",
    "\n",
    "print '\\nsegunda tentativa:'\n",
    "print find_x([123,'Daniel','y','Ivar'])\n",
    "    "
   ]
  },
  {
   "cell_type": "markdown",
   "metadata": {},
   "source": [
    "<span id=\"aula_4\"><h2>Módulo 4 - Iteração com <code>for</code>, <code>range()</code>; a \"Sua Amiga a Internet\"</h2></span>"
   ]
  },
  {
   "cell_type": "markdown",
   "metadata": {},
   "source": [
    "#### <span id=\"for\"><h4>O loop for:</h4></span>"
   ]
  },
  {
   "cell_type": "markdown",
   "metadata": {},
   "source": [
    "O loop <code>for</code> nos permite iterar uma série de comandos e funções, sem precisar repeti-los seguidamente. Isto é uma ferramenta tremendamente útil em qualquer tarefa repetitiva, especialmente em tarefas que não sabemos quantas vezes teremos que repetir um dado grupo de comandos.\n",
    "\n",
    "O loop <code>for</code> introduz uma nova possibilidade no caminho do nosso programa, em que *voltamos* e repetimos um dado conjunto de comandos. Veja a fig_2.\n",
    "\n",
    "A sintaxe de um loop <code>for</code> é:\n",
    "\n",
    "<code>for [[nome de uma ou mais variáveis que serão iteradas]] in [[coleção iterável]]:</code><br/>\n",
    "<code>    [[instruções em um novo escopo interno aqui]]</code><br/>\n",
    "<code>    [[instruções em um novo escopo interno aqui]]</code><br/>\n",
    "<code>    [[instruções em um novo escopo interno aqui]]</code><br/>\n",
    "<code>[[instruções sem tab indicam a volta saída do escopo do for]]</code>\n",
    "\n",
    "Vejamos na prática:\n"
   ]
  },
  {
   "cell_type": "code",
   "execution_count": 49,
   "metadata": {
    "collapsed": false
   },
   "outputs": [
    {
     "name": "stdout",
     "output_type": "stream",
     "text": [
      "oi, Ivar\n",
      "oi, Daniel\n",
      "oi, Felipe\n",
      "oi, Pedro\n",
      "oi, Mariana\n",
      "oi, Bianca\n",
      "oi, Luan\n",
      "oi, Gabriel\n",
      "oi, Livia\n"
     ]
    }
   ],
   "source": [
    "equipeSen = ('Ivar', 'Daniel', 'Felipe', 'Pedro', 'Mariana', 'Bianca', 'Luan', 'Gabriel', 'Livia')\n",
    "\n",
    "for y in equipeSen:\n",
    "    print 'oi, '+ y"
   ]
  },
  {
   "cell_type": "markdown",
   "metadata": {},
   "source": [
    "<span id=\"range\"><h4>Usando <code>range()</code></h4></span>"
   ]
  },
  {
   "cell_type": "markdown",
   "metadata": {},
   "source": [
    "a função <code>range()</code> é uma função *built-in* do Python (como a <code>len()</code>, <code>locals()</code> ou <code>str()</code>) que retorna uma **lista** de numeros, em sequência:"
   ]
  },
  {
   "cell_type": "code",
   "execution_count": 50,
   "metadata": {
    "collapsed": false
   },
   "outputs": [
    {
     "name": "stdout",
     "output_type": "stream",
     "text": [
      "[0, 1, 2, 3, 4, 5, 6, 7, 8, 9]\n"
     ]
    }
   ],
   "source": [
    "print range(10)"
   ]
  },
  {
   "cell_type": "markdown",
   "metadata": {},
   "source": [
    "A função <code>range()</code> pode ser usada para listar números de um certo *x* a um certo *y*, ou até pular certos intervalos:"
   ]
  },
  {
   "cell_type": "code",
   "execution_count": 51,
   "metadata": {
    "collapsed": false
   },
   "outputs": [
    {
     "name": "stdout",
     "output_type": "stream",
     "text": [
      "[3, 4, 5, 6, 7, 8, 9, 10, 11, 12, 13, 14]\n",
      "[3, 6, 9, 12]\n"
     ]
    }
   ],
   "source": [
    "print range(3,15)   # a função range cria uma lista de 3 a 14 e a retorna como entrada da função print.\n",
    "\n",
    "print range(3,15,3) # 'imprima do 2 ao 15 (parando um antes), com intervalo de 3'"
   ]
  },
  {
   "cell_type": "markdown",
   "metadata": {},
   "source": [
    "O principal uso da função <code>range()</code> é em conjunto à iteração com um loop <code>for</code> (e a função <code>len()</code>)"
   ]
  },
  {
   "cell_type": "code",
   "execution_count": 52,
   "metadata": {
    "collapsed": false
   },
   "outputs": [
    {
     "name": "stdout",
     "output_type": "stream",
     "text": [
      "oi, Daniel! oi, Felipe! oi, Mariana! \n",
      "oi, Ivar! oi, Livia! oi, Gabriel! oi, Bianca! oi, Luan! \n"
     ]
    }
   ],
   "source": [
    "SeNDev = ['Daniel', \"Felipe\", \"Mariana\"]\n",
    "SeNJur = ['Ivar', 'Livia', 'Gabriel', 'Bianca', 'Luan']\n",
    "\n",
    "def digaOi(x):\n",
    "    # posso usar o range() em conjunto com len() se não sei o tamanho\n",
    "    for i in range(len(x)): \n",
    "        # note que o for tem seu próprio escopo!\n",
    "        print 'oi, ' + x[i] +\"!\",\n",
    "    # para que serve este print? tente comentá'-lo!\n",
    "    print '' \n",
    "\n",
    "digaOi(SeNDev)\n",
    "digaOi(SeNJur)"
   ]
  },
  {
   "cell_type": "markdown",
   "metadata": {},
   "source": [
    "<span id=\"amiga\"><h4>Sua Amiga a Internet\" ou \"Olhe no Stack Overflow Antes!\"</h4></span>"
   ]
  },
  {
   "cell_type": "markdown",
   "metadata": {},
   "source": [
    "Python é uma linguagem muito rica, com uma extensa comunidade de desenvolvedores do mundo todo que contribuem para o seu desenvolvimento. Enquanto alguns contribuem para o desenvolvimento do *core* da linguagem, outros contribuem escrevendo módulos e disponibilizando-os gratuitamente na internet.\n",
    "\n",
    "Assim, existe uma enorme quantidade de ferramentas prontas em python, na forma de módulos que podem ser baixados e instalados no seu python local.\n",
    "\n",
    "Quase nenhum projeto no Python precisa ser iniciado do zero. Com um pouco de pesquisa na internet, vocês provavelmetne encontrarão algum módulo ou pedaço de código que já resolve alguma parte do problema que você tem a reselver.\n",
    "\n",
    "Recomendamos que vocês utilizem o site <http://stackoverflow.com> e leiam a documentação oficial da linguagem python <http://bit.ly/Pe9lfA>.\n",
    "\n",
    "O Stack Overflow é um repositório de dúvidas e respostas sobre todas as linguagens e áreas da programação (não só Python!), mas tudo é identificado via tags, e todos os membros (tanto os que perguntam quanto os que respondem) prezam pela clareza e legibilidade, fazendo do site uma ótima primeira instância para pesquisa sobre qualquer dúvida.\n",
    "\n",
    "O site oficial do Python <http://python.org> e a documentação do Python <http://python.org/doc> são as referências oficiais sobre o *core* da linguagem.\n",
    "\n",
    "Finalmente, na data de escrita desta apostila - v1.0 (Set/2014) o site Tutorials Point <http://www.tutorialspoint.com/python/> oferece bons e rápidos tutoriais sobre diferentes aspectos do Python.\n"
   ]
  },
  {
   "cell_type": "markdown",
   "metadata": {},
   "source": [
    "<span id=\"aula_5\"><h2>Módulo 5 - Importação de Módulos, Abrindo e Manipulando Arquivos, Dicionários</h2></span>"
   ]
  },
  {
   "cell_type": "markdown",
   "metadata": {},
   "source": [
    "Neste módulo vamos ver as duas últimas estruturas de dados do conjunto fundamental provido pelo python. Nós vimos números, strings, listas e tuplas ...hoje veremos **arquivos** e **dicionários**. \n",
    "\n",
    "Veremos também como importar módulos, para utilizar código criado por outros dentro de nossos programas"
   ]
  },
  {
   "cell_type": "markdown",
   "metadata": {},
   "source": [
    "<span id=\"arquivos\"><h4>Arquivos - abrindo, e manipulando, de dentro e de fora</h4></span>"
   ]
  },
  {
   "cell_type": "markdown",
   "metadata": {},
   "source": [
    "Arquivos são outra estrutura de dados importantíssima para o programador Python. Tudo que se manipula como usuário de computador toma a forma de um arquivo: imagens, PDFs, planilhas e até outros programas. De fato, todos os dados que ficam guardados em um computador de forma permanente (isto é, no disco e não na memória) tomam a forma de arquivos. Até os próprios sistemas operacionais (Windows, Linux, OSX, etc) são coleções de arquivos que ficam guardados no disco rígido (*hard disk*, HD) são carregados quando  ocomputador se inicia.\n",
    "\n",
    "O Acesso e manipulação de arquivos permitem ao nossos programas interagir com bases de dados, imagens e outros até programas no computador. Em Python abrimos arquivos com a chamada <code>open</code> que retorna um objeto arquivo.\n",
    "\n",
    "<code>\n",
    "meu_arq = open([[nome do arquivo]], [[modo]])\n",
    "</code>\n",
    "\n",
    "Outro modo de abertura de arquivo (ntem que inicializa um novo escopo!) é:\n",
    "\n",
    "<code>\n",
    "with open([[nome do arquivo]], [[modo]]) as meu_arq:\n",
    "    [[expressões em novo escopo]]\n",
    "    [[expressões em novo escopo]]\n",
    "    [[expressões em novo escopo]]\n",
    "</code>\n",
    "\n",
    "O parâmero *modo* lida com o que será feito com o arquivo, a tabela 5.1 lista os principais parâmetros que podem ser passados. Se nada for passado, o arquivo é aberto para leitura, isto é, o default é 'r':<br/><br/>\n",
    "<center>\n",
    "<table>\n",
    "<tr>\n",
    "<td>Modes</td><td>Description</td>\n",
    "</tr>\n",
    "<tr>\n",
    "<td>r</td><td>Opens a file for reading only. The file pointer is placed at the beginning of the file. This is the default mode.</td>\n",
    "</tr>\n",
    "<tr>\n",
    "<td>rb</td><td>Opens a file for reading only in binary format. The file pointer is placed at the beginning of the file. This is the default mode.</td>\n",
    "</tr>\n",
    "<tr>\n",
    "<td>r+</td><td>Opens a file for both reading and writing. The file pointer will be at the beginning of the file.</td>\n",
    "</tr>\n",
    "<tr>\n",
    "<td>rb+</td><td>Opens a file for both reading and writing in binary format. The file pointer will be at the beginning of the file.</td>\n",
    "</tr>\n",
    "<tr>\n",
    "<td>w</td><td>Opens a file for writing only. Overwrites the file if the file exists. If the file does not exist, creates a new file for writing.</td>\n",
    "</tr>\n",
    "<tr>\n",
    "<td>wb</td><td>Opens a file for writing only in binary format. Overwrites the file if the file exists. If the file does not exist, creates a new file for writing.</td>\n",
    "</tr>\n",
    "<tr>\n",
    "<td>w+</td><td>Opens a file for both writing and reading. Overwrites the existing file if the file exists. If the file does not exist, creates a new file for reading and writing.</td>\n",
    "</tr>\n",
    "<tr>\n",
    "<td>wb+</td><td>Opens a file for both writing and reading in binary format. Overwrites the existing file if the file exists. If the file does not exist, creates a new file for reading and writing.</td>\n",
    "</tr>\n",
    "<tr>\n",
    "<td>a</td><td>Opens a file for appending. The file pointer is at the end of the file if the file exists. That is, the file is in the append mode. If the file does not exist, it creates a new file for writing.</td>\n",
    "</tr>\n",
    "<tr>\n",
    "<td>ab</td><td>\tOpens a file for appending in binary format. The file pointer is at the end of the file if the file exists. That is, the file is in the append mode. If the file does not exist, it creates a new file for writing.</td>\n",
    "</tr>\n",
    "<tr>\n",
    "<td>a+</td><td>\tOpens a file for both appending and reading. The file pointer is at the end of the file if the file exists. The file opens in the append mode. If the file does not exist, it creates a new file for reading and writing.</td>\n",
    "</tr>\n",
    "<tr>\n",
    "<td>ab+</td><td>Opens a file for both appending and reading in binary format. The file pointer is at the end of the file if the file exists. The file opens in the append mode. If the file does not exist, it creates a new file for reading and writing.</td>\n",
    "</tr>\n",
    "<tr>\n",
    "<td></td><td>fonte: http://www.tutorialspoint.com/python/python_files_io.htm</td>\n",
    "</tr>\n",
    "</table>\n",
    "</center>"
   ]
  },
  {
   "cell_type": "code",
   "execution_count": 53,
   "metadata": {
    "collapsed": false
   },
   "outputs": [
    {
     "name": "stdout",
     "output_type": "stream",
     "text": [
      "<open file 'arq.csv', mode 'r+' at 0x103e67930>\n",
      "<type 'file'>\n"
     ]
    }
   ],
   "source": [
    "f = open('arq.csv','r+') # neste exemplo, o arquivo deve estar na mesma pasta do programa sendo rodado\n",
    "# a função 'open' retorna um objeto tipo arquivo\n",
    "print f\n",
    "print type(f)"
   ]
  },
  {
   "cell_type": "markdown",
   "metadata": {},
   "source": [
    "<br/>Uma vez 'abertos', podemos usar as funções dos objetos arquivo para manipular o conteúdo dos arquivos, os exemplos abaixo mostram as principais funções para manipular o conteúdo de arquivos:<br/><br/>"
   ]
  },
  {
   "cell_type": "code",
   "execution_count": 54,
   "metadata": {
    "collapsed": false
   },
   "outputs": [
    {
     "name": "stdout",
     "output_type": "stream",
     "text": [
      "Ivar,28,Harvard\n",
      "Daniel,34,PUC\n",
      "Felipe,24,FGV\n"
     ]
    }
   ],
   "source": [
    "f = open('arq.csv','r')\n",
    "\n",
    "# read() le e retorna o conteudo inteiro do arquivo ..se o arquivo for maior que a memória utilizável, corta a leitura\n",
    "# podemos também passar um número, que será o número de bytes a serem lidos do arquivo.\n",
    "x = f.read()\n",
    "\n",
    "print x\n",
    "f.close()\n"
   ]
  },
  {
   "cell_type": "code",
   "execution_count": 55,
   "metadata": {
    "collapsed": false
   },
   "outputs": [
    {
     "name": "stdout",
     "output_type": "stream",
     "text": [
      "None\n"
     ]
    }
   ],
   "source": [
    "f = open('novoarq.csv','w+')\n",
    "x = 'Mariana,25,UFF'\n",
    "\n",
    "# write() (sobre)escreve o conteudo da variável passada para o arquivo. Não retorna nada.\n",
    "nada = f.write(x)\n",
    "\n",
    "print nada \n",
    "f.close()"
   ]
  },
  {
   "cell_type": "markdown",
   "metadata": {},
   "source": [
    "<br/>\n",
    "Quando um arquivo é aberto para leiura, o Python aponta um 'pointeiro de arquivo' (eu chamo de 'cursor') para o conteúdo do arquivo. À medida que lemos ou editamos o conteúdo do arquivo, este 'cursor' é movido para a frente (ou para trás). Cada função de leitura ou escrita move o 'cursor' para frente, de forma que uma leitura (ou escrita) subsequente retornará outro resultado.\n",
    "\n",
    "Dependendo do modo utilizado ao abrir o arquivo, podemos já abri-lo com o cursor apontando para o final (modo <code>'a'</code>)\n",
    "<br/>\n",
    "Outras funções de escrita e leitura de arquivo são:\n",
    "\n",
    "<code>readline()</code> - retorna uma linha do arquivo, e passa o cursor para a próxima linha<br/>\n",
    "<code>readlines()</code> – devolve lista em que cada item é uma linha<br/>\n",
    "<code>writelines()</code> – recebe uma lista ou tupla ou iterável e cada item será inserido como se chamando <code>writeline()</code><br/>\n",
    "<code>f.tell()</code> – retorna em que parte do arquivo o cursor parou<br/>\n",
    "<code>f.seek(from, offset)</code> – muda o cursor do <code>from</code> (0 pega do começo do arquivo, 1 usa a posição atual e 2 usa o final do arquivo como referência ..o default é 0) e avança tantos bytes quanto indicado no <code>offset</code>\n",
    "\n",
    "Encorajamos o leitor a explorar a manipulação dos dados de arquivos com estas funções, e buscar mais aprofundadamente sobre seu funcionamento na [seção sobre arquivos da python.org](https://docs.python.org/2/tutorial/inputoutput.html#reading-and-writing-files)\n"
   ]
  },
  {
   "cell_type": "markdown",
   "metadata": {},
   "source": [
    "<span id=\"dicionarios\"><h4>Dicionários</h4></span>"
   ]
  },
  {
   "cell_type": "markdown",
   "metadata": {},
   "source": [
    "Dicionários trazem uma nova forma de guardar coleções de dados/objetos. Listas e tuplas nos dão uma forma ordinal de guardar dados, e podemos acessálos pela sua posição na ordem (i.e. <code>nomes[3]</code> retorna o segundo item da lista nomes). Já dicionários indexam seus valores de outra forma: por chaves. Ao invés de utilizar ordem, o dicionário usa uma função chamad função *hash* para decidir onde melhor colocar cada novo item que é adicionado. Isso torna o seu tempo de resposta *muito* mais rápido ao localizar um valor associado a uma chave.\n",
    "\n",
    "Há algumas restrições no que é passível de ser uma chave (quem quiser estudar mais as premissas, pode ler em <https://wiki.python.org/moin/DictionaryKeys>) mas aqui explicitamos que números, tuplas e strings **podem** ser chaves, enquanto listas **não podem**.\n",
    "\n",
    "Note que isso não implica o que pode ser guardado como *valor*, qualquer variável ou objeto pode ser guardado em um dicionário, até funções inteiras e módulos ...somente a *chave* tem restrições.\n",
    "\n",
    "Definimos dicionários com: <code>{}</code> e acessamos seus itens da mesma forma que listas:"
   ]
  },
  {
   "cell_type": "code",
   "execution_count": 56,
   "metadata": {
    "collapsed": false
   },
   "outputs": [
    {
     "name": "stdout",
     "output_type": "stream",
     "text": [
      "[24, 'Matrix', 'C']\n"
     ]
    },
    {
     "ename": "KeyError",
     "evalue": "'Ivan'",
     "output_type": "error",
     "traceback": [
      "\u001b[0;31m---------------------------------------------------------------------------\u001b[0m\n\u001b[0;31mKeyError\u001b[0m                                  Traceback (most recent call last)",
      "\u001b[0;32m<ipython-input-56-bc4cee0fac11>\u001b[0m in \u001b[0;36m<module>\u001b[0;34m()\u001b[0m\n\u001b[1;32m      9\u001b[0m \u001b[0;32mprint\u001b[0m \u001b[0mx\u001b[0m\u001b[0;34m[\u001b[0m\u001b[0;34m'Felipe'\u001b[0m\u001b[0;34m]\u001b[0m\u001b[0;34m\u001b[0m\u001b[0m\n\u001b[1;32m     10\u001b[0m \u001b[0;34m\u001b[0m\u001b[0m\n\u001b[0;32m---> 11\u001b[0;31m \u001b[0;32mprint\u001b[0m \u001b[0mx\u001b[0m\u001b[0;34m[\u001b[0m\u001b[0;34m'Ivan'\u001b[0m\u001b[0;34m]\u001b[0m \u001b[0;31m# notem que dá erro, o Python nos diz que não existe a chave 'Ivan'\u001b[0m\u001b[0;34m\u001b[0m\u001b[0m\n\u001b[0m\u001b[1;32m     12\u001b[0m \u001b[0;34m\u001b[0m\u001b[0m\n",
      "\u001b[0;31mKeyError\u001b[0m: 'Ivan'"
     ]
    }
   ],
   "source": [
    "x = {\n",
    "'Ivar' : [27,'Nova Hamburgo', 'Inter'],\n",
    "'Daniel' : [34, 'Rio de Janeiro', 'Flamengo']\n",
    "}\n",
    "\n",
    "# podemos adicionar valores aos dicionários, eles são *mutáveis*\n",
    "x['Felipe'] = [24, 'Matrix', 'C']\n",
    "\n",
    "print x['Felipe']\n",
    "\n",
    "print x['Ivan'] # notem que dá erro, o Python nos diz que não existe a chave 'Ivan'\n",
    "\n"
   ]
  },
  {
   "cell_type": "markdown",
   "metadata": {},
   "source": [
    "Como em todas as estruturas que guardam múltiplos dados, podemos guardar outros dicionários dentro de dicionários:<br/><br/>"
   ]
  },
  {
   "cell_type": "code",
   "execution_count": 57,
   "metadata": {
    "collapsed": false
   },
   "outputs": [
    {
     "name": "stdout",
     "output_type": "stream",
     "text": [
      "Morpheus\n",
      "inf\n"
     ]
    }
   ],
   "source": [
    "x = {\n",
    "'Ivar' : {'idade':28,'cidade':'Nova Hamburgo', 'time':'Inter', 'lingua':'Legagese'},\n",
    "'Daniel' : {'idade':float('Inf'), 'cidade':'Barad Dur', 'lingua':'Black Speech', 'time':'Mordor'},\n",
    "'Felipe' : {'cidade':'Xion', 'time':'Morpheus', 'idade':float('NaN') , 'lingua':'CUDA'}\n",
    "}\n",
    "\n",
    "print x['Felipe']['time'] \n",
    "print x['Daniel']['idade'] # professores malvados são eternos! \n",
    "# PS: quem consegue explicar a minha idade e a do Felipe??"
   ]
  },
  {
   "cell_type": "markdown",
   "metadata": {},
   "source": [
    "<br/>Dicionários têm funções muito úteis, a saber:"
   ]
  },
  {
   "cell_type": "code",
   "execution_count": 58,
   "metadata": {
    "collapsed": false
   },
   "outputs": [
    {
     "name": "stdout",
     "output_type": "stream",
     "text": [
      "{'idade': 28, 'cidade': 'Nova Hamburgo', 'lingua': 'Legagese', 'time': 'Inter'}\n",
      "\n",
      "KEYS:\t['Felipe', 'Daniel', 'Ivar']\n",
      "\n",
      "VALUES:\t[{'idade': nan, 'cidade': 'Xion', 'lingua': 'CUDA', 'time': 'Morpheus'}, {'idade': inf, 'cidade': 'Barad Dur', 'lingua': 'Black Speech', 'time': 'Mordor'}, {'idade': 28, 'cidade': 'Nova Hamburgo', 'lingua': 'Legagese', 'time': 'Inter'}]\n",
      "\n",
      "ITEMS:\t[('Felipe', {'idade': nan, 'cidade': 'Xion', 'lingua': 'CUDA', 'time': 'Morpheus'}), ('Daniel', {'idade': inf, 'cidade': 'Barad Dur', 'lingua': 'Black Speech', 'time': 'Mordor'}), ('Ivar', {'idade': 28, 'cidade': 'Nova Hamburgo', 'lingua': 'Legagese', 'time': 'Inter'})]\n"
     ]
    }
   ],
   "source": [
    "# a função get() evita que o erro anterior aconteça, retornando None quando a chave não é encontrada\n",
    "print x.get('Ivar')\n",
    "# para obter todas as chaves do dicionário, usamos keys(), que retorna uma lista\n",
    "print '\\nKEYS:\\t',x.keys()\n",
    "# para obter os valores, a função values(), que retorna uma lista\n",
    "print '\\nVALUES:\\t',x.values()\n",
    "# já a função items() retorna uma lista de tuplas na forma (chave,valor)\n",
    "print '\\nITEMS:\\t',x.items()\n"
   ]
  },
  {
   "cell_type": "markdown",
   "metadata": {},
   "source": [
    "<br/>Vale notar que o print das chaves e valores não é nem alfabético, nem em função da ordem da adição dos registros, mas sim de acordo com a função <code>hash</code> mencionada.\n",
    "\n",
    "Estas listas retornadas pelas funções permitem iterar as chaves, os valores, ou AMBOS com loops. Os dicionários em si, porém, não são iteráveis (uma explicação básica seria que eles não têm ordenação intrínseca, como as listas e as tuplas)."
   ]
  },
  {
   "cell_type": "markdown",
   "metadata": {},
   "source": [
    "<span id=\"modulos\"><h4>Importando Módulos</h4></span>"
   ]
  },
  {
   "cell_type": "markdown",
   "metadata": {},
   "source": [
    "Modulos são a forma de importar código de outros programas seus e de outros para dentro do seu programa. Nós importamos módulos para usar funcionalidades já programados (por nós mesmos ou outros) dentro do nosso código, sem re-escrever.\n",
    "\n",
    "o jeito de importar módulos é:"
   ]
  },
  {
   "cell_type": "code",
   "execution_count": 59,
   "metadata": {
    "collapsed": false
   },
   "outputs": [],
   "source": [
    "import sys # importando o módulo inteiro\n",
    "from glob import glob # importando uma função específica de um módulo\n",
    "from math import * # importando todas as funções do módulo para o escopo local"
   ]
  },
  {
   "cell_type": "markdown",
   "metadata": {},
   "source": [
    "<h6>FAQ: Qual é a diferença entre importar o módulo todo e importar todas as funções com o asterisco?</h6>"
   ]
  },
  {
   "cell_type": "markdown",
   "metadata": {},
   "source": [
    "Ao importar um módulo inteiro usando só o comando <code>import</code>, importa-se o módulo como um objeto, e as funções do módulo ficam acessíveis via este objeto:"
   ]
  },
  {
   "cell_type": "code",
   "execution_count": 60,
   "metadata": {
    "collapsed": false
   },
   "outputs": [
    {
     "name": "stdout",
     "output_type": "stream",
     "text": [
      "/Users/cyg/Documents/work/code/atc_2014\n",
      "1.77245385091\n"
     ]
    }
   ],
   "source": [
    "# um detalhe: posso renomear o módulo ao importar, para facilitar a sua chamada!\n",
    "import os as o\n",
    "print o.getcwd() # getcwd() foi importada como função do objeto 'os'!\n",
    "\n",
    "from math import sqrt, pi\n",
    "print sqrt(pi) # note que não preciso usar 'math<ponto>'!"
   ]
  },
  {
   "cell_type": "code",
   "execution_count": 61,
   "metadata": {
    "collapsed": false
   },
   "outputs": [
    {
     "name": "stdout",
     "output_type": "stream",
     "text": [
      "principal investigação\n",
      "principal investigação 3.14159265359\n"
     ]
    }
   ],
   "source": [
    "# mas cuidado!\n",
    "from math import *\n",
    "\n",
    "# aqui eu redefino a variavel 'pi' importada antes do math, e perco a original!\n",
    "pi = 'principal investigação'\n",
    "print pi\n",
    "\n",
    "# já aqui, não corro este risco, pois fica como parte do módulo!\n",
    "import math \n",
    "print pi, math.pi\n"
   ]
  },
  {
   "cell_type": "markdown",
   "metadata": {},
   "source": [
    "<span id=\"chdir\"><h4>Manipulando arquivos em si, não só seu conteúdo (o módulo os)</h4></span>"
   ]
  },
  {
   "cell_type": "markdown",
   "metadata": {},
   "source": [
    "Já vimos como manipular o conteúdo de arquivos, e como trazer código Python externo na forma de módulo para dentro do nosso próprio código. Agora usaremos um módulo do Python para manipular arquivos e diretórios ('pastas' para os que falam Windows®)"
   ]
  },
  {
   "cell_type": "markdown",
   "metadata": {},
   "source": [
    "Import os\n",
    ".mkdir() – make directory\n",
    ".chdir() – change directory\n",
    ".getcwd() – get current working directory\n",
    ".remove()\n",
    ".rename(a,b)\n",
    ".rmdir() – remove directory\n"
   ]
  },
  {
   "cell_type": "markdown",
   "metadata": {},
   "source": [
    "<span id=\"aula_6\"><h2>Módulo 6 - Funções (pte. 2); Built-ins: zip, map, reduce, filter; usando lambda; usando \\*args, \\*\\*kwargs</h2></span>"
   ]
  },
  {
   "cell_type": "markdown",
   "metadata": {},
   "source": [
    "#### <span id=\"outras_built_in\"><h4>Outras Funcões Built-in</h4></span>"
   ]
  },
  {
   "cell_type": "markdown",
   "metadata": {},
   "source": [
    "Vamos agora continuar a ver funções built-in úteis no dia-a-dia da programação Python. Uma lista completa pode ser encontrada [aqui](https://docs.python.org/2/library/functions.html).\n",
    "\n",
    "a função **<code>map</code>** recebe um objeto função e um objeto iterável (i.e. uma sequência...tupla, lista, string, etc) e aplica a função a cada membro do iterável, um de cada vez, coletando os resultados em uma lista. veja:"
   ]
  },
  {
   "cell_type": "code",
   "execution_count": 62,
   "metadata": {
    "collapsed": false
   },
   "outputs": [
    {
     "name": "stdout",
     "output_type": "stream",
     "text": [
      "[4, 6, 6, 7, 4, 4]\n"
     ]
    }
   ],
   "source": [
    "equipe = ('Ivar','Felipe', 'Daniel', 'Mariana', 'Fred', 'Luan')\n",
    "\n",
    "# passo a função len e a minha tupla\n",
    "tamanhos_de_cada = map(len, equipe)\n",
    "\n",
    "print tamanhos_de_cada\n",
    "    "
   ]
  },
  {
   "cell_type": "markdown",
   "metadata": {},
   "source": [
    "A função **<code>zip</code>** retorna uma lista de tuplas, onde a n-ésima tupla contém os n-ésimos itens de cada iterável passado para ela:"
   ]
  },
  {
   "cell_type": "code",
   "execution_count": 63,
   "metadata": {
    "collapsed": false
   },
   "outputs": [
    {
     "name": "stdout",
     "output_type": "stream",
     "text": [
      "agrupados:\t[('Ivar', 28), ('Felipe', nan), ('Daniel', inf), ('Mariana', 25), ('Fred', 22), ('Luan', 22)]\n",
      "\n",
      "novo agrup:\t[(('Ivar', 28), 'a'), (('Felipe', nan), 'b'), (('Daniel', inf), 'c'), (('Mariana', 25), 'd'), (('Fred', 22), 'e'), (('Luan', 22), 'f')]\n",
      "\n",
      "desagrup:\t[('Ivar', 'Felipe', 'Daniel', 'Mariana', 'Fred', 'Luan'), (28, nan, inf, 25, 22, 22)]\n",
      "\n",
      "final:\t[('Ivar', 28, 'a'), ('Felipe', nan, 'b'), ('Daniel', inf, 'c'), ('Mariana', 25, 'd'), ('Fred', 22, 'e'), ('Luan', 22, 'f')]\n"
     ]
    }
   ],
   "source": [
    "idades = [28, float('NaN'), float('Inf'), 25, 22, 22]\n",
    "\n",
    "# passo dois iteráveis\n",
    "agrupados = zip(equipe,idades)\n",
    "print 'agrupados:\\t', agrupados\n",
    "\n",
    "abc = 'abcdefghijklmnopqrstuvwxyz'\n",
    "# agora um terceiro, note o que acontece quando os tamanhos são \n",
    "# diferentes e quando os itens JÁ SÃO iteráveis em si\n",
    "agrup = zip(agrupados, abc)\n",
    "print '\\nnovo agrup:\\t',agrup\n",
    "\n",
    "# posso DESAGRUPAR com o '*':\n",
    "desagrup = zip(*agrupados)\n",
    "print '\\ndesagrup:\\t',desagrup\n",
    "\n",
    "# assim...\n",
    "final = zip(zip(*agrupados)[0],zip(*agrupados)[1],abc)\n",
    "print '\\nfinal:\\t',final\n",
    "# qual a diferença entre 'final' e 'novo agrup'??"
   ]
  },
  {
   "cell_type": "markdown",
   "metadata": {},
   "source": [
    "<br/>**<code>reduce</code>** aplica uma função que recebe dois valores e retorna um a um iterável, cada vez pegando o resultado da iteração anterior omo primeiro parâmetro:"
   ]
  },
  {
   "cell_type": "code",
   "execution_count": 64,
   "metadata": {
    "collapsed": false
   },
   "outputs": [
    {
     "name": "stdout",
     "output_type": "stream",
     "text": [
      "20\n"
     ]
    }
   ],
   "source": [
    "def add(x,y):\n",
    "    return x+y\n",
    "\n",
    "print reduce(add, [2,4,6,8])"
   ]
  },
  {
   "cell_type": "markdown",
   "metadata": {},
   "source": [
    "<br/>**<code>filter</code>** recebe uma função que retorna <code>True</code> ou <code>False</code> e um iterável. Constrói uma lista com os membros do iterável para os quais a função responde <code>True</code>"
   ]
  },
  {
   "cell_type": "code",
   "execution_count": 65,
   "metadata": {
    "collapsed": false
   },
   "outputs": [
    {
     "name": "stdout",
     "output_type": "stream",
     "text": [
      "[6, 6, 7]\n",
      "('Felipe', 'Daniel', 'Mariana')\n"
     ]
    }
   ],
   "source": [
    "CUT_OFF = 5\n",
    "def maior(x):\n",
    "    return x >= CUT_OFF\n",
    "\n",
    "y = filter(maior,tamanhos_de_cada)\n",
    "print y\n",
    "\n",
    "def maior_que(x):\n",
    "    return x[0] >= CUT_OFF\n",
    "\n",
    "# agora posso fazer algo mais desafiador... o que estou fazendo aqui?? \n",
    "print zip(*filter(maior_que, zip(tamanhos_de_cada, equipe)))[1]\n",
    "#seja um dos 5 primeiros e um email explicando com o subject [explicação do filter]"
   ]
  },
  {
   "cell_type": "markdown",
   "metadata": {},
   "source": [
    "<span id=\"defaults\"><h4>Valores *default* em funções</h4></span>"
   ]
  },
  {
   "cell_type": "markdown",
   "metadata": {},
   "source": [
    "O Python permite que argumentos de funções tenham valores *default*, de forma que, se nada for passado naquele parametro, a função provê um valor pre-definido ao invés de dar erro.\n",
    "\n",
    "Em código:"
   ]
  },
  {
   "cell_type": "code",
   "execution_count": 66,
   "metadata": {
    "collapsed": false
   },
   "outputs": [
    {
     "name": "stdout",
     "output_type": "stream",
     "text": [
      "Ivar torce por Inter\n",
      "Daniel torce por Mordor\n"
     ]
    }
   ],
   "source": [
    "def meu_time(nome, time='Mordor'):\n",
    "    return nome + ' torce por ' + time\n",
    "\n",
    "print meu_time('Ivar','Inter')\n",
    "#  na ausência do valor, vai o default\n",
    "print meu_time('Daniel')"
   ]
  },
  {
   "cell_type": "markdown",
   "metadata": {},
   "source": [
    "Cuidado que passar <code>None</code> ainda é passar alguma coisa:"
   ]
  },
  {
   "cell_type": "code",
   "execution_count": 67,
   "metadata": {
    "collapsed": false
   },
   "outputs": [
    {
     "ename": "TypeError",
     "evalue": "cannot concatenate 'str' and 'NoneType' objects",
     "output_type": "error",
     "traceback": [
      "\u001b[0;31m---------------------------------------------------------------------------\u001b[0m\n\u001b[0;31mTypeError\u001b[0m                                 Traceback (most recent call last)",
      "\u001b[0;32m<ipython-input-67-387ca642fad3>\u001b[0m in \u001b[0;36m<module>\u001b[0;34m()\u001b[0m\n\u001b[0;32m----> 1\u001b[0;31m \u001b[0;32mprint\u001b[0m \u001b[0mmeu_time\u001b[0m\u001b[0;34m(\u001b[0m\u001b[0;34m'Felipe'\u001b[0m\u001b[0;34m,\u001b[0m \u001b[0mNone\u001b[0m\u001b[0;34m)\u001b[0m \u001b[0;31m# uh oh!\u001b[0m\u001b[0;34m\u001b[0m\u001b[0m\n\u001b[0m",
      "\u001b[0;32m<ipython-input-66-c198612e6fc7>\u001b[0m in \u001b[0;36mmeu_time\u001b[0;34m(nome, time)\u001b[0m\n\u001b[1;32m      1\u001b[0m \u001b[0;32mdef\u001b[0m \u001b[0mmeu_time\u001b[0m\u001b[0;34m(\u001b[0m\u001b[0mnome\u001b[0m\u001b[0;34m,\u001b[0m \u001b[0mtime\u001b[0m\u001b[0;34m=\u001b[0m\u001b[0;34m'Mordor'\u001b[0m\u001b[0;34m)\u001b[0m\u001b[0;34m:\u001b[0m\u001b[0;34m\u001b[0m\u001b[0m\n\u001b[0;32m----> 2\u001b[0;31m     \u001b[0;32mreturn\u001b[0m \u001b[0mnome\u001b[0m \u001b[0;34m+\u001b[0m \u001b[0;34m' torce por '\u001b[0m \u001b[0;34m+\u001b[0m \u001b[0mtime\u001b[0m\u001b[0;34m\u001b[0m\u001b[0m\n\u001b[0m\u001b[1;32m      3\u001b[0m \u001b[0;34m\u001b[0m\u001b[0m\n\u001b[1;32m      4\u001b[0m \u001b[0;32mprint\u001b[0m \u001b[0mmeu_time\u001b[0m\u001b[0;34m(\u001b[0m\u001b[0;34m'Ivar'\u001b[0m\u001b[0;34m,\u001b[0m\u001b[0;34m'Inter'\u001b[0m\u001b[0;34m)\u001b[0m\u001b[0;34m\u001b[0m\u001b[0m\n\u001b[1;32m      5\u001b[0m \u001b[0;31m#  na ausência do valor, vai o default\u001b[0m\u001b[0;34m\u001b[0m\u001b[0;34m\u001b[0m\u001b[0m\n",
      "\u001b[0;31mTypeError\u001b[0m: cannot concatenate 'str' and 'NoneType' objects"
     ]
    }
   ],
   "source": [
    "print meu_time('Felipe', None) # uh oh!"
   ]
  },
  {
   "cell_type": "markdown",
   "metadata": {},
   "source": [
    "**IMPORTANTE**: É um erro comum utilizar um objeto mutável como valor *default*. Lembra, de <a href=\"#pass_by_\">pass-by-value, pass-by-reference</a>?\n",
    "\n",
    "Vejamos um exemplo:"
   ]
  },
  {
   "cell_type": "code",
   "execution_count": 68,
   "metadata": {
    "collapsed": false
   },
   "outputs": [
    {
     "name": "stdout",
     "output_type": "stream",
     "text": [
      "['one']\n",
      "['one', 'two']\n"
     ]
    }
   ],
   "source": [
    "def bad_append(new_item, a_list=[]):\n",
    "    a_list.append(new_item)\n",
    "    return a_list\n",
    "\n",
    "print bad_append('one')\n",
    "\n",
    "print bad_append('two') "
   ]
  },
  {
   "cell_type": "markdown",
   "metadata": {},
   "source": [
    "<br/>Uh oh! Por que que o 'one' ainda está lá?!\n",
    "\n",
    "O problema é que o valor *default*, isto é, a lista vazia, é definida na **declaração** da função, e para sempre aponta para o **mesmo** objeto *default*, ou seja, o mesmo lugar na memória ...que é modificado!\n",
    "\n",
    "A forma correta de se criar uma lista (ou dicionário, ou qualquer objeto **mutável**) *default* é criá-lo durante a **execução** ...dentro de função."
   ]
  },
  {
   "cell_type": "code",
   "execution_count": 69,
   "metadata": {
    "collapsed": false
   },
   "outputs": [
    {
     "name": "stdout",
     "output_type": "stream",
     "text": [
      "['one']\n",
      "['two']\n"
     ]
    }
   ],
   "source": [
    "def good_append(new_item, a_list=None):\n",
    "    if a_list is None:\n",
    "        a_list = []\n",
    "    a_list.append(new_item)\n",
    "    return a_list\n",
    "\n",
    "print good_append('one')\n",
    "print good_append('two')"
   ]
  },
  {
   "cell_type": "markdown",
   "metadata": {},
   "source": [
    "<span id=\"lambda\"><h4>Funções anônimas com <code>lambda</code></h4></span>"
   ]
  },
  {
   "cell_type": "markdown",
   "metadata": {},
   "source": [
    "Há casos em que podemos querer aplicar uma expressão a uma coleção de objetos. Ou usar uma função simples apenas uma vez. Para estes casos, existe o operador <code>lambda</code>.\n",
    "\n",
    "Podemos usar o operador <code>lambda</code> para criar funções pequenas **anônimas**. Estas funções são chamadas anônimas pois não precisam de um <code>def</code> e um nome de chamada, isto é, não precisam ser *declaradas* na forma padrão.\n",
    "\n",
    "Expressões lambda podem aceitar qualquer quntidade de argumentos (como funções) mas devem conter apenas uma única **expressão**. Elas não podem aceitar *statements* ou múltiplas expressões.\n",
    "\n",
    "Aqui se torna importante que uma chamada <code>print</code> **não** se qualifica como uma expressão, e sim um *statement* mais abrangente; logo, chamadas print não são permitidas dentro de <code>lambda</code>.\n",
    "\n",
    "An anonymous function cannot be a direct call to print because lambda requires an expression.\n",
    "\n",
    "funções <code>lambda</code> têm seus próprios escopos internos, mas conseguem acessar variáveis da função ou escopo que a chama.\n",
    "\n",
    "Vamos ver um exemplo:"
   ]
  },
  {
   "cell_type": "code",
   "execution_count": 70,
   "metadata": {
    "collapsed": false
   },
   "outputs": [
    {
     "data": {
      "text/plain": [
       "['Ivar ama Python', 'Daniel ama Python', 'Felipe ama Python']"
      ]
     },
     "execution_count": 70,
     "metadata": {},
     "output_type": "execute_result"
    }
   ],
   "source": [
    "li = ['Ivar','Daniel','Felipe']\n",
    "\n",
    "# ao invés de definir uma função só para chamar dentro \n",
    "# do meu map ou fazer um for loop, uso uma função anônima\n",
    "quad = map(lambda inp: inp + ' ama Python', li)\n",
    "\n",
    "quad"
   ]
  },
  {
   "cell_type": "markdown",
   "metadata": {},
   "source": [
    "**IMPORTANTE**: É necessário tomar cuidado ao usar <code>lambda</code> e <code>def</code> dentro de loops <code>for</code>. \n",
    "\n",
    "Este cuidado é  necessário pois, se a função aninhada referencia algum valor que é modificado pelo loop, a regra de escopo dita que este será modificado e os ponteiros (isto é, as variáveis) criados acabarão por apontar ao valor final do loop.\n",
    "\n",
    "Vejamos:"
   ]
  },
  {
   "cell_type": "code",
   "execution_count": 71,
   "metadata": {
    "collapsed": false
   },
   "outputs": [
    {
     "data": {
      "text/plain": [
       "<function __main__.<lambda>>"
      ]
     },
     "execution_count": 71,
     "metadata": {},
     "output_type": "execute_result"
    }
   ],
   "source": [
    " def make():\n",
    "    items = []\n",
    "    for i in ['Ivar','Daniel','Felipe','Mari']:\n",
    "        # cada item é um FUNÇÃO criada com lambda\n",
    "        items.append(lambda x: i + x)\n",
    "    return items\n",
    "\n",
    " # populei uma lista onde cada item é uma ***FUNÇÃO***\n",
    " functions = make()\n",
    "# note...\n",
    " functions[0]\n",
    "# mas agora ao chamar as funções..."
   ]
  },
  {
   "cell_type": "code",
   "execution_count": 72,
   "metadata": {
    "collapsed": false
   },
   "outputs": [
    {
     "data": {
      "text/plain": [
       "'Mari ama Python'"
      ]
     },
     "execution_count": 72,
     "metadata": {},
     "output_type": "execute_result"
    }
   ],
   "source": [
    "# esta deve me dar 'Ivar ama python'\n",
    "functions[0](' ama Python')"
   ]
  },
  {
   "cell_type": "code",
   "execution_count": 73,
   "metadata": {
    "collapsed": false
   },
   "outputs": [
    {
     "data": {
      "text/plain": [
       "'Mari ama C'"
      ]
     },
     "execution_count": 73,
     "metadata": {},
     "output_type": "execute_result"
    }
   ],
   "source": [
    "# esta deve me dar 'Daniel ama C'\n",
    "functions[1](' ama C')"
   ]
  },
  {
   "cell_type": "code",
   "execution_count": 74,
   "metadata": {
    "collapsed": false
   },
   "outputs": [
    {
     "data": {
      "text/plain": [
       "'Mari ama LISP'"
      ]
     },
     "execution_count": 74,
     "metadata": {},
     "output_type": "execute_result"
    }
   ],
   "source": [
    "# esta deve me dar 'Felipe ama LISP'\n",
    "functions[2](' ama LISP')"
   ]
  },
  {
   "cell_type": "markdown",
   "metadata": {},
   "source": [
    "Mas todas só se lembram do último <code>i</code> que foi criado no <code>for</code>, pois este fica no escopo *externo* e foi modificado lá.\n",
    "\n",
    "Para reslver este problema, podemos usar um valor default, como vimos acima:"
   ]
  },
  {
   "cell_type": "code",
   "execution_count": 75,
   "metadata": {
    "collapsed": false
   },
   "outputs": [
    {
     "data": {
      "text/plain": [
       "('Ivar ama Python', 'Daniel ama C', 'Felipe ama LISP')"
      ]
     },
     "execution_count": 75,
     "metadata": {},
     "output_type": "execute_result"
    }
   ],
   "source": [
    " def make():\n",
    "    items = []\n",
    "    for i in ['Ivar','Daniel','Felipe','Mari']:\n",
    "        # cada item é um FUNÇÃO criada com lambda\n",
    "        #\n",
    "        # só que agora i é passado para dentro do \n",
    "        # lambda como valor default, e existe lá dentro!!\n",
    "        items.append(lambda x, i=i: i + x)\n",
    "    return items\n",
    "\n",
    " # populei uma lista onde cada item é uma ***FUNÇÃO***\n",
    " functions = make()\n",
    "# agora ao chamar as funções...\n",
    " functions[0](' ama Python'),functions[1](' ama C'), functions[2](' ama LISP')"
   ]
  },
  {
   "cell_type": "markdown",
   "metadata": {},
   "source": [
    "<h6>FAQ: Mas se <code>lambda</code> só aceita uma expressão, qual a diferença entre 'expression' e 'statement'?</h6>"
   ]
  },
  {
   "cell_type": "markdown",
   "metadata": {},
   "source": [
    "Volte e leia a parte sobre <a href=\"#expressoes\">expressões</a> e <a href=\"#statements\">*statements*</a>"
   ]
  },
  {
   "cell_type": "markdown",
   "metadata": {},
   "source": [
    "<span id=\"args_kwargs\"><h4>Parâmetros Variáveis com \\*args, \\*\\*kwargs</h4></span>"
   ]
  },
  {
   "cell_type": "markdown",
   "metadata": {},
   "source": [
    "O Python nos permite a flexibilidade de montar funções que não precisam saber o números de argumentos que lhes serão passadas. Para isso usamos os operadores '<code>\\*</code>' e '<code>\\*\\*</code>' ao declarar a função.\n",
    "\n",
    "O operador '<code>\\*</code>' faz com que a variável que o segue (quase sempre chamada 'args' pela comunidade Python) seja interpretada como uma tupla contendo todos os argumentos da função passados dali em diante. Veja:"
   ]
  },
  {
   "cell_type": "code",
   "execution_count": 76,
   "metadata": {
    "collapsed": false
   },
   "outputs": [
    {
     "name": "stdout",
     "output_type": "stream",
     "text": [
      "eis o primeiro: 3 \n",
      "\n",
      "Daniel é 10 ou 3.14\n"
     ]
    }
   ],
   "source": [
    "def foo(primeiroarg, *args):\n",
    "    print 'eis o primeiro:',primeiroarg,'\\n'\n",
    "    # todos os outros args são empacotados em uma tupla por cause do '*'!\n",
    "    for i in args: \n",
    "        # EASTER-EGG: quem me explica a vírgula aqui? \n",
    "        # os primeiros 5 a mandar um email para daniel.chada<arroba>fgv<ponto>br \n",
    "        # explicando (corretamente) ganham chocolate!\n",
    "        print i,   \n",
    " \n",
    "# note que estou passando 6 argumentos, mas a função só recebe dois! \n",
    "# ...não dá erro??\n",
    "foo(3, 'Daniel','é', 10, 'ou', 3.14)"
   ]
  },
  {
   "cell_type": "markdown",
   "metadata": {},
   "source": [
    "Já o operador '<code>\\*\\*</code>' acolhe todos os valores *nomeados*, isto é, que recebem nome na chamada (**não** na declaração) em um dicionário (sempre nomeado 'kwargs' pela comunidade Python), com as chaves sendo os nomes das variáveis, e os valores seus valores.\n",
    "\n",
    "veja:"
   ]
  },
  {
   "cell_type": "code",
   "execution_count": 77,
   "metadata": {
    "collapsed": false
   },
   "outputs": [
    {
     "name": "stdout",
     "output_type": "stream",
     "text": [
      "eis o primeiro: 1o \n",
      "\n",
      "a chave: python ...tem valor: legal\n",
      "a chave: Ivar ...tem valor: Ivan\n",
      "a chave: trabalho ...tem valor: diversão\n",
      "a chave: Daniel ...tem valor: melhor professor DO MUNDO!\n"
     ]
    }
   ],
   "source": [
    "def bar(primeiroarg, **kwargs):\n",
    "    print 'eis o primeiro:',primeiroarg,'\\n'\n",
    "    \n",
    "    for key,val in kwargs.items():\n",
    "        print 'a chave:',key,'...tem valor:',val\n",
    "        \n",
    "bar('1o', trabalho='diversão', python='legal', Daniel='melhor professor DO MUNDO!', Ivar='Ivan')"
   ]
  },
  {
   "cell_type": "markdown",
   "metadata": {},
   "source": [
    "<br/>O site http://freepythontips.wordpress.com/2013/08/04/args-and-kwargs-in-python-explained/ contém uma boa explicação sobre o assunto."
   ]
  },
  {
   "cell_type": "markdown",
   "metadata": {},
   "source": [
    "<span id=\"aula_7\"><h2>Módulo 7 - Strings Avançados</h2></span>"
   ]
  },
  {
   "cell_type": "markdown",
   "metadata": {},
   "source": [
    "Neste módulo veremos um pouco mais sobre strings, e as diferentes formas de interpretá-los.\n",
    "\n",
    "String é um subtipo de **sequência**, de fato, uma string é um **sequência imutável**, tal qual uma tupla.\n",
    "\n",
    "String não são apenas para guardar e procesar informação em texto. No Python, string podem servir para guardar e processar informação em qualquer formato binário, até imagens e outras mídias. Isso os torna fortemente flexíveis, mas um pouco mais difíceis de lidar quando saímos das interpretações triviais (isto é, 8 bits = um caractére).\n",
    "\n",
    "OBS: para referência, eis todos os tipos Python que são sequências: <code>str, unicode, list, tuple, bytearray, buffer, xrange</code>. Leia mais sobre eles em https://docs.python.org/2/library/stdtypes.html#sequence-types-str-unicode-list-tuple-bytearray-buffer-xrange"
   ]
  },
  {
   "cell_type": "markdown",
   "metadata": {},
   "source": [
    "<span id=\"unicode\"><h4>Unicode strings</h4></span>"
   ]
  },
  {
   "cell_type": "markdown",
   "metadata": {},
   "source": [
    "Python também nos permite utilizar caracteres fora do 'básico' provido pelo código ASCII (veja a lista ASCII completa em http://www.asciitable.com), permitindo quaisquer caracteres do Unicode (cuja espcificação fica em http://www.unicode.org). O site da Unicode explica: \"*Unicode provides a unique number for every character, no matter what the platform, no matter what the program, no matter what the language*\".\n",
    "\n",
    "O Livro Referência [1], descreve: \"*non-Unicode strings are sequences of 8-bit bytes that print with ASCII characters when possible, and Unicode strings are sequences of Unicode code points - identifying numbers for characters, which do not necessarily map to single bytes when encoded to files or stored in memory. In fact, the notion of bytes doesn't apply to Unicode*\".\n",
    "\n",
    "Vejamos um exemplo um pouco mais concreto:"
   ]
  },
  {
   "cell_type": "code",
   "execution_count": 78,
   "metadata": {
    "collapsed": false
   },
   "outputs": [
    {
     "name": "stdout",
     "output_type": "stream",
     "text": [
      "sp�m\n",
      "spÄm\n"
     ]
    }
   ],
   "source": [
    "# o caractere em Unicode não é automaticamente lido no Python 2.x\n",
    "print 'sp\\xc4m' \n",
    "# se colocarmos o 'u' na frente da string, o Python sabe que deve ler como\n",
    "# Unicode\n",
    "print u'sp\\xc4m' "
   ]
  },
  {
   "cell_type": "markdown",
   "metadata": {},
   "source": [
    "<br/>As funções <code>encode()</code> e <code>decode()</code> funcionam para **mapear** strings para que sejam interpretados de certo jeito.\n",
    "\n",
    "Vejamos alguns outros exemplos de mapeamento:"
   ]
  },
  {
   "cell_type": "code",
   "execution_count": 79,
   "metadata": {
    "collapsed": false
   },
   "outputs": [
    {
     "data": {
      "text/plain": [
       "'\\xc3\\xa1'"
      ]
     },
     "execution_count": 79,
     "metadata": {},
     "output_type": "execute_result"
    }
   ],
   "source": [
    "'\\xc3\\xa1' # um string de um bando de caracteres"
   ]
  },
  {
   "cell_type": "code",
   "execution_count": 80,
   "metadata": {
    "collapsed": false
   },
   "outputs": [
    {
     "name": "stdout",
     "output_type": "stream",
     "text": [
      "á\n",
      "á\n"
     ]
    }
   ],
   "source": [
    "print '\\xc3\\xa1' # a função print é esperta e interpreta o utf-8\n",
    ">>> print 'á'"
   ]
  },
  {
   "cell_type": "code",
   "execution_count": 81,
   "metadata": {
    "collapsed": false
   },
   "outputs": [
    {
     "data": {
      "text/plain": [
       "u'\\xe1'"
      ]
     },
     "execution_count": 81,
     "metadata": {},
     "output_type": "execute_result"
    }
   ],
   "source": [
    "u'\\xe1' # um unicode sem muito sentido"
   ]
  },
  {
   "cell_type": "code",
   "execution_count": 82,
   "metadata": {
    "collapsed": false
   },
   "outputs": [
    {
     "name": "stdout",
     "output_type": "stream",
     "text": [
      "á\n"
     ]
    }
   ],
   "source": [
    "print u'\\xe1' # mas a função print já interpreta diferente"
   ]
  },
  {
   "cell_type": "code",
   "execution_count": 83,
   "metadata": {
    "collapsed": false
   },
   "outputs": [
    {
     "data": {
      "text/plain": [
       "'\\xc3\\xa1'"
      ]
     },
     "execution_count": 83,
     "metadata": {},
     "output_type": "execute_result"
    }
   ],
   "source": [
    "u'\\xe1'.encode('utf-8') # mapeando"
   ]
  },
  {
   "cell_type": "code",
   "execution_count": 84,
   "metadata": {
    "collapsed": false
   },
   "outputs": [
    {
     "name": "stdout",
     "output_type": "stream",
     "text": [
      "á\n"
     ]
    }
   ],
   "source": [
    "print u'\\xe1'.encode('utf-8') "
   ]
  },
  {
   "cell_type": "code",
   "execution_count": 85,
   "metadata": {
    "collapsed": false
   },
   "outputs": [
    {
     "data": {
      "text/plain": [
       "u'\\xe1'"
      ]
     },
     "execution_count": 85,
     "metadata": {},
     "output_type": "execute_result"
    }
   ],
   "source": [
    "'\\xc3\\xa1'.decode('utf-8') # ...e de volta"
   ]
  },
  {
   "cell_type": "code",
   "execution_count": 86,
   "metadata": {
    "collapsed": false
   },
   "outputs": [
    {
     "name": "stdout",
     "output_type": "stream",
     "text": [
      "á\n"
     ]
    }
   ],
   "source": [
    "print '\\xc3\\xa1'.decode('utf-8')"
   ]
  },
  {
   "cell_type": "markdown",
   "metadata": {},
   "source": [
    "Para quem quiser ler um pouco mais sobre a função <code>print</code>, busque aqui: https://docs.python.org/2/library/functions.html#print"
   ]
  },
  {
   "cell_type": "code",
   "execution_count": 87,
   "metadata": {
    "collapsed": false
   },
   "outputs": [
    {
     "data": {
      "text/plain": [
       "u'\\xf6'"
      ]
     },
     "execution_count": 87,
     "metadata": {},
     "output_type": "execute_result"
    }
   ],
   "source": [
    "s = 'ö'\n",
    ">>> s.decode('utf-8') # estou usando o '>>>' para emular o terminal python que imprime as operações sem usar o print"
   ]
  },
  {
   "cell_type": "code",
   "execution_count": 88,
   "metadata": {
    "collapsed": false
   },
   "outputs": [
    {
     "data": {
      "text/plain": [
       "'\\xff\\xfes\\x00p\\x00a\\x00m\\x00'"
      ]
     },
     "execution_count": 88,
     "metadata": {},
     "output_type": "execute_result"
    }
   ],
   "source": [
    ">>> 'spam'.encode('utf-16') # mapeie para utf-16 (16 bytes por caractere)"
   ]
  },
  {
   "cell_type": "code",
   "execution_count": 89,
   "metadata": {
    "collapsed": false
   },
   "outputs": [
    {
     "name": "stdout",
     "output_type": "stream",
     "text": [
      "sp�m\n"
     ]
    }
   ],
   "source": [
    ">>> print 'sp\\xc4m' # uh oh, estou tentando considerar como string normal"
   ]
  },
  {
   "cell_type": "code",
   "execution_count": 90,
   "metadata": {
    "collapsed": false
   },
   "outputs": [
    {
     "name": "stdout",
     "output_type": "stream",
     "text": [
      "spÄm\n"
     ]
    }
   ],
   "source": [
    ">>> print u'sp\\xc4m' # considere como um unicode"
   ]
  },
  {
   "cell_type": "code",
   "execution_count": 91,
   "metadata": {
    "collapsed": false
   },
   "outputs": [
    {
     "data": {
      "text/plain": [
       "u'sp\\xc4\\xc4\\xc4m'"
      ]
     },
     "execution_count": 91,
     "metadata": {},
     "output_type": "execute_result"
    }
   ],
   "source": [
    ">>> u'sp\\xc4\\u00c4\\U000000c4m' # unicode hexadecimal, unicode 'curto' (16) e unicode 'longo' (32)"
   ]
  },
  {
   "cell_type": "code",
   "execution_count": 92,
   "metadata": {
    "collapsed": false
   },
   "outputs": [
    {
     "name": "stdout",
     "output_type": "stream",
     "text": [
      "spÄÄÄm\n"
     ]
    }
   ],
   "source": [
    ">>> print u'sp\\xc4\\u00c4\\U000000c4m'"
   ]
  },
  {
   "cell_type": "markdown",
   "metadata": {},
   "source": [
    "Há *codecs* (mapeamentos) que não tem nada à ver com texto, mas sim com como interpretar uma sequência de *bytes* (i.e. arquivos *zip*), veja https://docs.python.org/2/library/codecs.html#python-specific-encodings\n",
    "\n",
    "Uma lista dos *codecs* padrão que o Python lida como *built-in* existe aqui: https://docs.python.org/2/library/codecs.html#standard-encodings"
   ]
  },
  {
   "cell_type": "code",
   "execution_count": 93,
   "metadata": {
    "collapsed": false
   },
   "outputs": [
    {
     "data": {
      "text/plain": [
       "'x\\x9c;\\xbc\\r\\x00\\x02>\\x01z'"
      ]
     },
     "execution_count": 93,
     "metadata": {},
     "output_type": "execute_result"
    }
   ],
   "source": [
    ">>> s.encode('zip')"
   ]
  },
  {
   "cell_type": "markdown",
   "metadata": {},
   "source": [
    "<span id=\"formatacao\"><h4>Formatação</h4></span>"
   ]
  },
  {
   "cell_type": "markdown",
   "metadata": {},
   "source": [
    "Python permite a formatação de strings via a função <code>str.format()</code>. O string sendo formatado (isto é, que chama a sua própria função <code>format()</code> poe conter texto literal (como sempre) ou campos de 'substituição', delimitados por chaves <code>{}</code>.\n",
    "\n",
    "Cada campo de substituição contém ou o índice numérico de um argumento posicional ou o nome de um argumento (veja o exemplo).\n",
    "\n",
    "A função retorna uma cópia da string onde cada campo de substituição é trocado pelo valor string (<code>str()</code>) do argumento correspondente.\n",
    "\n",
    "Vejamos:"
   ]
  },
  {
   "cell_type": "code",
   "execution_count": 94,
   "metadata": {
    "collapsed": false
   },
   "outputs": [
    {
     "name": "stdout",
     "output_type": "stream",
     "text": [
      "O melhor professor de Python é {} e o triste segundo é {}.\n",
      "O melhor professor de Python é Daniel e o triste segundo é Ivar.\n"
     ]
    }
   ],
   "source": [
    "x = 'O melhor professor de Python é {} e o triste segundo é {}.'\n",
    "print x\n",
    "\n",
    "y = x.format('Daniel','Ivar')\n",
    "print y"
   ]
  },
  {
   "cell_type": "markdown",
   "metadata": {},
   "source": [
    "<br/>Vejamos colocando informação, junto ao delimitador:"
   ]
  },
  {
   "cell_type": "code",
   "execution_count": 95,
   "metadata": {
    "collapsed": false
   },
   "outputs": [
    {
     "name": "stdout",
     "output_type": "stream",
     "text": [
      "O melhor professor de Python é Ivar e o triste segundo é Daniel.\n"
     ]
    }
   ],
   "source": [
    "print 'O melhor professor de Python é {1}\\\n",
    " e o triste segundo é {0}.'.format('Daniel', 'Ivar')"
   ]
  },
  {
   "cell_type": "markdown",
   "metadata": {},
   "source": [
    "<br/>Também aceita-se valores nomeados, vejamos:"
   ]
  },
  {
   "cell_type": "code",
   "execution_count": 96,
   "metadata": {
    "collapsed": false
   },
   "outputs": [
    {
     "name": "stdout",
     "output_type": "stream",
     "text": [
      "olá, sou Daniel e tenho 34 anos! Gosto muito de fazer aluno sofrer e fazer aluno chorar!\n"
     ]
    }
   ],
   "source": [
    "at1 = 'fazer aluno sofrer'\n",
    "at2 = 'fazer aluno chorar'\n",
    "\n",
    "s = \"\"\"olá, sou {nome} e tenho {idade} anos! \\\n",
    "Gosto muito de {ativ1} e {ativ2}!\"\"\"\n",
    "\n",
    "print s.format(nome='Daniel'\n",
    "            , idade='34'\n",
    "            , ativ1=at1\n",
    "            , ativ2=at2)"
   ]
  },
  {
   "cell_type": "markdown",
   "metadata": {},
   "source": [
    "<br/>Também podemos usar híbridos de posicionamento e nomeação (lembrem da seção sobre <a href=\"#args_kwargs\">\\*args e \\*\\*kwargs</a>)"
   ]
  },
  {
   "cell_type": "code",
   "execution_count": 97,
   "metadata": {
    "collapsed": false
   },
   "outputs": [
    {
     "name": "stdout",
     "output_type": "stream",
     "text": [
      "olá, sou Daniel e tenho 34 ...gosto do programar e dar zero a alunos!\n"
     ]
    }
   ],
   "source": [
    "s = \"olá, sou {0} e tenho {1} ...gosto do {at1} e {at2}!\"\n",
    "at1 = \"programar\"\n",
    "at2 = 'dar zero a alunos'\n",
    "\n",
    "print s.format('Daniel','34', at1=at1, at2=at2)"
   ]
  },
  {
   "cell_type": "markdown",
   "metadata": {},
   "source": [
    "</br>A documentação do Python contém varios exemplos de formatação ...\n",
    "\n",
    "aqui: (https://docs.python.org/2/library/string.html#format-examples)\n",
    "\n",
    "e aqui: (https://docs.python.org/2/tutorial/inputoutput.html#fancier-output-formatting)"
   ]
  },
  {
   "cell_type": "markdown",
   "metadata": {},
   "source": [
    "<span id=\"multi_line\"><h4>Multi-line strings</h4></span>"
   ]
  },
  {
   "cell_type": "markdown",
   "metadata": {},
   "source": [
    "String multi-linha são bastante simples no Python: usamos **três** aspas para defini-los:"
   ]
  },
  {
   "cell_type": "code",
   "execution_count": 98,
   "metadata": {
    "collapsed": false
   },
   "outputs": [
    {
     "data": {
      "text/plain": [
       "'Ei! Eu\\n\\nsou uma\\n\\nstring multi-linha!'"
      ]
     },
     "execution_count": 98,
     "metadata": {},
     "output_type": "execute_result"
    }
   ],
   "source": [
    ">>> x = \"\"\"Ei! Eu\n",
    "\n",
    "sou uma\n",
    "\n",
    "string multi-linha!\"\"\"\n",
    ">>> x"
   ]
  },
  {
   "cell_type": "code",
   "execution_count": 99,
   "metadata": {
    "collapsed": false
   },
   "outputs": [
    {
     "name": "stdout",
     "output_type": "stream",
     "text": [
      "Ei! Eu\n",
      "\n",
      "sou uma\n",
      "\n",
      "string multi-linha!\n"
     ]
    }
   ],
   "source": [
    "print x"
   ]
  },
  {
   "cell_type": "markdown",
   "metadata": {},
   "source": [
    "<span id=\"coding\"><h4>Enfim ...O porque do \"<code>#coding: utf-8</code>\" no início dos arquivos!</h4></span>"
   ]
  },
  {
   "cell_type": "markdown",
   "metadata": {},
   "source": [
    "O <code>coding: utf-8</code> no início dos nossos arquivos .py indica que aquele código python deve ser interpretado como uma série de caracteres utf-8, não ASCII (que não permite acentos, e uma série de outros caracteres).\n",
    "\n",
    "[a definição formal pela comunidade Python](http://legacy.python.org/dev/peps/pep-0263/) descreve: \"*The encoding information is then used by the Python parser to interpret the file using the given encoding. Most notably this enhances the interpretation of Unicode literals in the source code and makes it possible to write Unicode literals using e.g. UTF-8 directly in an Unicode aware editor*\".\n",
    "\n",
    "Assim, o Python, ao ler nosso arquivo .py, consegue entender caracteres fora do ASCII."
   ]
  },
  {
   "cell_type": "markdown",
   "metadata": {},
   "source": [
    "<span id=\"aula_8\"><h2>Módulo 8 - Números Binários, Tabelas Verdade, OR, AND, XOR, NAND</h2></span>"
   ]
  },
  {
   "cell_type": "markdown",
   "metadata": {},
   "source": [
    "A computação como um todo se baseia em números binários. Mas o que queremos dizer quando dizemos 'binário', ou 'base dois'? Sabemos intuitivamente que, da mesma forma que a base decimal usa somente zero a nove {0,9}, a base binária se restringe a zeros e uns {0,1}.\n",
    "\n",
    "Na base decimal, quando chegamos ao final, adicionamos um à próxima casa 'decimal' e começamos de novo. Esta próxima casa implica uma outra potência de dez. por exemplo, 243 significa\n",
    "\n",
    "<table>\n",
    "<tr>\n",
    "<td>2</td><td>4</td><td>3</td>\n",
    "</tr>\n",
    "<tr>\n",
    "<td>10^2</td><td>10^1</td><td>10^0</td>\n",
    "</tr>\n",
    "</table>\n",
    "\n",
    "243 é igual a <code>2\\*100 + 4\\*10 + 3\\*1</code>\n",
    "\n",
    "No binário, como só temos o 0 e o 1, fazemos a mesma coisa, mas muito mais vezes... ao chegar ao 'final' (o 1) adicionamos uma casa 'binária' e começamos de novo. Esta próxima casa implica outra potência de dois. Por exemplo 1011 significa:\n",
    "\n",
    "<table>\n",
    "<tr>\n",
    "<td>1</td><td>0</td><td>1</td><td>1</td>\n",
    "</tr>\n",
    "<tr>\n",
    "<td>2^3</td><td>2^2</td><td>2^1</td><td>2^0</td>\n",
    "</tr>\n",
    "</table>\n",
    "\n",
    "Assim, 1011 é igual a <code>1\\*8 + 0\\*4 + 1\\*2 + 1\\*1 = 8+2+1 = 11</code>\n",
    "\n",
    "\n"
   ]
  },
  {
   "cell_type": "markdown",
   "metadata": {},
   "source": [
    "Mais informação e exemplos podem ser encontrados em: https://docs.python.org/2/library/stdtypes.html#truth-value-testing"
   ]
  },
  {
   "cell_type": "markdown",
   "metadata": {},
   "source": [
    "<span id=\"bitwise\"><h4>Operadores Bitwise: not, or, xor, and, nand</h4></span>"
   ]
  },
  {
   "cell_type": "markdown",
   "metadata": {},
   "source": [
    "Com binários, podemos utilizar operadores (iguais aos operadores lógicos que já vimos, mas que funcionam bit a bit), chamados bitwise. Vamos encontrar os mesmos operadores, mas vamos ver alguns outros importantes na computação também.\n",
    "\n",
    "O *ou exclusivo* (*exclusive or*) também chamado **xor** ...dadas duas proposições **A** e **B**, o xor funciona assim:\n",
    "\n",
    "<table><tbody>\n",
    "<tr><td><code>A</code></td><td><code>B</code></td><td><code>A xor B</code></td></tr>\n",
    "<tr><td><code>0</code></td><td><code>0</code></td><td><code>0</code></td></tr>\n",
    "<tr><td><code>0</code></td><td><code>1</code></td><td><code>1</code></td></tr>\n",
    "<tr><td><code>1</code></td><td><code>0</code></td><td><code>1</code></td></tr>\n",
    "<tr><td><code>1</code></td><td><code>1</code></td><td><code>0</code></td></tr>\n",
    "</tbody>\n",
    "</table>\n",
    "\n",
    "O xor é uma operação composta, que pode ser expressa como <code>(A or B) and not(A and B)</code>\n",
    "\n",
    "O *and negado* (*negated and*), também chamado **nand** ...dadas duas proposições **A** e **B**, o nand oferece os resultados opostos a um operador *and* assim:\n",
    "\n",
    "<table>\n",
    "<tbody>\n",
    "<tr><td><code>A</code></td><td><code>B</code></td><td><code>A nand B</code></td></tr>\n",
    "<tr><td><code>0</code></td><td><code>0</code></td><td><code>1</code></td></tr>\n",
    "<tr><td><code>0</code></td><td><code>1</code></td><td><code>1</code></td></tr>\n",
    "<tr><td><code>1</code></td><td><code>0</code></td><td><code>1</code></td></tr>\n",
    "<tr><td><code>1</code></td><td><code>1</code></td><td><code>0</code></td></tr>\n",
    "</tbody>\n",
    "</table>"
   ]
  },
  {
   "cell_type": "code",
   "execution_count": 100,
   "metadata": {
    "collapsed": false
   },
   "outputs": [
    {
     "name": "stdout",
     "output_type": "stream",
     "text": [
      "0b1011\n",
      "0b1001\n"
     ]
    }
   ],
   "source": [
    "a = 0b1011\n",
    "b = 0b1001\n",
    "\n",
    "print bin(a | b) # operador 'or' bitwise\n",
    "\n",
    "print bin(a & b) # operador 'and' bitwise\n"
   ]
  },
  {
   "cell_type": "markdown",
   "metadata": {},
   "source": [
    "<span id=\"aula_9\"><h2>Módulo 9 - Usando APIs Externas</h2></span>"
   ]
  },
  {
   "cell_type": "markdown",
   "metadata": {},
   "source": [
    "O Python package index é o principal repositório de módulos livremente disponíveis na internet.\n",
    "\n",
    "no momento da edição desta apostila, o site https://pypi.python.org/pypi descreve: \"*The Python Package Index is a repository of software for the Python programming language. There are currently 49551 packages here.*\"\n",
    "\n",
    "Como baixar e instalar? No Linux e OSX a ferramenta pip do terminal torna trivial a instalação de novos pacotes Python. No Windows, ela também pode ser usada, como descrito [aqui](https://docs.python.org/3.4/installing/index.html).\n",
    "\n",
    "Muitos módulos disponibilizam instaladores específicos para o Windows, facilitando o processo. Podemos encontrar uma lista extra-oficial de módulos com instaladores para o Windows [aqui](http://www.lfd.uci.edu/~gohlke/pythonlibs/).\n",
    "\n",
    "Em certos módulos do Python é necessário construir o módulo a partir do código-fonte original (isso se chama *build from source*).\n"
   ]
  },
  {
   "cell_type": "markdown",
   "metadata": {},
   "source": [
    "## Anexo A - Recursos Online"
   ]
  },
  {
   "cell_type": "markdown",
   "metadata": {},
   "source": [
    "[StackOverflow.com](http://stackoverflow.com)<br/>\n",
    "[Python.org](python.org)<br/>\n",
    "[Tutorialspoint.com](http://www.tutorialspoint.com/python/index.htm)\n",
    "\n"
   ]
  },
  {
   "cell_type": "markdown",
   "metadata": {},
   "source": [
    "## Referências"
   ]
  },
  {
   "cell_type": "markdown",
   "metadata": {},
   "source": [
    "[1] Lutz, M.; *Learning Python* 5th ed."
   ]
  },
  {
   "cell_type": "code",
   "execution_count": 100,
   "metadata": {
    "collapsed": false
   },
   "outputs": [],
   "source": []
  }
 ],
 "metadata": {
  "kernelspec": {
   "display_name": "Python 2",
   "language": "python",
   "name": "python2"
  },
  "language_info": {
   "codemirror_mode": {
    "name": "ipython",
    "version": 2
   },
   "file_extension": ".py",
   "mimetype": "text/x-python",
   "name": "python",
   "nbconvert_exporter": "python",
   "pygments_lexer": "ipython2",
   "version": "2.7.11"
  }
 },
 "nbformat": 4,
 "nbformat_minor": 0
}
