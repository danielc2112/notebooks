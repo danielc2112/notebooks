{
 "metadata": {
  "name": "",
  "signature": "sha256:3c758e7ee71f61170e95d2314eca41ef5315eec5201072e425976ae5d3600c83"
 },
 "nbformat": 3,
 "nbformat_minor": 0,
 "worksheets": [
  {
   "cells": [
    {
     "cell_type": "markdown",
     "metadata": {},
     "source": [
      "<h1><br/><br/><br/><br/><br/><br/><br/><br/><br/><br/><br/><br/>\n",
      "<center><u>Programa\u00e7\u00e3o para Advogados - Apostila 1</u></center></h1>"
     ]
    },
    {
     "cell_type": "markdown",
     "metadata": {},
     "source": [
      "<h4><br/> <br/> <br/> <br/> <br/> <br/> <br/> <br/> <br/><center>Daniel Chada & Ivar Hartmann<br/>2014</center><br/> <br/> <br/> <br/> <br/> <br/> <br/> <br/> <br/> <br/> <br/> <br/> <br/> <br/> <br/> <br/> <br/> <br/></h4>"
     ]
    },
    {
     "cell_type": "markdown",
     "metadata": {},
     "source": [
      "<h2><br/> <br/> <br/> <br/> <br/> <br/> <br/> <br/> <br/><center><span id=\"indice\">\u00cdndice<span></center><br/> <br/> <br/> <br/> <br/> <br/> <br/> <br/> <br/></h2>\n"
     ]
    },
    {
     "cell_type": "markdown",
     "metadata": {},
     "source": [
      "+ <a href=\"#introducao\">Introdu\u00e7\u00e3o<br/><br/></a>\n",
      "\n",
      "+ <a href=\"#aula_0\">M\u00f3dulo 0 - Boas Vindas<br/><br/></a>\n",
      "\n",
      "+ <a href=\"#aula_1\">M\u00f3dulo 1 - Vari\u00e1veis, N\u00fameros, Strings (pte. 1)<br/></a>\n",
      "\n",
      "    - <a href=\"#literais\">Literais</a>\n",
      "    \n",
      "    - <a href=\"#variaveis\">Vari\u00e1veis</a>\n",
      "    \n",
      "    - <a href=\"#operadores\">Operadores</a>\n",
      "    \n",
      "    - <a href=\"#expressoes\">Express\u00f5es</a>\n",
      "    \n",
      "    - <a href=\"#statements\">*Statements* (Declara\u00e7\u00f5es)</a>\n",
      "    \n",
      "    - <a href=\"#strings\">Strings</a>\n",
      "    \n",
      "    - <a href=\"#none\">O None</a>\n",
      "    \n",
      "    - <a href=\"#funcoes_uteis\">Fun\u00e7\u00f5es \u00dateis: dir(), type(), locals(), globals()</a>\n",
      "    \n",
      "    - <a href=\"#tipagem_dinamica\">Tipagem Din\u00e2mica<br/><br/></a>\n",
      "  \n",
      "+ <a href=\"#aula_2\">M\u00f3dulo 2</a>\n",
      "\n",
      "    - <a href=\"#estruturas_de_dados\">Estruturas de dados</a>\n",
      "    \n",
      "    - <a href=\"#lista_e_tupla\">Lista e tupla</a>\n",
      "    \n",
      "    - <a href=\"#indexacao_e_recorte\">Indexa\u00e7\u00e3o (*indexing*) e Recorte (*slicing*)</a>\n",
      "    \n",
      "    - <a href=\"#if_elif_else\">Condicionando a sequ\u00eancia do programa: if, elif, else</a>\n",
      "    \n",
      "    - <a href=\"#operadores_logicos\">Operadores L\u00f3gicos: not, or, and<br/><br/></a>\n",
      "\n",
      "+ <a href=\"#aula_3\">M\u00f3dulo 3 - Fun\u00e7\u00f5es (pte. 1)</a>\n",
      "\n",
      "    - <a href=\"#definindo\">Definindo ('declarando'):</a>\n",
      "    \n",
      "    - <a href=\"#usando\">Usando ('chamando'):</a>\n",
      "    \n",
      "    - <a href=\"#o_que_e_escopo\">O que \u00e9 escopo?</a>\n",
      "    \n",
      "    - <a href=\"#revendo_operadores\">Revendo operadores</a>\n",
      "    \n",
      "    - <a href=\"#pass\">A palavra reservada pass</a>\n",
      "    \n",
      "    - <a href=\"#pass_by_\">Mudando vari\u00e1veis dentro de um escopo --- *Pass by Value, Pass by Reference*, ** *pass-by-object reference* **</a>\n",
      "    \n",
      "    - <a href=\"#return\">Retornando valores (ou n\u00e3o)<br/><br/></a>\n",
      "    \n",
      "+ <a href=\"#aula_4\">M\u00f3dulo 4 - Itera\u00e7\u00e3o com for, range(); a \"Sua Amiga a Internet\"</a>\n",
      "\n",
      "    - <a href=\"#for\">O loop for:</a>\n",
      "    \n",
      "    - <a href=\"#range\">Usando range()</a>\n",
      "    \n",
      "    - <a href=\"#amiga\">Sua Amiga a Internet\" ou \"Olhe no Stack Overflow Antes!\"<br/><br/></a>\n",
      "\n",
      "+ <a href=\"#aula_5\">M\u00f3dulo 5 - Importa\u00e7\u00e3o de M\u00f3dulos, Abrindo e Manipulando Arquivos, Dicion\u00e1rios</a>\n",
      "\n",
      "    - <a href=\"#arquivos\">Arquivos - abrindo, e manipulando, de dentro e de fora</a>\n",
      "    \n",
      "    - <a href=\"#dicionarios\">Dicion\u00e1rios</a>\n",
      "    \n",
      "    - <a href=\"#modulos\">Importando M\u00f3dulos</a>\n",
      "    \n",
      "    - <a href=\"#chdir\">Manipulando arquivos em si, n\u00e3o s\u00f3 seu conte\u00fado (o m\u00f3dulo os)<br/><br/></a>\n",
      "    \n",
      "+ <a href=\"#aula_6\">M\u00f3dulo 6 - Fun\u00e7\u00f5es (pte. 2); Built-ins: zip, map, reduce, filter; usando lambda; usando \\*args, \\*\\*kwargs</a>\n",
      "\n",
      "    - <a href=\"#outras_built_in\">Outras Func\u00f5es Built-in</a>\n",
      "    \n",
      "    - <a href=\"#lambda\">Fun\u00e7\u00f5es an\u00f4nimas com lambda</a>\n",
      "    \n",
      "    - <a href=\"#defaults\">Valores default em fun\u00e7\u00f5es</a>\n",
      "    \n",
      "    - <a href=\"#args_kwargs\">Par\u00e2metros Vari\u00e1veis com \\*args, \\*\\*kwargs<br/><br/></a>\n",
      "\n",
      "+ <a href=\"#aula_7\">M\u00f3dulo 7 - Strings Avan\u00e7ados</a>\n",
      "\n",
      "    - <a href=\"#unicode\">Unicode strings</a>\n",
      "    \n",
      "    - <a href=\"#formatacao\">Formata\u00e7\u00e3o</a>\n",
      "    \n",
      "    - <a href=\"#multi_line\">Multi-line strings</a>\n",
      "    \n",
      "    - <a href=\"#coding\">Enfim ...O porque do \"#coding: utf-8\" no in\u00edcio dos arquivos!<br/><br/></a>\n",
      "    \n",
      "+ <a href=\"#aula_8\">M\u00f3dulo 8 - N\u00fameros Bin\u00e1rios, Tabelas Verdade, OR, AND, XOR, NAND</a>\n",
      "\n",
      "+ <a href=\"#aula_9\">M\u00f3dulo 9 - Usando APIs Externas</a>"
     ]
    },
    {
     "cell_type": "markdown",
     "metadata": {},
     "source": [
      "<span id=\"introducao\"><h2>Introdu\u00e7\u00e3o</h2></span>"
     ]
    },
    {
     "cell_type": "markdown",
     "metadata": {},
     "source": [
      "Esta apostila visa prover resumos do conte\u00fado visto em sala durante as aulas te\u00f3ricas da Atividade Complementar 'Programa\u00e7\u00e3o para Advogados'. N\u00e3o se visa que esta seja uma refer\u00eancia completa nem aprofundada de nenhum dos temas abordados em seu texto, mas sim uma introdu\u00e7\u00e3o amena a certos conceitos de utilidede a alunos de gradua\u00e7\u00e3o de Direito ou de outros temas de 'Humanas'.\n",
      "\n",
      "Almeja-se que os temas aqui abordados formem uma base conceitual para posterior aprofundamento tanto na teoria quanto na pratica do desenvolvimento de *software*.\n"
     ]
    },
    {
     "cell_type": "markdown",
     "metadata": {},
     "source": [
      "<span id=\"aula_0\"><h2>M\u00f3dulo 0 - Boas Vindas</h2></span>"
     ]
    },
    {
     "cell_type": "markdown",
     "metadata": {},
     "source": [
      "Bem-vindos Advo* ...programadores!\n",
      "\n",
      "Esta apostila segue o material coberto nas aulas te\u00f3ricas da ATC \"Programa\u00e7\u00e3o para Advogados\". Teremos exemplos pr\u00e1ticos toda semana. O formato desta apostila tem dupla funcionalidade: i. de ser uma refer\u00eancia impressa para acompanhamento e ii. ser um reposit\u00f3rio de exemplos de c\u00f3digo a serem explorados e editados.\n",
      "\n",
      "Com este fim, escolhemos oferecer n\u00e3o s\u00f3 a vers\u00e3o impressa da apostila, mas tamb\u00e9m uma vers\u00e3o em iPython Notebook. iPython Notebook \u00e9 um *framework* que permite a edi\u00e7\u00e3o de texto, junto com a execu\u00e7\u00e3o de c\u00f3digo Python, em c\u00e9lulas auto-contidas. Desta forma \u00e9 poss\u00edvel executar e editar, no seu pr\u00f3prio computador, os c\u00f3digos dos exemplos expostos aqui.\n",
      "\n",
      "A homepage do [Ipython Notebook](http://ipython.org/notebook.html) cont\u00e9m instru\u00e7\u00f5es para instala\u00e7\u00e3o para Windows, OSX e Linux.\n",
      "\n",
      "Nosso desejo \u00e9 que voc\u00ea, leitor e aluno da ATC, use esta funcionalidade para melhor entender o c\u00f3digo provido a cada exemplo e tente explorar diferentes aspectos do Python.\n",
      "\n",
      "Boa Sorte!"
     ]
    },
    {
     "cell_type": "markdown",
     "metadata": {},
     "source": [
      "<span id=\"aula_1\"><h2>M\u00f3dulo 1 - Vari\u00e1veis, N\u00fameros, Strings (pte. 1)</h2></span>"
     ]
    },
    {
     "cell_type": "heading",
     "level": 4,
     "metadata": {},
     "source": [
      "<span id=\"literais\"><h4>Literais</h4></span>"
     ]
    },
    {
     "cell_type": "markdown",
     "metadata": {},
     "source": [
      "S\u00e3o as express\u00f5es e a nota\u00e7\u00e3o usadas para gerar os valores de tipos *built-in* como n\u00fameros inteiros, longos (que ocupam mais espa\u00e7o em mem\u00f3ria, mas s\u00e3o maiores), decimais (tamb\u00e9m conhecidos como *floating point* ou *float*), n\u00fameros complexos e *strings*. Exemplos: **4, 3.2e212, 3.14159, 1+3j,'Ivar'**.\n",
      "\n",
      "Estes s\u00e3o chamados *literais* pois os objetos s\u00e3o literalmente aquilo que representam: **3, \"spam\", 7e4**\n",
      "\n",
      "Literais podem ser declarados, ou convertidos (dentro do poss\u00edvel) com **operadores** (que veremos abaixo) *built-in* do Python. isto \u00e9:"
     ]
    },
    {
     "cell_type": "code",
     "collapsed": false,
     "input": [
      "int(4.5) # gera um inteiro (que geralmente usa at\u00e9 32 bits de mem\u00f3ria)"
     ],
     "language": "python",
     "metadata": {},
     "outputs": [
      {
       "metadata": {},
       "output_type": "pyout",
       "prompt_number": 1,
       "text": [
        "4"
       ]
      }
     ],
     "prompt_number": 1
    },
    {
     "cell_type": "code",
     "collapsed": false,
     "input": [
      "str(4.5) # gera uma string"
     ],
     "language": "python",
     "metadata": {},
     "outputs": [
      {
       "metadata": {},
       "output_type": "pyout",
       "prompt_number": 2,
       "text": [
        "'4.5'"
       ]
      }
     ],
     "prompt_number": 2
    },
    {
     "cell_type": "code",
     "collapsed": false,
     "input": [
      "long(4.5e21) # gera um n\u00famero longo, que tem precis\u00e3o ilimitada (note o L ao final)"
     ],
     "language": "python",
     "metadata": {},
     "outputs": [
      {
       "metadata": {},
       "output_type": "pyout",
       "prompt_number": 3,
       "text": [
        "4500000000000000000000L"
       ]
      }
     ],
     "prompt_number": 3
    },
    {
     "cell_type": "code",
     "collapsed": false,
     "input": [
      "float(3) # gera um decimal, tamb\u00e9m chamado de 'ponto flutuante' (floating point)"
     ],
     "language": "python",
     "metadata": {},
     "outputs": [
      {
       "metadata": {},
       "output_type": "pyout",
       "prompt_number": 4,
       "text": [
        "3.0"
       ]
      }
     ],
     "prompt_number": 4
    },
    {
     "cell_type": "code",
     "collapsed": false,
     "input": [
      "bool(4.5) # gera um booleano"
     ],
     "language": "python",
     "metadata": {},
     "outputs": [
      {
       "metadata": {},
       "output_type": "pyout",
       "prompt_number": 5,
       "text": [
        "True"
       ]
      }
     ],
     "prompt_number": 5
    },
    {
     "cell_type": "code",
     "collapsed": false,
     "input": [
      "bool(0.000) # zero \u00e9 sempre falso no Python"
     ],
     "language": "python",
     "metadata": {},
     "outputs": [
      {
       "metadata": {},
       "output_type": "pyout",
       "prompt_number": 6,
       "text": [
        "False"
       ]
      }
     ],
     "prompt_number": 6
    },
    {
     "cell_type": "markdown",
     "metadata": {},
     "source": [
      "Python permite uma s\u00e9rie de outros formatos literais muito \u00fateis na computa\u00e7\u00e3o e ci\u00eancia, mas que n\u00e3o cabem no escopo desta apostila, como n\u00fameros complexos (a + b\u221a-1) octais (0-7), hexadecimais (1-9,A-F) e bin\u00e1rios (0,1). \n",
      "\n",
      "Veremos bin\u00e1rios brevemente em uma das \u00faltimas unidades."
     ]
    },
    {
     "cell_type": "code",
     "collapsed": false,
     "input": [
      "complex(1,3.14159)"
     ],
     "language": "python",
     "metadata": {},
     "outputs": [
      {
       "metadata": {},
       "output_type": "pyout",
       "prompt_number": 7,
       "text": [
        "(1+3.14159j)"
       ]
      }
     ],
     "prompt_number": 7
    },
    {
     "cell_type": "code",
     "collapsed": false,
     "input": [
      "oct(500) # um zero sempre o precede"
     ],
     "language": "python",
     "metadata": {},
     "outputs": [
      {
       "metadata": {},
       "output_type": "pyout",
       "prompt_number": 8,
       "text": [
        "'0764'"
       ]
      }
     ],
     "prompt_number": 8
    },
    {
     "cell_type": "code",
     "collapsed": false,
     "input": [
      "hex(500) # um '0x' sempre o precede"
     ],
     "language": "python",
     "metadata": {},
     "outputs": [
      {
       "metadata": {},
       "output_type": "pyout",
       "prompt_number": 9,
       "text": [
        "'0x1f4'"
       ]
      }
     ],
     "prompt_number": 9
    },
    {
     "cell_type": "code",
     "collapsed": false,
     "input": [
      "bin(500) # um '0b' sempre o precede"
     ],
     "language": "python",
     "metadata": {},
     "outputs": [
      {
       "metadata": {},
       "output_type": "pyout",
       "prompt_number": 10,
       "text": [
        "'0b111110100'"
       ]
      }
     ],
     "prompt_number": 10
    },
    {
     "cell_type": "markdown",
     "metadata": {},
     "source": [
      "<span id=\"variaveis\"><h4>Vari\u00e1veis</h4><span>"
     ]
    },
    {
     "cell_type": "markdown",
     "metadata": {},
     "source": [
      "**Vari\u00e1veis** s\u00e3o nomes que o programador d\u00e1 a *objetos* no seu c\u00f3digo. Podemos pensar em **objetos** como espa\u00e7os de mem\u00f3ria alocados no computador. Estes espa\u00e7os t\u00eam diferentes tamanhos e s\u00e3o grandes o suficiente para representar o que quer que cada objeto seja. Um inteiro no Python, por exemplo, geralmente ocupa 32 bits de mem\u00f3ria.\n",
      "\n",
      "Assim, uma vari\u00e1vel referencia um objeto. Uma **refer\u00eancia** \u00e9 um ponteiro, isto \u00e9, uma seta que aponta da vari\u00e1vel (nome) ao objeto (lugar). \n",
      "\n",
      "Veja a figura 1.1: internamente, a vari\u00e1vel aponta para o espa\u00e7o de mem\u00f3ria criado por se executar a express\u00e3o (veja o que \u00e9 uma *express\u00e3o* abaixo) do operador 3.\n",
      "\n",
      "<img src=\"img/fig_1.1.svg\" style=\"width:400px\"/>\n",
      "\n",
      "Vari\u00e1veis s\u00e3o criadas no momento que voc\u00ea as atribue um valor (*tecnicamente* algumas s\u00e3o criadas antes disso, mas para n\u00f3s basta esta defini\u00e7\u00e3o). Atribui\u00e7\u00f5es subsequentes no c\u00f3digo mudam o valor da vari\u00e1vel (i.e. mudam para onde ela aponta). Vari\u00e1veis nunca guardam em si nenhum tipo de informa\u00e7\u00e3o, elas simplesmente se referem a um lugar onde algo fica. [1]\n",
      "\n",
      "Quando uma vari\u00e1vel aparece em uma express\u00e3o, ela \u00e9 imediatamente substitu\u00edda pelo objeto para qual aponta:\n",
      "\n"
     ]
    },
    {
     "cell_type": "code",
     "collapsed": false,
     "input": [
      "x = 3   # crio o nome 'x' e mando ele apontar para o objeto '3' gerado na mem\u00f3ria\n",
      "print x # n\u00e3o imprimo 'x', e sim o valor para o qual 'x' aponta"
     ],
     "language": "python",
     "metadata": {},
     "outputs": [
      {
       "output_type": "stream",
       "stream": "stdout",
       "text": [
        "3\n"
       ]
      }
     ],
     "prompt_number": 11
    },
    {
     "cell_type": "code",
     "collapsed": false,
     "input": [
      "y = \"Python para advogados \u00e9 mole!\"\n",
      "print y"
     ],
     "language": "python",
     "metadata": {},
     "outputs": [
      {
       "output_type": "stream",
       "stream": "stdout",
       "text": [
        "Python para advogados \u00e9 mole!\n"
       ]
      }
     ],
     "prompt_number": 12
    },
    {
     "cell_type": "markdown",
     "metadata": {},
     "source": [
      "A nomenclatura de vari\u00e1veis deve seguir algumas regras: <br/>i. o primeiro caract\u00e9re da vari\u00e1vel deve ser uma letra ou o \\_ (underscore); <br/>ii. nomes de vari\u00e1veis s\u00e3o *case-sensitive*; <br/>iii. nomes de vari\u00e1veis s\u00f3 podem conter caracr\u00e9res alfanum\u00e9ricos ou o *underscore* (a-z,A-Z,0-9,\\_) "
     ]
    },
    {
     "cell_type": "code",
     "collapsed": false,
     "input": [
      "_oi_1 = '0'; Oi = 1; oi = '2' # exemplos de vari\u00e1veis (dica: o ';' funciona igual \u00e0 quebra de linha: permite um novo comando)\n",
      "print _oi_1, Oi, oi\n",
      "\n"
     ],
     "language": "python",
     "metadata": {},
     "outputs": [
      {
       "output_type": "stream",
       "stream": "stdout",
       "text": [
        "0 1 2\n"
       ]
      }
     ],
     "prompt_number": 13
    },
    {
     "cell_type": "markdown",
     "metadata": {},
     "source": [
      "<span id=\"operadores\"><h4>Operadores</h4></span>"
     ]
    },
    {
     "cell_type": "markdown",
     "metadata": {},
     "source": [
      "**Operadores** computam algum valor, quando executadas pelo Python. A tabela 1.1 lista todos os operadores do Python, em ordem de preced\u00eancia.<br/>"
     ]
    },
    {
     "cell_type": "markdown",
     "metadata": {},
     "source": [
      "<table width=\"100%\">\n",
      "<tbody>\n",
      "<tr>\n",
      "<td>operador</td><td>descri\u00e7\u00e3o</td><td>veremos?</td>\n",
      "<tr>\n",
      "<td><code>yield</code> x</td><td>protocolo de envio de uma fun\u00e7\u00e3o geradora</td><td>talvez</td>\n",
      "</tr>\n",
      "<tr>\n",
      "<td><code>lambda</code> args: express\u00e3o</td><td>gera\u00e7\u00e3o de fun\u00e7\u00e3o an\u00f4nima</td><td>sim</td>\n",
      "</tr>\n",
      "<tr>\n",
      "<td>x <code>if</code> y <code>else</code> z</td><td>sele\u00e7\u00e3o tern\u00e1ria</td><td>talvez</td>\n",
      "</tr>\n",
      "<tr>\n",
      "<td>x <code>or</code> y</td><td>'ou' l\u00f3gico</td><td>sim</td>\n",
      "</tr>\n",
      "<tr>\n",
      "<td>x <code>and</code> y</td><td>'e' l\u00f3gico</td><td>sim</td>\n",
      "</tr>\n",
      "<tr>\n",
      "<td><code>not</code> x</td><td>nega\u00e7\u00e3o l\u00f3gica</td><td>sim</td>\n",
      "</tr>\n",
      "<tr>\n",
      "<td>x <code>in</code> y; x <code>not in</code> y</td><td>pertence (iter\u00e1veis, conjuntos)</td><td>sim</td>\n",
      "</tr>\n",
      "<tr>\n",
      "<td>x <code>is</code> y; x <code>is not</code> y</td><td>teste de identidade de <i>objeto</i></td><td>sim</td>\n",
      "</tr>\n",
      "<tr>\n",
      "<td>x <code>&gt;,&gt;=,&lt;,&lt;=</code> y</td><td>compara magnitude, ou sub/super-conjunto</td><td>sim</td>\n",
      "</tr>\n",
      "<tr>\n",
      "<td>x <code>==</code> y, x <code>!=</code> y</td><td>igualdade/desigualdade de <i>valores</i></td><td>sim</td>\n",
      "</tr>\n",
      "<tr>\n",
      "<td>x | y</td><td>'ou' bitwise, uni\u00e3o de conjuntos</td><td>sim</td>\n",
      "</tr>\n",
      "<tr>\n",
      "<td>x &amp; y</td><td>'e' bitwise, interse\u00e7\u00e3o de conjuntos</td><td>sim</td>\n",
      "</tr>\n",
      "<tr>\n",
      "<td>x ^ y</td><td>xor bitwise</td><td>sim</td>\n",
      "</tr>\n",
      "<tr>\n",
      "<td>x <code>&lt;&lt;,&gt;&gt;</code> y</td><td>shiftar x, y bits para a esquerda/direita</td><td>sim</td>\n",
      "</tr>\n",
      "<tr>\n",
      "<td>x <code>+</code> y</td><td>adi\u00e7\u00e3o, concatena\u00e7\u00e3o</td><td>sim</td>\n",
      "</tr>\n",
      "<tr>\n",
      "<td>x <code>-</code> y</td><td>subtra\u00e7\u00e3o, deferen\u00e7a de conjuntos</td><td>sim</td>\n",
      "</tr>\n",
      "<tr>\n",
      "<td>x <code></code> y</td><td>multiplica\u00e7\u00e3o, repeti\u00e7\u00e3o</td><td>sim</td>\n",
      "</tr>\n",
      "<tr>\n",
      "<td>x <code>%</code> y</td><td>m\u00f3dulo (resto), formata\u00e7\u00e3o</td><td>sim</td>\n",
      "</tr>\n",
      "<tr>\n",
      "<td>x <code>/,//</code> y</td><td>divis\u00e3o: real e piso</td><td>sim</td>\n",
      "</tr>\n",
      "<tr>\n",
      "<td><code>-</code>x,<code>+</code>x</td><td>nega\u00e7\u00e3o, identidade</td><td>sim</td>\n",
      "</tr>\n",
      "<tr>\n",
      "<td><code>~</code>x</td><td>'n\u00e3o' bitwise, invers\u00e3o</td><td>sim</td>\n",
      "</tr>\n",
      "<tr>\n",
      "<td>x <code>**</code> y</td><td>pot\u00eancia\u00e7\u00e3o</td><td>sim</td>\n",
      "</tr>\n",
      "<tr>\n",
      "<td>x<code>[i]</code></td><td>indexa\u00e7\u00e3o (sequ\u00eancias, strings, etc)</td><td>sim</td>\n",
      "</tr>\n",
      "<tr>\n",
      "<td>x<code>[i:j:k]</code></td><td>recorte (<i>slicing</i>)</td><td>sim</td>\n",
      "</tr>\n",
      "<tr>\n",
      "<td>x<code>(...)</code></td><td>chamada (fun\u00e7\u00e3o, m\u00e9todo, classe, 'cham\u00e1veis')</td><td>sim</td>\n",
      "</tr>\n",
      "<tr>\n",
      "<td>x.<code><i>attr</i></code></td><td>refer\u00eancia a <i>attr</i></td><td>sim</td>\n",
      "</tr>\n",
      "<tr>\n",
      "<td><code>(...)</code></td><td>tupla, express\u00e3o, express\u00e3o geradora</td><td>sim</td>\n",
      "</tr>\n",
      "<tr>\n",
      "<td><code>[...]</code></td><td>lista, <i>list comprehension</i></td><td>sim</td>\n",
      "</tr>\n",
      "<tr>\n",
      "<td><code>{...}</code></td><td>dicion\u00e1rio</td><td>sim</td>\n",
      "</tr>\n",
      "<tr>\n",
      "<td></td><td></td><td><b>fonte: <a href=\"http://tutorialspoint.com\">tutorialspoint</a></b></td>\n",
      "</tr>\n",
      "</tbody>\n",
      "</table>"
     ]
    },
    {
     "cell_type": "markdown",
     "metadata": {},
     "source": [
      "<span id=\"expressoes\"><h4>Express\u00f5es</h4><span>"
     ]
    },
    {
     "cell_type": "markdown",
     "metadata": {},
     "source": [
      "**Express\u00f5es** s\u00e3o combina\u00e7\u00f5es de objetos (literais ou outros) e operadores que computam algum valor, quando executadas pelo Python. \n",
      "\n",
      "Express\u00f5es compostas seguem as regras de preced\u00eancia de operadores. Express\u00f5es compostas podem, por\u00e9m, ser agrupadas por par\u00eanteses em subexpress\u00f5es, ignorando as regras de prioridade normalmente aplicadas aos operadores (veja a Tabela 1.1 e o c\u00f3digo abaixo).\n",
      "\n"
     ]
    },
    {
     "cell_type": "code",
     "collapsed": false,
     "input": [
      "x = 2 + 3 * 4 # o lado direito do igual \u00e9 uma express\u00e3o\n",
      "y = (2 + 3) * 4 # aqui tamb\u00e9m\n",
      "print x, y"
     ],
     "language": "python",
     "metadata": {},
     "outputs": [
      {
       "output_type": "stream",
       "stream": "stdout",
       "text": [
        "14 20\n"
       ]
      }
     ],
     "prompt_number": 14
    },
    {
     "cell_type": "markdown",
     "metadata": {},
     "source": [
      "<span id=\"statements\"><h4>*Statements* (Declara\u00e7\u00f5es)</h4></span>"
     ]
    },
    {
     "cell_type": "markdown",
     "metadata": {},
     "source": [
      "Uma ***statement*** no Python \u00e9 qualquer linha de c\u00f3digo que o Python consiga interpretar e executar. Express\u00f5es podem ser declara\u00e7\u00f5es ou parte delas, mas nem toda express\u00e3o \u00e9 uma *statement*.\n",
      "\n",
      "Essa distin\u00e7\u00e3o se tornar\u00e1 mais importante quando estudarmos fun\u00e7\u00f5es an\u00f4nimas com o operador <code>lambda</code> e as express\u00f5es geradas com ele."
     ]
    },
    {
     "cell_type": "heading",
     "level": 4,
     "metadata": {},
     "source": [
      "<span id=\"strings\"><h4>Strings</h4></span>"
     ]
    },
    {
     "cell_type": "markdown",
     "metadata": {},
     "source": [
      "**Strings** s\u00e3o cadeias de caracteres, delimitadas por aspas (simples ou duplas). Strings s\u00e3o *literais* de enorme utilidade na programa\u00e7\u00e3o, e vamos us\u00e1-los constantemente neste curso. Esta 'parte 1' sobre strings exp\u00f5e o b\u00e1sico do seu funcionamento, para que possamos come\u00e7ar a cri\u00e1-los e manipul\u00e1-los.\n",
      "\n",
      "A primeira caracter\u00edstica a mencionar \u00e9 que strings, no Python, podem ser delimitados por aspas simples ('') ou duplas (\"\"), desde que se mantenha a conformidade, isto \u00e9, se abrimos uma string com aspas simples, o Python s\u00f3 entender\u00e1 que a string se fechou ao ver a pr\u00f3xima aspa simples. Veja:"
     ]
    },
    {
     "cell_type": "code",
     "collapsed": false,
     "input": [
      "x = (\"A\",'A') # aspas e aspas duplas s\u00e3o a mesma coisa, isto \u00e9 s\u00f3 uma conveni\u00eancia\n",
      "print x"
     ],
     "language": "python",
     "metadata": {},
     "outputs": [
      {
       "output_type": "stream",
       "stream": "stdout",
       "text": [
        "('A', 'A')\n"
       ]
      }
     ],
     "prompt_number": 15
    },
    {
     "cell_type": "markdown",
     "metadata": {},
     "source": [
      "Strings comportam caracteres especiais e dif\u00edceis de digitar com **sequ\u00eancias de escape**. No Python, toda sequ\u00eancia de escape \u00e9 iniciada pela 'barra invertida' (*backslash*): \\\\\n",
      "\n",
      "Sequ\u00eancias de escape s\u00e3o consideradas como um \u00fanico caractere, apesar de, em geral, serem digitadas com dois (a barra invertida e mais um). As principais sequ\u00eancias de escape s\u00e3o <code>\\n</code> (nova linha), <code>\\t</code> (tab), <code>\\'</code> (aspas simples, <code>\\\"</code> (aspas duplas), <code>\\\\\\\\</code> (a pr\u00f3pria barra invertida).\n",
      "\n",
      "Ent\u00e3o, se temos uma string definida com aspas duplas ...e precisamos inserir aspas duplas *dentro* da mesma string, podemos usar a sequencia de escape <code>\\\"</code> que dir\u00e1 ao Python que esta aspa dupla *n\u00e3o* deve ser interpretado como o fim da minha string.\n",
      "\n",
      "Uma lista das sequ\u00eancias de escape permitidas pelo Python est\u00e1 no tutorial de strings do site [TutorialsPoint](http://www.tutorialspoint.com/python/python_strings.htm):"
     ]
    },
    {
     "cell_type": "code",
     "collapsed": false,
     "input": [
      "x = 'o advogado'\n",
      "y = 'o advo\\ngado'\n",
      "# a fun\u00e7\u00e3o built-in len() d\u00e1 o comprimento do objeto passado\n",
      "print x,':',len(x)\n",
      "print y,':',len(y)\n",
      "\n",
      "# a sequ\u00eancia de escape \\\" faz com que a aspa dupla \n",
      "# n\u00e3o seja interpretada como delimitador da string!\n",
      "x = \"\\ndisse\\t\\\"oi\\\"\"\n",
      "print x,':',len(x)"
     ],
     "language": "python",
     "metadata": {},
     "outputs": [
      {
       "output_type": "stream",
       "stream": "stdout",
       "text": [
        "o advogado : 10\n",
        "o advo\n",
        "gado : 11\n",
        "\n",
        "disse\t\"oi\" : 11\n"
       ]
      }
     ],
     "prompt_number": 16
    },
    {
     "cell_type": "markdown",
     "metadata": {},
     "source": [
      "Strings s\u00e3o iter\u00e1veis (como veremos na se\u00e7\u00e3o sobre itera\u00e7\u00e3o) e implementam diferentes operadores, incluindo concatena\u00e7\u00e3o (via o mais, '+'), indexa\u00e7\u00e3o e slicing (com '[]') e repeti\u00e7\u00e3o (via o operador de multiplica\u00e7\u00e3o, '*':"
     ]
    },
    {
     "cell_type": "code",
     "collapsed": false,
     "input": [
      "x = \"Dani\" + \"el\" # concatena\u00e7\u00e3o com +\n",
      "print x\n",
      "\n",
      "x = 'oi! ' * 3 # repeti\u00e7\u00e3o com *\n",
      "print x\n",
      "\n",
      "x = \"Oi, me chamo Daniel\" # slicing com []\n",
      "print x[0:13] + 'Felipe'\n"
     ],
     "language": "python",
     "metadata": {},
     "outputs": [
      {
       "output_type": "stream",
       "stream": "stdout",
       "text": [
        "Daniel\n",
        "oi! oi! oi! \n",
        "Oi, me chamo Felipe\n"
       ]
      }
     ],
     "prompt_number": 17
    },
    {
     "cell_type": "markdown",
     "metadata": {},
     "source": [
      "<br/> Veremos mais sobre estes operadores no m\u00f3dulo sobre listas."
     ]
    },
    {
     "cell_type": "markdown",
     "metadata": {},
     "source": [
      "<span id=\"none\"><h4>O <code>None</code></h4></span>"
     ]
    },
    {
     "cell_type": "markdown",
     "metadata": {},
     "source": [
      "O <code>None</code> \u00e9 uma palavra reservada do Python e uma constante *built-in*. <code>None</code> implica a aus\u00eancia de valor. <code>None</code> pode ser usado quando queremos declarar uma vari\u00e1vel, mas n\u00e3o lhe dar nenhum valor. Vale ressaltar que <code>None</code> sempre \u00e9 avaliado como falso (veja o exemplo abaixo).\n",
      "\n",
      "Veremos mais sobre o <code>None</code> na se\u00e7\u00e3o sobre fun\u00e7\u00f5es."
     ]
    },
    {
     "cell_type": "code",
     "collapsed": false,
     "input": [
      "x = None\n",
      "print x\n",
      "print bool(x)\n",
      "x = 3\n",
      "print x"
     ],
     "language": "python",
     "metadata": {},
     "outputs": [
      {
       "output_type": "stream",
       "stream": "stdout",
       "text": [
        "None\n",
        "False\n",
        "3\n"
       ]
      }
     ],
     "prompt_number": 18
    },
    {
     "cell_type": "markdown",
     "metadata": {},
     "source": [
      "<span id=\"funcoes_uteis\"><h4>Fun\u00e7\u00f5es \u00dateis: <code>dir()</code>, <code>type()</code>, <code>locals()</code>, <code>globals()</code></h4></span>"
     ]
    },
    {
     "cell_type": "markdown",
     "metadata": {},
     "source": [
      "Existem certas funcionalidades muito \u00fateis no Python, que s\u00e3o disponibilizadas como fun\u00e7\u00f5es do pr\u00f3prio Python, n\u00e3o atreladas a algum m\u00f3dulo ou objeto. Veremos muitas destas no decorrer desta apostila. Vamos come\u00e7ar explorando quatro:\n",
      "\n",
      "<code>type(x)</code>: a fun\u00e7\u00e3o type retorna um objeto <code>type</code> que representa o tipo da vari\u00e1vel x em quest\u00e3o (veja a se\u00e7\u00e3o tipagem din\u00e2mica para exemplos).\n",
      "\n",
      "<code>dir(x)</code>: retorna uma lista dos atributos (vari\u00e1veis e fun\u00e7\u00f5es) internos da vari\u00e1vel x em quest\u00e3o\n",
      "\n",
      "<code>locals()</code>: retorna uma lista co os nomes de todas as vari\u00e1veis no escopo local (veremos mais sobre escopo no m\u00f3dulo sobre fun\u00e7\u00f5es)\n",
      "\n",
      "<code>globals()</code>: retorna uma lista co os nomes de todas as vari\u00e1veis no escopo global (veremos mais sobre escopo no m\u00f3dulo sobre fun\u00e7\u00f5es)\n",
      "\n",
      "<code>print</code> \u00e9 um *statement* t\u00e3o utilizado no Python, que os criadores da linguagem n\u00e3o requerem o uso de par\u00eanteses para sua chamada (isso mudou no Python 3). Vale notar que o print no Python 2.x **n\u00e3o** \u00e9 um operador nem chamada de fun\u00e7\u00e3o."
     ]
    },
    {
     "cell_type": "heading",
     "level": 4,
     "metadata": {},
     "source": [
      "<span id=\"tipagem_dinamica\"><h4>Tipagem Din\u00e2mica</h4></span>"
     ]
    },
    {
     "cell_type": "markdown",
     "metadata": {},
     "source": [
      "O Python utiliza uma forma de designa\u00e7\u00e3o de tipos chamada 'tipagem din\u00e2mica' (em contraste \u00e0 'tipagem est\u00e1tica'). Isto significa que toda a informa\u00e7\u00e3o sobre o **tipo** de ma vari\u00e1vel fica guardada com o **objeto** ao qual ela aponta, n\u00e3o com a pr\u00f3pria vari\u00e1vel.\n",
      "\n",
      "Veja:"
     ]
    },
    {
     "cell_type": "code",
     "collapsed": false,
     "input": [
      "x = 3            # x \u00e9 um n\u00famero\n",
      "print type(x)\n",
      "x = 'e agora?'   # x \u00e9 um string\n",
      "print type(x)\n",
      "x = None         # x agora \u00e9 o None! (\u00fanica coisa no Python que tem o tipo NoneType)\n",
      "print type(x)\n",
      "x = len          # x agora \u00e9 a fun\u00e7\u00e3o len, logo seu tipo \u00e9 'fun\u00e7\u00e3o built-in'\n",
      "print type(x)\n",
      "x = type         # finalmente, x agora \u00e9 a pr\u00f3pria fun\u00e7\u00e3o type, seu tipo ent\u00e3o \u00e9 'type'\n",
      "print x"
     ],
     "language": "python",
     "metadata": {},
     "outputs": [
      {
       "output_type": "stream",
       "stream": "stdout",
       "text": [
        "<type 'int'>\n",
        "<type 'str'>\n",
        "<type 'NoneType'>\n",
        "<type 'builtin_function_or_method'>\n",
        "<type 'type'>\n"
       ]
      }
     ],
     "prompt_number": 19
    },
    {
     "cell_type": "markdown",
     "metadata": {},
     "source": [
      "Encontramos uma lista dos tipos built-in do Python em [python.org](https://docs.python.org/2/library/types.html)"
     ]
    },
    {
     "cell_type": "heading",
     "level": 2,
     "metadata": {},
     "source": [
      "M\u00f3dulo 2 - Tupla, Lista, Indexing e Slicing, Condicionais com if"
     ]
    },
    {
     "cell_type": "markdown",
     "metadata": {},
     "source": [
      "<span id=\"estruturas_de_dados\"><h4>Estruturas de Dados</h4></span>"
     ]
    },
    {
     "cell_type": "markdown",
     "metadata": {},
     "source": [
      "**Uma estrutura de dados \u00e9 uma forma de se organizar os dados para utiliza\u00e7\u00e3o eficiente.** Seja consulta, manipula\u00e7\u00e3o ou adi\u00e7\u00e3o posterior de novos dados de forma r\u00e1pida, ou at\u00e9 utiliza\u00e7\u00f5es altamente espec\u00edficas. Toda linguagem de computa\u00e7\u00e3o se utiliza de estrutura de dados para alcan\u00e7ar seus fins.\n",
      "\n",
      "O Python (como toda outra linguagem) permite a cria\u00e7\u00e3o de estruturas de dados por parte do programador. Mas o Python tamb\u00e9m prov\u00ea uma s\u00e9rie de estruturas gen\u00e9ricas e de forte utilidade. J\u00e1 vimos uma destas: a *string*, que \u00e9 uma forma de se organizar characteres individuais em sequ\u00eancia.\n",
      "\n",
      "Veremos agora duas outras estruturas que tamb\u00e9m organizam dados de forma sequencial: a lista e a tupla."
     ]
    },
    {
     "cell_type": "heading",
     "level": 4,
     "metadata": {},
     "source": [
      "<span id=\"lista_e_tupla\"><h4>Lista e Tupla</h4></span>"
     ]
    },
    {
     "cell_type": "markdown",
     "metadata": {},
     "source": [
      "A **lista** \u00e9 uma das estruturas de dados mais utilizadas no Python, e se define por uma sequ\u00eancia de vari\u00e1veis, separadas por **v\u00edrgula** e delimitadas por **colchetes**. Os itens de uma lista podem ser quaisquer vari\u00e1veis ou objetos do Python, e uma lista n\u00e3o requer que seus elementos sejam uniformes. Veja o c\u00f3digo abaixo:"
     ]
    },
    {
     "cell_type": "code",
     "collapsed": false,
     "input": [
      "lista1 = ['lista','de','strings']\n",
      "lista2 = [3.14, 'heterogeneidade', 'de', type(lista1), 'valores', lista1]"
     ],
     "language": "python",
     "metadata": {},
     "outputs": [],
     "prompt_number": 20
    },
    {
     "cell_type": "markdown",
     "metadata": {},
     "source": [
      "A **tupla** \u00e9 uma sequ\u00eancia **imut\u00e1vel** de objetos, separados por **v\u00edrgula** e delimitados por **par\u00eanteses**. Esta \u00e9 a principal diferen\u00e7a entre a lista e a tupla: uma vez criada, seus membros n\u00e3o podem mais ser alterados. Veja o c\u00f3digo abaixo:"
     ]
    },
    {
     "cell_type": "code",
     "collapsed": false,
     "input": [
      "tupla1 = ('lista1',lista1,'lista2',lista2)\n",
      "tupla1[0] = 'blah!' # vai dar erro!"
     ],
     "language": "python",
     "metadata": {},
     "outputs": [
      {
       "ename": "TypeError",
       "evalue": "'tuple' object does not support item assignment",
       "output_type": "pyerr",
       "traceback": [
        "\u001b[0;31m---------------------------------------------------------------------------\u001b[0m\n\u001b[0;31mTypeError\u001b[0m                                 Traceback (most recent call last)",
        "\u001b[0;32m<ipython-input-21-abd7796095f2>\u001b[0m in \u001b[0;36m<module>\u001b[0;34m()\u001b[0m\n\u001b[1;32m      1\u001b[0m \u001b[0mtupla1\u001b[0m \u001b[0;34m=\u001b[0m \u001b[0;34m(\u001b[0m\u001b[0;34m'lista1'\u001b[0m\u001b[0;34m,\u001b[0m\u001b[0mlista1\u001b[0m\u001b[0;34m,\u001b[0m\u001b[0;34m'lista2'\u001b[0m\u001b[0;34m,\u001b[0m\u001b[0mlista2\u001b[0m\u001b[0;34m)\u001b[0m\u001b[0;34m\u001b[0m\u001b[0m\n\u001b[0;32m----> 2\u001b[0;31m \u001b[0mtupla1\u001b[0m\u001b[0;34m[\u001b[0m\u001b[0;36m0\u001b[0m\u001b[0;34m]\u001b[0m \u001b[0;34m=\u001b[0m \u001b[0;34m'blah!'\u001b[0m \u001b[0;31m# vai dar erro!\u001b[0m\u001b[0;34m\u001b[0m\u001b[0m\n\u001b[0m",
        "\u001b[0;31mTypeError\u001b[0m: 'tuple' object does not support item assignment"
       ]
      }
     ],
     "prompt_number": 21
    },
    {
     "cell_type": "markdown",
     "metadata": {},
     "source": [
      "<br/> O erro indica que um item da tupla n\u00e3o pode ser designado, isto \u00e9, ap\u00f3s a sua cria\u00e7\u00e3o, seus itens n\u00e3o podem ser modificados!\n",
      "\n",
      "...note que colocamos uma lista dentro de uma tupla ..este tipo de composi\u00e7\u00e3o de objetos e estruturas de dados n\u00e3o s\u00f3 \u00e9 permitido como pode ser muito \u00fatil!"
     ]
    },
    {
     "cell_type": "markdown",
     "metadata": {},
     "source": [
      "<span id=\"indexacao_e_recorte\"><h4>Indexa\u00e7\u00e3o (*indexing*) e Recorte (*slicing*)</h4></span>"
     ]
    },
    {
     "cell_type": "markdown",
     "metadata": {},
     "source": [
      "Vimos que *listas* e *tuplas* no Python estruturas de dados que permitem guardar cole\u00e7\u00f5es de itens, sejam estes vari\u00e1veis, literais, objetos, fun\u00e7\u00f5es e at\u00e9 outras listas e tuplas! Estes itens ficam guardados em ordem, na lista ou tupla, e podemos acess\u00e1-los via seu **\u00edndice**, isto \u00e9 sua posi\u00e7\u00e3o na lista ou tupla.\n",
      "\n",
      "Este \u00edndice, por conven\u00e7\u00e3o dos criadores do Python (e seguindo a tradi\u00e7\u00e3o de outras linguagens) sempre come\u00e7a com o **ZERO**...vejamos:"
     ]
    },
    {
     "cell_type": "code",
     "collapsed": false,
     "input": [
      "# aqui, Daniel \u00e9 o segundo item da tupla\n",
      "equipeSen = ('Ivar', 'Daniel', 'Felipe', 'Pedro', 'Bianca', 'Luan', 'Mariana')\n",
      "\n",
      "# como todas as cole\u00e7\u00f5es em Python come\u00e7am com \u00edndice ZERO, acessamos o SEGUNDO item com o \u00edndice 1\n",
      "print 'oi!, meu nome \u00e9', equipeSen[1] "
     ],
     "language": "python",
     "metadata": {},
     "outputs": [
      {
       "output_type": "stream",
       "stream": "stdout",
       "text": [
        "oi!, meu nome \u00e9 Daniel\n"
       ]
      }
     ],
     "prompt_number": 22
    },
    {
     "cell_type": "markdown",
     "metadata": {},
     "source": [
      "Note que acessamos os itens contido na lista/tupla usando **colchetes** ap\u00f3s o nome da vari\u00e1vel que representa a lista/tupla. \u00c9 assim que *indexamos* os valores guardados em listas e tuplas. Vale ressaltar que **strings** tamb\u00e9m funcionam da mesma forma (podemos pensar neles como listas de caracteres!)\n"
     ]
    },
    {
     "cell_type": "code",
     "collapsed": false,
     "input": [
      "cidade = 'Rio de Janeiro'\n",
      "\n",
      "print cidade[7]"
     ],
     "language": "python",
     "metadata": {},
     "outputs": [
      {
       "output_type": "stream",
       "stream": "stdout",
       "text": [
        "J\n"
       ]
      }
     ],
     "prompt_number": 23
    },
    {
     "cell_type": "markdown",
     "metadata": {},
     "source": [
      "Se quisermos acessar uma sublista dos valores guardados em uma lista ou tupla, podemos vazer um *recorte* dela:"
     ]
    },
    {
     "cell_type": "code",
     "collapsed": false,
     "input": [
      "lideresSen = equipeSen[0:2] # note que eu defino at\u00e9 o dois para pegar o \u00edndice 1, pois o python \u00e9 indexado em ZERO\n",
      "print lideresSen"
     ],
     "language": "python",
     "metadata": {},
     "outputs": [
      {
       "output_type": "stream",
       "stream": "stdout",
       "text": [
        "('Ivar', 'Daniel')\n"
       ]
      }
     ],
     "prompt_number": 24
    },
    {
     "cell_type": "markdown",
     "metadata": {},
     "source": [
      "A indexa\u00e7\u00e3o pode ser feita da esquerda para a direita, come\u00e7ando do zero, ou da direita para a esquerda, come\u00e7ando do -1. Assim, o \u00faltimo item do objeto iter\u00e1vel (lista, tupla ou string) pode ser acessado pelo seu valor positivo (que podemos pegar com len()) ou pelo n\u00famero -1 ...vejamos um exemplo:"
     ]
    },
    {
     "cell_type": "code",
     "collapsed": false,
     "input": [
      "ultimoSen = equipeSen[-1]\n",
      "print ultimoSen\n",
      "penultimoSen = equipeSen[-2]\n",
      "print penultimoSen\n",
      "\n",
      "novosSen = equipeSen[-2:]\n",
      "print novosSen"
     ],
     "language": "python",
     "metadata": {},
     "outputs": [
      {
       "output_type": "stream",
       "stream": "stdout",
       "text": [
        "Mariana\n",
        "Luan\n",
        "('Luan', 'Mariana')\n"
       ]
      }
     ],
     "prompt_number": 25
    },
    {
     "cell_type": "heading",
     "level": 4,
     "metadata": {},
     "source": [
      "Algumas das principais fun\u00e7\u00f5es de listas s\u00e3o:"
     ]
    },
    {
     "cell_type": "code",
     "collapsed": false,
     "input": [
      "\"\"\"Easter Egg: os primeiros 4 que me mandarem um e-mail explicando \n",
      "corretamente o que estou fazendo na linha abaixo e porque, ganham um chocolate\"\"\"\n",
      "SeNList = list(equipeSen) \n",
      "\n",
      "# adiciona um objeto ao final da lista. CUIDADO: se adicionar uma lista, a pr\u00f3pria lista, e n\u00e3o seus membros, ser\u00e1 adicionada\n",
      "SeNList.append('Fabio') \n",
      "print 'adicionei mesmo:\\n',SeNList\n",
      "\n",
      "# extend extrai os MEMBROS de uma cole\u00e7\u00e3o, e os adiciona ...note que \u00e9 uma TUPLA sendo passada\n",
      "SeNList.extend(('Gabriel', 'Daniel'))\n",
      "print '\\nadicionei os membros da tupla:\\n',SeNList\n",
      "\n",
      "# podemos concatenar listas\n",
      "SeNList = SeNList + ['Fred','Livia']\n",
      "\n",
      "# podemos repetir seus membros\n",
      "print '\\nmultiplicando:',['Oi','SeN'] * 3\n",
      "\n",
      "# remove retira o objeto\n",
      "SeNList.remove('Pedro')\n",
      "print '\\nremovi:\\n',SeNList\n",
      "\n",
      "# acho a posi\u00e7\u00e3o de um objeto\n",
      "aSair = 'Fabio'\n",
      "print '\\nQual a posi\u00e7\u00e3o do membro '+aSair+'?',SeNList.index(aSair)\n",
      "\n",
      "# insere o objeto passado na posi\u00e7\u00e3o x (opcional, default 0)\n",
      "SeNList.insert(-1,'Pedro')\n",
      "\n",
      "# podemos deletar um objeto de dentro da lista\n",
      "del(SeNList[SeNList.index(aSair)])\n",
      "\n",
      "# podemos contar?\n",
      "print '\\nquantos Danieis?', SeNList.count('Daniel')\n",
      "\n",
      "print '\\npor fim:', SeNList\n",
      "\n"
     ],
     "language": "python",
     "metadata": {},
     "outputs": [
      {
       "output_type": "stream",
       "stream": "stdout",
       "text": [
        "adicionei mesmo:\n",
        "['Ivar', 'Daniel', 'Felipe', 'Pedro', 'Bianca', 'Luan', 'Mariana', 'Fabio']\n",
        "\n",
        "adicionei os membros da tupla:\n",
        "['Ivar', 'Daniel', 'Felipe', 'Pedro', 'Bianca', 'Luan', 'Mariana', 'Fabio', 'Gabriel', 'Daniel']\n",
        "\n",
        "multiplicando: ['Oi', 'SeN', 'Oi', 'SeN', 'Oi', 'SeN']\n",
        "\n",
        "removi:\n",
        "['Ivar', 'Daniel', 'Felipe', 'Bianca', 'Luan', 'Mariana', 'Fabio', 'Gabriel', 'Daniel', 'Fred', 'Livia']\n",
        "\n",
        "Qual a posi\u00e7\u00e3o do membro Fabio? 6\n",
        "\n",
        "quantos Danieis? 2\n",
        "\n",
        "por fim: ['Ivar', 'Daniel', 'Felipe', 'Bianca', 'Luan', 'Mariana', 'Gabriel', 'Daniel', 'Fred', 'Pedro', 'Livia']\n"
       ]
      }
     ],
     "prompt_number": 26
    },
    {
     "cell_type": "markdown",
     "metadata": {},
     "source": [
      "<span id=\"if_elif_else\"><h4>Condicionando a sequ\u00eancia do programa: if, elif, else</h4></span>"
     ]
    },
    {
     "cell_type": "markdown",
     "metadata": {},
     "source": [
      "Vamos mudar o foco agora de estruturas de dados para o fluxo dos nossos programas.\n",
      "\n",
      "At\u00e9 agora, os nossos programas todos seguem uma sequ\u00eancia l\u00f3gica \u00fanica, isto \u00e9, executamos um comando por vez, um atr\u00e1s do outro (A), contudo, podemos usar a estrutura condicional **if** para que nosso programa possa tomar caminhos alternativos (B) a sintaxe \u00e9:\n",
      "\n",
      "<code>if [[condi\u00e7\u00e3o a ser avaliada]] :</code> <- note o 'dois pontos'<br>\n",
      "<code>    [[instru\u00e7\u00f5es avaliadas...]]</code><br>\n",
      "<code>    [[...se a condi\u00e7\u00e3o for verdadeira...]]</code><br>\n",
      "<code>    [[...ficam dentro de um novo escopo (com tab)]]</code>\n",
      "\n",
      "ao terminar, retorna-se ao escopo normal, escrevendo instru\u00e7\u00f5es sem tab (ou com um tab a menos!)\n",
      "\n",
      "![fig_1.svg](files/img/fig_1.svg)\n",
      "\n",
      "Vejam o c\u00f3digo abaixo:\n"
     ]
    },
    {
     "cell_type": "code",
     "collapsed": false,
     "input": [
      "minhalista = ['Lucas', 16, 'RS']\n",
      "if minhalista[1] < 18: # n\u00e3o esque\u00e7am o 'dois pontos'!\n",
      "    minhalista.append('menor de idade') # notem que uso a fun\u00e7\u00e3o append() para colocar uma nova informa\u00e7\u00e3o na lista\n",
      "print minhalista"
     ],
     "language": "python",
     "metadata": {},
     "outputs": [
      {
       "output_type": "stream",
       "stream": "stdout",
       "text": [
        "['Lucas', 16, 'RS', 'menor de idade']\n"
       ]
      }
     ],
     "prompt_number": 27
    },
    {
     "cell_type": "markdown",
     "metadata": {},
     "source": [
      "Podemos adicionar mais condicionais, com <code>elif</code> e <code>else</code>. \n",
      "\n",
      "Com <code>elif [[nova condicional]]:</code>, podemos encadear condicionais de forma que se a condicional do primeiro <code>if</code> der falso, a condicional do primeiro <code>elif</code> ser\u00e1 avaliada. Se esta der falso tamb\u00e9m, a segunda ser\u00e1 avaliada, e assim por diante. Veja o c\u00f3digo abaixo:"
     ]
    },
    {
     "cell_type": "code",
     "collapsed": false,
     "input": [
      "genteNaSala = [] # inicio uma lista vazia\n",
      "\n",
      "if 'Ivar' in genteNaSala: \n",
      "    genteNaSala.extend(['Luan','Gabriel','Livia'])\n",
      "elif 'Daniel' in genteNaSala:\n",
      "    genteNaSala.extend(['Mariana','Fred','Bianca'])\n",
      "    \n",
      "print genteNaSala # como nem o Daniel nem o Ivar est\u00e3o, a sala fica vazia!"
     ],
     "language": "python",
     "metadata": {},
     "outputs": [
      {
       "output_type": "stream",
       "stream": "stdout",
       "text": [
        "[]\n"
       ]
      }
     ],
     "prompt_number": 28
    },
    {
     "cell_type": "markdown",
     "metadata": {},
     "source": [
      "Aproveite para brincar com os valores iniciais da lista e com as condicionais do <code>if</code> e do <code>elif</code>.\n",
      "\n",
      "O <code>else</code> por sua vez, oferece uma \u00faltima op\u00e7\u00e3o de instru\u00e7\u00f5es para o caso que nenhuma das condicionais de true. Seri o caso do *sen\u00e3o* ...passamos pelo <code>if</code> e quaisquer <code>elif</code>s dizendo \"se isso acontecer, ou ent\u00e3o se isso acontecer, ou ent\u00e3o se isso acontecer\" ...com o <code>else</code>, colocamos um *sen\u00e3o* ao final, caso nenhuma outra condicional seja preenchida. Vamos ver um exemplo:"
     ]
    },
    {
     "cell_type": "code",
     "collapsed": false,
     "input": [
      "genteNaSala = [] # inicio uma lista vazia\n",
      "\n",
      "if 'Ivar' in genteNaSala: #\n",
      "    genteNaSala.extend(['Luan','Gabriel','Livia','Felipe'])\n",
      "elif 'Daniel' in genteNaSala:\n",
      "    genteNaSala.extend(['Mariana','Fred','Bianca','Felipe'])\n",
      "else:\n",
      "    genteNaSala.append('Felipe')\n",
      "    \n",
      "print genteNaSala # o Felipe est\u00e1 SEMPRE na sala."
     ],
     "language": "python",
     "metadata": {},
     "outputs": [
      {
       "output_type": "stream",
       "stream": "stdout",
       "text": [
        "['Felipe']\n"
       ]
      }
     ],
     "prompt_number": 29
    },
    {
     "cell_type": "heading",
     "level": 6,
     "metadata": {},
     "source": [
      "PERGUNTA: Qual a diferen\u00e7a entre usar <code>elif</code> e encadear condi\u00e7\u00f5es <code>if</code>? Parece dar no mesmo!"
     ]
    },
    {
     "cell_type": "markdown",
     "metadata": {},
     "source": [
      "<br/>Boa pergunta! vamos ver qual a diferen\u00e7a...\n",
      "\n",
      "Digamos que eu tenho uma lista dos professores que v\u00e3o sair para almo\u00e7ar. Como cada professor tem o seu apelido favorito para o professor Ivar, vamos reeditar a lista com <code>if</code>s encadeados e com <code>elif</code>s, para ver qual ser\u00e1 o apelido utilizado em um dado almo\u00e7o para o prof. Ivar."
     ]
    },
    {
     "cell_type": "code",
     "collapsed": false,
     "input": [
      "# notem que aqui uso uma lista, n\u00e3o uma tupla, pois vou alterar os seus valores!\n",
      "quemAlmoca = ['Ivar', 'Daniel', 'Leandro']\n",
      "\n",
      "if 'Daniel' in quemAlmoca:\n",
      "    quemAlmoca[0] = 'Ivair' # note aqui uma mudan\u00e7a para escopo interno\n",
      "if 'Leandro' in quemAlmoca:\n",
      "    quemAlmoca[0] = 'Ivan' # o else tamb\u00e9m\n",
      "if 'Fernando' in quemAlmoca:\n",
      "    quemAlmoca[0] = 'Ismar'\n",
      "    \n",
      "print quemAlmoca # qual ser\u00e1 o nome do Ivar neste almo\u00e7o??"
     ],
     "language": "python",
     "metadata": {},
     "outputs": [
      {
       "output_type": "stream",
       "stream": "stdout",
       "text": [
        "['Ivan', 'Daniel', 'Leandro']\n"
       ]
      }
     ],
     "prompt_number": 30
    },
    {
     "cell_type": "markdown",
     "metadata": {},
     "source": [
      "...se usarmos outra lista, vejam:"
     ]
    },
    {
     "cell_type": "code",
     "collapsed": false,
     "input": [
      "quemAlmoca = ['Ivar', 'Daniel', 'Leandro', 'Fernando'] # mudei a lista!\n",
      "\n",
      "if 'Daniel' in quemAlmoca:\n",
      "    quemAlmoca[0] = 'Ivair' \n",
      "elif 'Leandro' in quemAlmoca: # s\u00f3 mudei o if para elif aqui...\n",
      "    quemAlmoca[0] = 'Ivan' \n",
      "elif 'Fernando' in quemAlmoca: # ...e aqui\n",
      "    quemAlmoca[0] = 'Ismar'\n",
      "    \n",
      "print quemAlmoca # qual ser\u00e1 o nome do Ivar neste almo\u00e7o??"
     ],
     "language": "python",
     "metadata": {},
     "outputs": [
      {
       "output_type": "stream",
       "stream": "stdout",
       "text": [
        "['Ivair', 'Daniel', 'Leandro', 'Fernando']\n"
       ]
      }
     ],
     "prompt_number": 31
    },
    {
     "cell_type": "markdown",
     "metadata": {},
     "source": [
      "<br/> Os dois exemplos de c\u00f3digo mostram a diferen\u00e7a entre usar <code>elif</code> ao inv\u00e9s de encadear <code>if</code>s."
     ]
    },
    {
     "cell_type": "markdown",
     "metadata": {},
     "source": [
      "<span id=\"operadores_logicos\"><h4>Operadores L\u00f3gicos: not, or, and</h4></span>"
     ]
    },
    {
     "cell_type": "markdown",
     "metadata": {},
     "source": [
      "Os operadores l\u00f3gicos nos permitem encadear avalia\u00e7\u00f5es l\u00f3gicas. J\u00e1 sabemos que <code>True</code> e <code>False</code> s\u00e3o literais essenciais \u00e0 programa\u00e7\u00e3o e que podemos modificar o curso do nosso programa com condicionais e avalia\u00e7\u00f5es l\u00f3gicas.\n",
      "\n",
      "Com operadores l\u00f3gicos podemos criar avalia\u00e7\u00f5es mais complexas, e de maior utilidade.\n",
      "\n",
      "vejamos:"
     ]
    },
    {
     "cell_type": "code",
     "collapsed": false,
     "input": [
      "idade = 79\n",
      "sexo = 'feminino'\n",
      "hc = \"\"\n",
      "\n",
      "# posso fazer...\n",
      "if (idade > 65 and sexo == \"feminino\"):\n",
      "    hc = hc + \"a senhora, sendo de idade avan\u00e7ada...\"\n",
      "elif(idade > 65 and sexo == \"masculino\"):\n",
      "    hc = hc + \"o senhor, sendo de idade avan\u00e7ada...\"\n",
      "\n",
      "print hc"
     ],
     "language": "python",
     "metadata": {},
     "outputs": [
      {
       "output_type": "stream",
       "stream": "stdout",
       "text": [
        "a senhora, sendo de idade avan\u00e7ada...\n"
       ]
      }
     ],
     "prompt_number": 32
    },
    {
     "cell_type": "markdown",
     "metadata": {},
     "source": [
      "<br/> a ordem de avalia\u00e7\u00e3o de operadores \u00e9: <code>not, and, or</code>\n",
      "\n",
      "<code>not</code>: \u00e9 usado para inverter a avalia\u00e7\u00e3o de uma proposi\u00e7\u00e3o, se \u00e9 <code>True</code> o <code>not</code> o tornar\u00e1 falso.\n",
      "\n",
      "<code>and</code>: retorna <code>True</code> somente se ambos os seus operandos forem verdadeiros.\n",
      "\n",
      "<code>or</code>: retorna <code>True</code> se qualquer um ou ambos os operandos foram verdadeiros.\n",
      "\n",
      "No caso do <code>and</code> as proposi\u00e7\u00f5es s\u00e3o avaliadas da esquerda para a direita, sendo que a primeira que d\u00ea <code>False</code> interrompe a avalia\u00e7\u00e3o.\n",
      "\n",
      "O caso do <code>or</code> \u00e9 similar mas oposto: avalia-se da esquerda para a direita, sendo que o primeiro <code>True</code> interrompe a avalia\u00e7\u00e3o.\n",
      "\n",
      "Podemos brincar um pouco com essas propriedades:"
     ]
    },
    {
     "cell_type": "code",
     "collapsed": false,
     "input": [
      "x = 25\n",
      "y = None #lembrem que \u00e9 igual a falso!\n",
      "\n",
      "z = x or y\n",
      "print z"
     ],
     "language": "python",
     "metadata": {},
     "outputs": [
      {
       "output_type": "stream",
       "stream": "stdout",
       "text": [
        "25\n"
       ]
      }
     ],
     "prompt_number": 33
    },
    {
     "cell_type": "code",
     "collapsed": false,
     "input": [
      "z = x and y\n",
      "print z"
     ],
     "language": "python",
     "metadata": {},
     "outputs": [
      {
       "output_type": "stream",
       "stream": "stdout",
       "text": [
        "None\n"
       ]
      }
     ],
     "prompt_number": 34
    },
    {
     "cell_type": "code",
     "collapsed": false,
     "input": [
      "l = []\n",
      "s = \"\"\n",
      "n = None\n",
      "\n",
      "z = l and s and n\n",
      "print z\n",
      "\n",
      "z = l or s or n\n",
      "print z"
     ],
     "language": "python",
     "metadata": {},
     "outputs": [
      {
       "output_type": "stream",
       "stream": "stdout",
       "text": [
        "[]\n",
        "None\n"
       ]
      }
     ],
     "prompt_number": 35
    },
    {
     "cell_type": "markdown",
     "metadata": {},
     "source": [
      "<br/> Surerimos que voc\u00eas usem a funcionalidade do iPython Notebook para explorar as possibilidade de operadores l\u00f3gicos, partindo dos exemplos acima."
     ]
    },
    {
     "cell_type": "heading",
     "level": 2,
     "metadata": {},
     "source": [
      "<span id=\"aula_3\"><h4>M\u00f3dulo 3 - Fun\u00e7\u00f5es (pte. 1)</h4></span>"
     ]
    },
    {
     "cell_type": "markdown",
     "metadata": {},
     "source": [
      "Fun\u00e7\u00f5es s\u00e3o blocos de c\u00f3digo reutiliz\u00e1vel, organizado de forma a ser reutilizado e reduzir a repeti\u00e7\u00e3o de c\u00f3digo. \n",
      "\n",
      "Uma fun\u00e7\u00e3o pode ser vista como uma unidade de c\u00f3digo que executa uma \u00fanica tarefa.\n",
      "\n",
      "O Python disponibiliza uma s\u00e9rie de fun\u00e7\u00f5es ao programador (veja as built-in functions [aqui](https://docs.python.org/2/library/functions.html)), mas podemos tamb\u00e9m criar as nossas pr\u00f3prias fun\u00e7\u00f5es, a fim de **organizar**, e poder **reutilizar** o nosso c\u00f3digo.\n",
      "\n",
      "J\u00e1 viemos trabalhando informalmente com fun\u00e7\u00f5es desde o M\u00f3dulo 1, por\u00e9m agora vamos definir mais rigorosamente a sintaxe e funcionamento de uma fun\u00e7\u00e3o:"
     ]
    },
    {
     "cell_type": "markdown",
     "metadata": {},
     "source": [
      "<span id=\"definindo\"><h4>Definindo ('declarando'):</h4></span>"
     ]
    },
    {
     "cell_type": "markdown",
     "metadata": {},
     "source": [
      "Definimos uma fun\u00e7\u00e3o com a palavra reservada <code>def</code>, seguida do nome que queremos dar \u00e0 fun\u00e7\u00e3o, depois colocamos quaisquer argumentos que queiramos passar \u00e0 fun\u00e7\u00e3o entre par\u00eanteses (ou deixamos eles vazios). Por fim, usamos dois pontos para fechar a linha de defini\u00e7\u00e3o e abrir o novo *escopo* (vide se\u00e7\u00e3o abaixo, para a defini\u00e7\u00e3o de 'escopo')."
     ]
    },
    {
     "cell_type": "code",
     "collapsed": false,
     "input": [
      "def foo(): # def <nome da fun\u00e7\u00e3o> <par\u00eanteses vazios ou com par\u00e2metros> <dois pontos>\n",
      "    # <<instru\u00e7\u00f5es aqui>>\n",
      "    # <<instru\u00e7\u00f5es aqui>>      <- note o novo escopo! (veja abaixo)\n",
      "    # <<instru\u00e7\u00f5es aqui>>\n",
      "    pass # posso usar 'pass' como placeholder, vamos falar sobre o pass j\u00e1 j\u00e1"
     ],
     "language": "python",
     "metadata": {},
     "outputs": [],
     "prompt_number": 36
    },
    {
     "cell_type": "markdown",
     "metadata": {},
     "source": [
      "<span id=\"usando\"><h4>Usando ('chamando'):</h4></span>"
     ]
    },
    {
     "cell_type": "markdown",
     "metadata": {},
     "source": [
      "Ap\u00f3s declarar uma fun\u00e7\u00e3o, podemos utilizar o seu c\u00f3digo simplesmente chamando a fun\u00e7\u00e3o por nome, e passando quaisquer argumentos que lhe sejam necess\u00e1rios:"
     ]
    },
    {
     "cell_type": "code",
     "collapsed": false,
     "input": [
      "def mostrar_frase(nome, sobrenome, idade):\n",
      "    print 'Oi, meu nome \u00e9',nome, sobrenome, 'e tenho',idade,'anos'\n",
      "    \n",
      "mostrar_frase('Daniel','Chada','34')\n",
      "mostrar_frase('Ivar','Hartmann','28')\n",
      "mostrar_frase('Felipe','Silva','25')"
     ],
     "language": "python",
     "metadata": {},
     "outputs": [
      {
       "output_type": "stream",
       "stream": "stdout",
       "text": [
        "Oi, meu nome \u00e9 Daniel Chada e tenho 34 anos\n",
        "Oi, meu nome \u00e9 Ivar Hartmann e tenho 28 anos\n",
        "Oi, meu nome \u00e9 Felipe Silva e tenho 25 anos\n"
       ]
      }
     ],
     "prompt_number": 37
    },
    {
     "cell_type": "markdown",
     "metadata": {},
     "source": [
      "<br/>Aqui passamos os argumentos 'nome' e 'idade' a cada vez que chamamos a fun\u00e7\u00e3o <code>mostrar_frase</code>. Como <code>mostrar_frase</code> foi definida para receber dois par\u00e2metros, que dentro dela s\u00e3o chamados pelos nomes <code>nome</code> e <code>idade</code> se a chamarmos *sem passar* os argumentos necess\u00e1rios, receberemos um erro!"
     ]
    },
    {
     "cell_type": "code",
     "collapsed": false,
     "input": [
      "mostrar_frase('Mari') # uh oh! falta argumento!"
     ],
     "language": "python",
     "metadata": {},
     "outputs": [
      {
       "ename": "TypeError",
       "evalue": "mostrar_frase() takes exactly 3 arguments (1 given)",
       "output_type": "pyerr",
       "traceback": [
        "\u001b[0;31m---------------------------------------------------------------------------\u001b[0m\n\u001b[0;31mTypeError\u001b[0m                                 Traceback (most recent call last)",
        "\u001b[0;32m<ipython-input-38-a5ee942457ef>\u001b[0m in \u001b[0;36m<module>\u001b[0;34m()\u001b[0m\n\u001b[0;32m----> 1\u001b[0;31m \u001b[0mmostrar_frase\u001b[0m\u001b[0;34m(\u001b[0m\u001b[0;34m'Mari'\u001b[0m\u001b[0;34m)\u001b[0m \u001b[0;31m# uh oh! falta argumento!\u001b[0m\u001b[0;34m\u001b[0m\u001b[0m\n\u001b[0m",
        "\u001b[0;31mTypeError\u001b[0m: mostrar_frase() takes exactly 3 arguments (1 given)"
       ]
      }
     ],
     "prompt_number": 38
    },
    {
     "cell_type": "markdown",
     "metadata": {},
     "source": [
      "Al\u00e9m de passarmos os argumentos definidos utilizando a **ordem** (no caso de <code>mostrar_frase</code> 'nome' em primeiro, depois 'idade') tamb\u00e9m podemos passar argumentos 'dando nome aos bois'. Isso se chamar usar *keyword arguments* ...vejamos"
     ]
    },
    {
     "cell_type": "code",
     "collapsed": false,
     "input": [
      "mostrar_frase(idade='25',nome='Mari', sobrenome='Bedran')"
     ],
     "language": "python",
     "metadata": {},
     "outputs": [
      {
       "output_type": "stream",
       "stream": "stdout",
       "text": [
        "Oi, meu nome \u00e9 Mari Bedran e tenho 25 anos\n"
       ]
      }
     ],
     "prompt_number": 39
    },
    {
     "cell_type": "markdown",
     "metadata": {},
     "source": [
      "Mas cuidado, uma vez que come\u00e7amos a nomear, n\u00e3o podemos voltar a utilizar a ordena\u00e7\u00e3o (at\u00e9 porque o Python n\u00e3o saberia poe onde recome\u00e7ar)."
     ]
    },
    {
     "cell_type": "code",
     "collapsed": false,
     "input": [
      "mostrar_frase(idade='25', 'Mari', 'Bedran') # po Mari, para de quebrar o Python!"
     ],
     "language": "python",
     "metadata": {},
     "outputs": [
      {
       "ename": "SyntaxError",
       "evalue": "non-keyword arg after keyword arg (<ipython-input-40-164c6b628553>, line 1)",
       "output_type": "pyerr",
       "traceback": [
        "\u001b[0;36m  File \u001b[0;32m\"<ipython-input-40-164c6b628553>\"\u001b[0;36m, line \u001b[0;32m1\u001b[0m\n\u001b[0;31m    mostrar_frase(idade='25', 'Mari', 'Bedran') # po Mari, para de quebrar o Python!\u001b[0m\n\u001b[0;31mSyntaxError\u001b[0m\u001b[0;31m:\u001b[0m non-keyword arg after keyword arg\n"
       ]
      }
     ],
     "prompt_number": 40
    },
    {
     "cell_type": "heading",
     "level": 4,
     "metadata": {},
     "source": [
      "<span id=\"o_que_e_escopo\"><h4>O que \u00e9 '**escopo**'?</h4></span>"
     ]
    },
    {
     "cell_type": "markdown",
     "metadata": {},
     "source": [
      "Vimos anteriormente que vari\u00e1veis s\u00e3o somente nomes dados a objetos, isto \u00e9, *tags* que damos a objetos e referenciam os objetos para n\u00f3s. Por\u00e9m, nem toda refer\u00eancia que fazemos fica v\u00e1lida por todo o decorrer do nosso programa.\n",
      "\n",
      "Uma defini\u00e7\u00e3o intuitiva de escopo \u00e9 a parte, ou subse\u00e7\u00e3o do nosso programa em que certas jun\u00e7\u00f5es <code>nome-->objeto</code> se mant\u00e9m v\u00e1lidas.\n",
      "\n",
      "Vari\u00e1veis declaradas dentro de um determinado escopo em geral n\u00e3o se mant\u00e9m v\u00e1lidas uma vez que o processamento daquele escopo termina.\n",
      "\n",
      "O Python tem regras muito bem definidas de escopo, que s\u00e3o f\u00e1ceis de lembrar via o mnemonico: **LEGB**:* **L**ocal, **E**nclosing, **G**lobal, **B**uilt-in*.\n",
      "\n",
      "-Local: nomes de vari\u00e1vel definidos dentro da fun\u00e7\u00e3o na qual estamos trabalhando<br/>\n",
      "-Enclosing: nomes de vari\u00e1vel definidos na fun\u00e7\u00e3o que cerca o atual escopo local (no caso de aninhamento de fun\u00e7\u00f5es, ou fun\u00e7\u00f5es <code>lambda</code> que veremos<br/>\n",
      "-Global: o escopo global do arquivo .py em que estamos trabalhando<br/>\n",
      "-Built-in: nativas ao Python, acess\u00edveis de qualquer programa Python"
     ]
    },
    {
     "cell_type": "code",
     "collapsed": false,
     "input": [
      "# CUIDADO COM O ESCOPO LOCAL!\n",
      "var = 'foo'\n",
      "def ex1():\n",
      "    var = 'bar'\n",
      "    print 'dentro temos', var\n",
      "\n",
      "ex1()\n",
      "print 'fora temos', var"
     ],
     "language": "python",
     "metadata": {},
     "outputs": [
      {
       "output_type": "stream",
       "stream": "stdout",
       "text": [
        "dentro temos bar\n",
        "fora temos foo\n"
       ]
      }
     ],
     "prompt_number": 41
    },
    {
     "cell_type": "markdown",
     "metadata": {},
     "source": [
      "Este blog post: http://www.saltycrane.com/blog/2008/01/python-variable-scope-notes/ cont\u00e9m um \u00f3timo tutorial sobre escopo no Python."
     ]
    },
    {
     "cell_type": "markdown",
     "metadata": {},
     "source": [
      "<span id=\"revendo_operadores\"><h4>Revendo operadores</h4></span>"
     ]
    },
    {
     "cell_type": "markdown",
     "metadata": {},
     "source": [
      "Agora que j\u00e1 conhecemos o suficiente sobre fun\u00e7\u00f5es, podemos revelar a verdade! (TAM TAM TAAAAAM!)\n",
      "\n",
      "Os operadores no Python s\u00e3o o que chamamos de \"a\u00e7\u00facar sint\u00e1tico\" (*syntactic sugar*) ...eles s\u00e3o atalhos: formas mais r\u00e1pidas e f\u00e1ceis de digitar coisas que na realidade, t\u00eam outro nome.\n",
      "\n",
      "o operador '<code>+</code>' para n\u00fameros, na realidade pega o objeto referenciado pelo primeiro n\u00famero e chama a sue fun\u00e7\u00e3o interna  <code>\\_\\_add\\_\\_()</code>, passando o segundo n\u00famero \n",
      "\n",
      "J\u00e1 o operador '<code>*</code>' chama a fun\u00e7\u00e3o <code>\\_\\_mul\\_\\_()</code>.\n",
      "\n",
      "...veja: "
     ]
    },
    {
     "cell_type": "code",
     "collapsed": false,
     "input": [
      "x = 3\n",
      "y = x.__add__(4)\n",
      "z = y.__mul__(x)\n",
      "print x, y\n",
      "print z"
     ],
     "language": "python",
     "metadata": {},
     "outputs": [
      {
       "output_type": "stream",
       "stream": "stdout",
       "text": [
        "3 7\n",
        "21\n"
       ]
      }
     ],
     "prompt_number": 42
    },
    {
     "cell_type": "markdown",
     "metadata": {},
     "source": [
      "<br/>Listas, tuplas e strings, ao usar operadores, tamb\u00e9m usam *syntactic sugar*:"
     ]
    },
    {
     "cell_type": "code",
     "collapsed": false,
     "input": [
      "l = ['syntactic','sugar']\n",
      "print l.__getitem__(1)\n",
      "print l.__getitem__(1) == l[1]\n",
      "\n",
      "l.__setitem__(0,'salt')\n",
      "print l\n"
     ],
     "language": "python",
     "metadata": {},
     "outputs": [
      {
       "output_type": "stream",
       "stream": "stdout",
       "text": [
        "sugar\n",
        "True\n",
        "['salt', 'sugar']\n"
       ]
      }
     ],
     "prompt_number": 43
    },
    {
     "cell_type": "markdown",
     "metadata": {},
     "source": [
      "Podemos dizer que *quase* tudo no Python se reverte a executar alguma fun\u00e7\u00e3o."
     ]
    },
    {
     "cell_type": "markdown",
     "metadata": {},
     "source": [
      "<span id=\"pass\"><h4>A palavra reservada <code>pass</code></h4></span>"
     ]
    },
    {
     "cell_type": "markdown",
     "metadata": {},
     "source": [
      "A palavra reservada <code>pass</code> no Python \u00e9 uma opera\u00e7\u00e3o nula (como multiplicar por 1). Ela \u00e9 \u00fatil como preenchimento quando algum comando \u00e9 necess\u00e1rio sintaticamente mas n\u00e3o temos c\u00f3digo para executar naquele lugar."
     ]
    },
    {
     "cell_type": "code",
     "collapsed": false,
     "input": [
      "def foo():\n",
      "    pass # n\u00e3o d\u00e1 erro como daria se s\u00f3 continuassemos o c\u00f3digo\n",
      "print '123'"
     ],
     "language": "python",
     "metadata": {},
     "outputs": [
      {
       "output_type": "stream",
       "stream": "stdout",
       "text": [
        "123\n"
       ]
      }
     ],
     "prompt_number": 44
    },
    {
     "cell_type": "markdown",
     "metadata": {},
     "source": [
      "<span id=\"pass_by_\"><h4>Mudando vari\u00e1veis dentro de um escopo --- *Pass by Value, Pass by Reference*, ** *pass-by-object reference* **</h4></span>"
     ]
    },
    {
     "cell_type": "markdown",
     "metadata": {},
     "source": [
      "Para literais, Python usa pass-by-value , enquanto para estruturas de dados, pass-by-reference ...vejamos as diferen\u00e7\n",
      "\n",
      "Em pass-by-value, passamos o *valor*, isto \u00e9, o lugar onde o objeto est\u00e1 guardado. Em pass-by-reference passamos, como o nome implica, a *refer\u00eancia*, isto \u00e9, o ponteiro que aonte para onde o objeto est\u00e1.\n",
      "\n",
      "A diferen\u00e7a deve ficar mais clara nos exemplos abaixo"
     ]
    },
    {
     "cell_type": "code",
     "collapsed": false,
     "input": [
      "# pass-by-value\n",
      "\n",
      "def ex1(nome_interno):\n",
      "    print 'primeiro dentro temos',nome_interno\n",
      "    var = 'bar'\n",
      "    print 'depois temos', nome_interno\n",
      "    \n",
      "var = 'foo'\n",
      "ex1(var)\n",
      "print 'fora temos', var"
     ],
     "language": "python",
     "metadata": {},
     "outputs": [
      {
       "output_type": "stream",
       "stream": "stdout",
       "text": [
        "primeiro dentro temos foo\n",
        "depois temos foo\n",
        "fora temos foo\n"
       ]
      }
     ],
     "prompt_number": 45
    },
    {
     "cell_type": "code",
     "collapsed": false,
     "input": [
      "# exemplo de pass-by-reference\n",
      "def ex2(aqui_dentro_chamo_disso):\n",
      "    print 'aqui temos',aqui_dentro_chamo_disso\n",
      "    aqui_dentro_chamo_disso[1] = 'ih, mudou?'\n",
      "    print 'depois temos', aqui_dentro_chamo_disso\n",
      "\n",
      "var = ['foo','bar']\n",
      "ex2(var)\n",
      "print 'e aqui fora',var\n"
     ],
     "language": "python",
     "metadata": {},
     "outputs": [
      {
       "output_type": "stream",
       "stream": "stdout",
       "text": [
        "aqui temos ['foo', 'bar']\n",
        "depois temos ['foo', 'ih, mudou?']\n",
        "e aqui fora ['foo', 'ih, mudou?']\n"
       ]
      }
     ],
     "prompt_number": 46
    },
    {
     "cell_type": "markdown",
     "metadata": {},
     "source": [
      "Este comportamento do Python, na literatura, o define como *nem* pass-by-value *nem* pass-by-reference ..mas omo *pass-by-object-reference. No fundo n\u00e3o importa muito o que se chama, desde que os conceitos estejam s\u00f3lidamente compreendidos.\n",
      "\n",
      "Este [link](http://robertheaton.com/2014/02/09/pythons-pass-by-object-reference-as-explained-by-philip-k-dick/) pode ajudar, e [este](http://www.tutorialspoint.com/python/python_functions.htm) tamb\u00e9m"
     ]
    },
    {
     "cell_type": "heading",
     "level": 4,
     "metadata": {},
     "source": [
      "<span id=\"return\"><h4>Retornando valores (ou n\u00e3o)</h4></span>"
     ]
    },
    {
     "cell_type": "markdown",
     "metadata": {},
     "source": [
      "A palavra-chave <code>return</code> imediatamente finaliza a execu\u00e7\u00e3o de c\u00f3digo dentro de qualquer fun\u00e7\u00e3o e efetua a sa\u00edda do escopo vigente.\n",
      "\n",
      "Isto \u00e9, o <code>return</code> termina e retorna ao escopo externo (de onde se chamou a fun\u00e7\u00e3o) o valor que o sucede. Um <code>return</code> sem nada em sua frente implica em retornar <code>None</code>. \n",
      "\n",
      "por *default* a finaliza\u00e7\u00e3o de qualquer fun\u00e7\u00e3o, sem o uso da palavra-chave <code>return</code> tem o mesmo efeito que <code>return None</code>\n",
      "\n",
      "vejamos exemplos:"
     ]
    },
    {
     "cell_type": "code",
     "collapsed": false,
     "input": [
      "def eh_string(input):\n",
      "    if isinstance(input, str):\n",
      "        # caso seja uma string, n\u00e3o preciso continuar com a fun\u00e7\u00e3o\n",
      "        return True \n",
      "    elif input:\n",
      "        print '\\t...not empty, not False, not None, but not a string!'\n",
      "        return False\n",
      "    elif input is None:\n",
      "        print '\\t...recebi um None.'\n",
      "        return False\n",
      "    print '\\t...recebi algo, mas conta como falso.'\n",
      "    return False\n",
      "    \n",
      "x = eh_string(None)\n",
      "y = eh_string(\"oi!\")\n",
      "z = eh_string(21234)\n",
      "w = eh_string(()) # veremos mais sobre o que \u00e9 False e o que \u00e9 True em breve!\n",
      "\n",
      "print x,y,z,w"
     ],
     "language": "python",
     "metadata": {},
     "outputs": [
      {
       "output_type": "stream",
       "stream": "stdout",
       "text": [
        "\t...recebi um None.\n",
        "\t...not empty, not False, not None, but not a string!\n",
        "\t...recebi algo, mas conta como falso.\n",
        "False True False False\n"
       ]
      }
     ],
     "prompt_number": 47
    },
    {
     "cell_type": "markdown",
     "metadata": {},
     "source": [
      "<br/>Veja que a execu\u00e7\u00e3o p\u00e1ra quando se chega a um <code>return</code>.\n",
      "\n",
      "vejamos outro exemplo:"
     ]
    },
    {
     "cell_type": "code",
     "collapsed": false,
     "input": [
      "def find_x(input):\n",
      "    for item in input:\n",
      "        if item == 'x':\n",
      "            return True \n",
      "    print 'cheguei ao fim e nada...nada de xiiiiiis!!!'\n",
      "    return False\n",
      "\n",
      "print find_x([123,'Daniel','x','Ivar'])\n",
      "\n",
      "print '\\nsegunda tentativa:'\n",
      "print find_x([123,'Daniel','y','Ivar'])\n",
      "    "
     ],
     "language": "python",
     "metadata": {},
     "outputs": [
      {
       "output_type": "stream",
       "stream": "stdout",
       "text": [
        "True\n",
        "\n",
        "segunda tentativa:\n",
        "cheguei ao fim e nada...nada de xiiiiiis!!!\n",
        "False\n"
       ]
      }
     ],
     "prompt_number": 48
    },
    {
     "cell_type": "markdown",
     "metadata": {},
     "source": [
      "<span id=\"aula_4\"><h2>M\u00f3dulo 4 - Itera\u00e7\u00e3o com <code>for</code>, <code>range()</code>; a \"Sua Amiga a Internet\"</h2></span>"
     ]
    },
    {
     "cell_type": "heading",
     "level": 4,
     "metadata": {},
     "source": [
      "<span id=\"for\"><h4>O loop for:</h4></span>"
     ]
    },
    {
     "cell_type": "markdown",
     "metadata": {},
     "source": [
      "O loop <code>for</code> nos permite iterar uma s\u00e9rie de comandos e fun\u00e7\u00f5es, sem precisar repeti-los seguidamente. Isto \u00e9 uma ferramenta tremendamente \u00fatil em qualquer tarefa repetitiva, especialmente em tarefas que n\u00e3o sabemos quantas vezes teremos que repetir um dado grupo de comandos.\n",
      "\n",
      "O loop <code>for</code> introduz uma nova possibilidade no caminho do nosso programa, em que *voltamos* e repetimos um dado conjunto de comandos. Veja a fig_2.\n",
      "\n",
      "A sintaxe de um loop <code>for</code> \u00e9:\n",
      "\n",
      "<code>for [[nome de uma ou mais vari\u00e1veis que ser\u00e3o iteradas]] in [[cole\u00e7\u00e3o iter\u00e1vel]]:</code><br/>\n",
      "<code>    [[instru\u00e7\u00f5es em um novo escopo interno aqui]]</code><br/>\n",
      "<code>    [[instru\u00e7\u00f5es em um novo escopo interno aqui]]</code><br/>\n",
      "<code>    [[instru\u00e7\u00f5es em um novo escopo interno aqui]]</code><br/>\n",
      "<code>[[instru\u00e7\u00f5es sem tab indicam a volta sa\u00edda do escopo do for]]</code>\n",
      "\n",
      "Vejamos na pr\u00e1tica:\n"
     ]
    },
    {
     "cell_type": "code",
     "collapsed": false,
     "input": [
      "equipeSen = ('Ivar', 'Daniel', 'Felipe', 'Pedro', 'Mariana', 'Bianca', 'Luan', 'Gabriel', 'Livia')\n",
      "\n",
      "for y in equipeSen:\n",
      "    print 'oi, '+ y"
     ],
     "language": "python",
     "metadata": {},
     "outputs": [
      {
       "output_type": "stream",
       "stream": "stdout",
       "text": [
        "oi, Ivar\n",
        "oi, Daniel\n",
        "oi, Felipe\n",
        "oi, Pedro\n",
        "oi, Mariana\n",
        "oi, Bianca\n",
        "oi, Luan\n",
        "oi, Gabriel\n",
        "oi, Livia\n"
       ]
      }
     ],
     "prompt_number": 49
    },
    {
     "cell_type": "markdown",
     "metadata": {},
     "source": [
      "<span id=\"range\"><h4>Usando <code>range()</code></h4></span>"
     ]
    },
    {
     "cell_type": "markdown",
     "metadata": {},
     "source": [
      "a fun\u00e7\u00e3o <code>range()</code> \u00e9 uma fun\u00e7\u00e3o *built-in* do Python (como a <code>len()</code>, <code>locals()</code> ou <code>str()</code>) que retorna uma **lista** de numeros, em sequ\u00eancia:"
     ]
    },
    {
     "cell_type": "code",
     "collapsed": false,
     "input": [
      "print range(10)"
     ],
     "language": "python",
     "metadata": {},
     "outputs": [
      {
       "output_type": "stream",
       "stream": "stdout",
       "text": [
        "[0, 1, 2, 3, 4, 5, 6, 7, 8, 9]\n"
       ]
      }
     ],
     "prompt_number": 50
    },
    {
     "cell_type": "markdown",
     "metadata": {},
     "source": [
      "A fun\u00e7\u00e3o <code>range()</code> pode ser usada para listar n\u00fameros de um certo *x* a um certo *y*, ou at\u00e9 pular certos intervalos:"
     ]
    },
    {
     "cell_type": "code",
     "collapsed": false,
     "input": [
      "print range(3,15)   # a fun\u00e7\u00e3o range cria uma lista de 3 a 14 e a retorna como entrada da fun\u00e7\u00e3o print.\n",
      "\n",
      "print range(3,15,3) # 'imprima do 2 ao 15 (parando um antes), com intervalo de 3'"
     ],
     "language": "python",
     "metadata": {},
     "outputs": [
      {
       "output_type": "stream",
       "stream": "stdout",
       "text": [
        "[3, 4, 5, 6, 7, 8, 9, 10, 11, 12, 13, 14]\n",
        "[3, 6, 9, 12]\n"
       ]
      }
     ],
     "prompt_number": 51
    },
    {
     "cell_type": "markdown",
     "metadata": {},
     "source": [
      "O principal uso da fun\u00e7\u00e3o <code>range()</code> \u00e9 em conjunto \u00e0 itera\u00e7\u00e3o com um loop <code>for</code> (e a fun\u00e7\u00e3o <code>len()</code>)"
     ]
    },
    {
     "cell_type": "code",
     "collapsed": false,
     "input": [
      "SeNDev = ['Daniel', \"Felipe\", \"Mariana\"]\n",
      "SeNJur = ['Ivar', 'Livia', 'Gabriel', 'Bianca', 'Luan']\n",
      "\n",
      "def digaOi(x):\n",
      "    # posso usar o range() em conjunto com len() se n\u00e3o sei o tamanho\n",
      "    for i in range(len(x)): \n",
      "        # note que o for tem seu pr\u00f3prio escopo!\n",
      "        print 'oi, ' + x[i] +\"!\",\n",
      "    # para que serve este print? tente coment\u00e1'-lo!\n",
      "    print '' \n",
      "\n",
      "digaOi(SeNDev)\n",
      "digaOi(SeNJur)"
     ],
     "language": "python",
     "metadata": {},
     "outputs": [
      {
       "output_type": "stream",
       "stream": "stdout",
       "text": [
        "oi, Daniel! oi, Felipe! oi, Mariana! \n",
        "oi, Ivar! oi, Livia! oi, Gabriel! oi, Bianca! oi, Luan! \n"
       ]
      }
     ],
     "prompt_number": 52
    },
    {
     "cell_type": "markdown",
     "metadata": {},
     "source": [
      "<span id=\"amiga\"><h4>Sua Amiga a Internet\" ou \"Olhe no Stack Overflow Antes!\"</h4></span>"
     ]
    },
    {
     "cell_type": "markdown",
     "metadata": {},
     "source": [
      "Python \u00e9 uma linguagem muito rica, com uma extensa comunidade de desenvolvedores do mundo todo que contribuem para o seu desenvolvimento. Enquanto alguns contribuem para o desenvolvimento do *core* da linguagem, outros contribuem escrevendo m\u00f3dulos e disponibilizando-os gratuitamente na internet.\n",
      "\n",
      "Assim, existe uma enorme quantidade de ferramentas prontas em python, na forma de m\u00f3dulos que podem ser baixados e instalados no seu python local.\n",
      "\n",
      "Quase nenhum projeto no Python precisa ser iniciado do zero. Com um pouco de pesquisa na internet, voc\u00eas provavelmetne encontrar\u00e3o algum m\u00f3dulo ou peda\u00e7o de c\u00f3digo que j\u00e1 resolve alguma parte do problema que voc\u00ea tem a reselver.\n",
      "\n",
      "Recomendamos que voc\u00eas utilizem o site <http://stackoverflow.com> e leiam a documenta\u00e7\u00e3o oficial da linguagem python <http://bit.ly/Pe9lfA>.\n",
      "\n",
      "O Stack Overflow \u00e9 um reposit\u00f3rio de d\u00favidas e respostas sobre todas as linguagens e \u00e1reas da programa\u00e7\u00e3o (n\u00e3o s\u00f3 Python!), mas tudo \u00e9 identificado via tags, e todos os membros (tanto os que perguntam quanto os que respondem) prezam pela clareza e legibilidade, fazendo do site uma \u00f3tima primeira inst\u00e2ncia para pesquisa sobre qualquer d\u00favida.\n",
      "\n",
      "O site oficial do Python <http://python.org> e a documenta\u00e7\u00e3o do Python <http://python.org/doc> s\u00e3o as refer\u00eancias oficiais sobre o *core* da linguagem.\n",
      "\n",
      "Finalmente, na data de escrita desta apostila - v1.0 (Set/2014) o site Tutorials Point <http://www.tutorialspoint.com/python/> oferece bons e r\u00e1pidos tutoriais sobre diferentes aspectos do Python.\n"
     ]
    },
    {
     "cell_type": "markdown",
     "metadata": {},
     "source": [
      "<span id=\"aula_5\"><h2>M\u00f3dulo 5 - Importa\u00e7\u00e3o de M\u00f3dulos, Abrindo e Manipulando Arquivos, Dicion\u00e1rios</h2></span>"
     ]
    },
    {
     "cell_type": "markdown",
     "metadata": {},
     "source": [
      "Neste m\u00f3dulo vamos ver as duas \u00faltimas estruturas de dados do conjunto fundamental provido pelo python. N\u00f3s vimos n\u00fameros, strings, listas e tuplas ...hoje veremos **arquivos** e **dicion\u00e1rios**. \n",
      "\n",
      "Veremos tamb\u00e9m como importar m\u00f3dulos, para utilizar c\u00f3digo criado por outros dentro de nossos programas"
     ]
    },
    {
     "cell_type": "markdown",
     "metadata": {},
     "source": [
      "<span id=\"arquivos\"><h4>Arquivos - abrindo, e manipulando, de dentro e de fora</h4></span>"
     ]
    },
    {
     "cell_type": "markdown",
     "metadata": {},
     "source": [
      "Arquivos s\u00e3o outra estrutura de dados important\u00edssima para o programador Python. Tudo que se manipula como usu\u00e1rio de computador toma a forma de um arquivo: imagens, PDFs, planilhas e at\u00e9 outros programas. De fato, todos os dados que ficam guardados em um computador de forma permanente (isto \u00e9, no disco e n\u00e3o na mem\u00f3ria) tomam a forma de arquivos. At\u00e9 os pr\u00f3prios sistemas operacionais (Windows, Linux, OSX, etc) s\u00e3o cole\u00e7\u00f5es de arquivos que ficam guardados no disco r\u00edgido (*hard disk*, HD) s\u00e3o carregados quando  ocomputador se inicia.\n",
      "\n",
      "O Acesso e manipula\u00e7\u00e3o de arquivos permitem ao nossos programas interagir com bases de dados, imagens e outros at\u00e9 programas no computador. Em Python abrimos arquivos com a chamada <code>open</code> que retorna um objeto arquivo.\n",
      "\n",
      "<code>\n",
      "meu_arq = open([[nome do arquivo]], [[modo]])\n",
      "</code>\n",
      "\n",
      "Outro modo de abertura de arquivo (ntem que inicializa um novo escopo!) \u00e9:\n",
      "\n",
      "<code>\n",
      "with open([[nome do arquivo]], [[modo]]) as meu_arq:\n",
      "    [[express\u00f5es em novo escopo]]\n",
      "    [[express\u00f5es em novo escopo]]\n",
      "    [[express\u00f5es em novo escopo]]\n",
      "</code>\n",
      "\n",
      "O par\u00e2mero *modo* lida com o que ser\u00e1 feito com o arquivo, a tabela 5.1 lista os principais par\u00e2metros que podem ser passados. Se nada for passado, o arquivo \u00e9 aberto para leitura, isto \u00e9, o default \u00e9 'r':<br/><br/>\n",
      "<center>\n",
      "<table>\n",
      "<tr>\n",
      "<td>Modes</td><td>Description</td>\n",
      "</tr>\n",
      "<tr>\n",
      "<td>r</td><td>Opens a file for reading only. The file pointer is placed at the beginning of the file. This is the default mode.</td>\n",
      "</tr>\n",
      "<tr>\n",
      "<td>rb</td><td>Opens a file for reading only in binary format. The file pointer is placed at the beginning of the file. This is the default mode.</td>\n",
      "</tr>\n",
      "<tr>\n",
      "<td>r+</td><td>Opens a file for both reading and writing. The file pointer will be at the beginning of the file.</td>\n",
      "</tr>\n",
      "<tr>\n",
      "<td>rb+</td><td>Opens a file for both reading and writing in binary format. The file pointer will be at the beginning of the file.</td>\n",
      "</tr>\n",
      "<tr>\n",
      "<td>w</td><td>Opens a file for writing only. Overwrites the file if the file exists. If the file does not exist, creates a new file for writing.</td>\n",
      "</tr>\n",
      "<tr>\n",
      "<td>wb</td><td>Opens a file for writing only in binary format. Overwrites the file if the file exists. If the file does not exist, creates a new file for writing.</td>\n",
      "</tr>\n",
      "<tr>\n",
      "<td>w+</td><td>Opens a file for both writing and reading. Overwrites the existing file if the file exists. If the file does not exist, creates a new file for reading and writing.</td>\n",
      "</tr>\n",
      "<tr>\n",
      "<td>wb+</td><td>Opens a file for both writing and reading in binary format. Overwrites the existing file if the file exists. If the file does not exist, creates a new file for reading and writing.</td>\n",
      "</tr>\n",
      "<tr>\n",
      "<td>a</td><td>Opens a file for appending. The file pointer is at the end of the file if the file exists. That is, the file is in the append mode. If the file does not exist, it creates a new file for writing.</td>\n",
      "</tr>\n",
      "<tr>\n",
      "<td>ab</td><td>\tOpens a file for appending in binary format. The file pointer is at the end of the file if the file exists. That is, the file is in the append mode. If the file does not exist, it creates a new file for writing.</td>\n",
      "</tr>\n",
      "<tr>\n",
      "<td>a+</td><td>\tOpens a file for both appending and reading. The file pointer is at the end of the file if the file exists. The file opens in the append mode. If the file does not exist, it creates a new file for reading and writing.</td>\n",
      "</tr>\n",
      "<tr>\n",
      "<td>ab+</td><td>Opens a file for both appending and reading in binary format. The file pointer is at the end of the file if the file exists. The file opens in the append mode. If the file does not exist, it creates a new file for reading and writing.</td>\n",
      "</tr>\n",
      "<tr>\n",
      "<td></td><td>fonte: http://www.tutorialspoint.com/python/python_files_io.htm</td>\n",
      "</tr>\n",
      "</table>\n",
      "</center>"
     ]
    },
    {
     "cell_type": "code",
     "collapsed": false,
     "input": [
      "f = open('arq.csv','r+') # neste exemplo, o arquivo deve estar na mesma pasta do programa sendo rodado\n",
      "# a fun\u00e7\u00e3o 'open' retorna um objeto tipo arquivo\n",
      "print f\n",
      "print type(f)"
     ],
     "language": "python",
     "metadata": {},
     "outputs": [
      {
       "output_type": "stream",
       "stream": "stdout",
       "text": [
        "<open file 'arq.csv', mode 'r+' at 0x103e67930>\n",
        "<type 'file'>\n"
       ]
      }
     ],
     "prompt_number": 53
    },
    {
     "cell_type": "markdown",
     "metadata": {},
     "source": [
      "<br/>Uma vez 'abertos', podemos usar as fun\u00e7\u00f5es dos objetos arquivo para manipular o conte\u00fado dos arquivos, os exemplos abaixo mostram as principais fun\u00e7\u00f5es para manipular o conte\u00fado de arquivos:<br/><br/>"
     ]
    },
    {
     "cell_type": "code",
     "collapsed": false,
     "input": [
      "f = open('arq.csv','r')\n",
      "\n",
      "# read() le e retorna o conteudo inteiro do arquivo ..se o arquivo for maior que a mem\u00f3ria utiliz\u00e1vel, corta a leitura\n",
      "# podemos tamb\u00e9m passar um n\u00famero, que ser\u00e1 o n\u00famero de bytes a serem lidos do arquivo.\n",
      "x = f.read()\n",
      "\n",
      "print x\n",
      "f.close()\n"
     ],
     "language": "python",
     "metadata": {},
     "outputs": [
      {
       "output_type": "stream",
       "stream": "stdout",
       "text": [
        "Ivar,28,Harvard\n",
        "Daniel,34,PUC\n",
        "Felipe,24,FGV\n"
       ]
      }
     ],
     "prompt_number": 54
    },
    {
     "cell_type": "code",
     "collapsed": false,
     "input": [
      "f = open('novoarq.csv','w+')\n",
      "x = 'Mariana,25,UFF'\n",
      "\n",
      "# write() (sobre)escreve o conteudo da vari\u00e1vel passada para o arquivo. N\u00e3o retorna nada.\n",
      "nada = f.write(x)\n",
      "\n",
      "print nada \n",
      "f.close()"
     ],
     "language": "python",
     "metadata": {},
     "outputs": [
      {
       "output_type": "stream",
       "stream": "stdout",
       "text": [
        "None\n"
       ]
      }
     ],
     "prompt_number": 55
    },
    {
     "cell_type": "markdown",
     "metadata": {},
     "source": [
      "<br/>\n",
      "Quando um arquivo \u00e9 aberto para leiura, o Python aponta um 'pointeiro de arquivo' (eu chamo de 'cursor') para o conte\u00fado do arquivo. \u00c0 medida que lemos ou editamos o conte\u00fado do arquivo, este 'cursor' \u00e9 movido para a frente (ou para tr\u00e1s). Cada fun\u00e7\u00e3o de leitura ou escrita move o 'cursor' para frente, de forma que uma leitura (ou escrita) subsequente retornar\u00e1 outro resultado.\n",
      "\n",
      "Dependendo do modo utilizado ao abrir o arquivo, podemos j\u00e1 abri-lo com o cursor apontando para o final (modo <code>'a'</code>)\n",
      "<br/>\n",
      "Outras fun\u00e7\u00f5es de escrita e leitura de arquivo s\u00e3o:\n",
      "\n",
      "<code>readline()</code> - retorna uma linha do arquivo, e passa o cursor para a pr\u00f3xima linha<br/>\n",
      "<code>readlines()</code> \u2013 devolve lista em que cada item \u00e9 uma linha<br/>\n",
      "<code>writelines()</code> \u2013 recebe uma lista ou tupla ou iter\u00e1vel e cada item ser\u00e1 inserido como se chamando <code>writeline()</code><br/>\n",
      "<code>f.tell()</code> \u2013 retorna em que parte do arquivo o cursor parou<br/>\n",
      "<code>f.seek(from, offset)</code> \u2013 muda o cursor do <code>from</code> (0 pega do come\u00e7o do arquivo, 1 usa a posi\u00e7\u00e3o atual e 2 usa o final do arquivo como refer\u00eancia ..o default \u00e9 0) e avan\u00e7a tantos bytes quanto indicado no <code>offset</code>\n",
      "\n",
      "Encorajamos o leitor a explorar a manipula\u00e7\u00e3o dos dados de arquivos com estas fun\u00e7\u00f5es, e buscar mais aprofundadamente sobre seu funcionamento na [se\u00e7\u00e3o sobre arquivos da python.org](https://docs.python.org/2/tutorial/inputoutput.html#reading-and-writing-files)\n"
     ]
    },
    {
     "cell_type": "markdown",
     "metadata": {},
     "source": [
      "<span id=\"dicionarios\"><h4>Dicion\u00e1rios</h4></span>"
     ]
    },
    {
     "cell_type": "markdown",
     "metadata": {},
     "source": [
      "Dicion\u00e1rios trazem uma nova forma de guardar cole\u00e7\u00f5es de dados/objetos. Listas e tuplas nos d\u00e3o uma forma ordinal de guardar dados, e podemos acess\u00e1los pela sua posi\u00e7\u00e3o na ordem (i.e. <code>nomes[3]</code> retorna o segundo item da lista nomes). J\u00e1 dicion\u00e1rios indexam seus valores de outra forma: por chaves. Ao inv\u00e9s de utilizar ordem, o dicion\u00e1rio usa uma fun\u00e7\u00e3o chamad fun\u00e7\u00e3o *hash* para decidir onde melhor colocar cada novo item que \u00e9 adicionado. Isso torna o seu tempo de resposta *muito* mais r\u00e1pido ao localizar um valor associado a uma chave.\n",
      "\n",
      "H\u00e1 algumas restri\u00e7\u00f5es no que \u00e9 pass\u00edvel de ser uma chave (quem quiser estudar mais as premissas, pode ler em <https://wiki.python.org/moin/DictionaryKeys>) mas aqui explicitamos que n\u00fameros, tuplas e strings **podem** ser chaves, enquanto listas **n\u00e3o podem**.\n",
      "\n",
      "Note que isso n\u00e3o implica o que pode ser guardado como *valor*, qualquer vari\u00e1vel ou objeto pode ser guardado em um dicion\u00e1rio, at\u00e9 fun\u00e7\u00f5es inteiras e m\u00f3dulos ...somente a *chave* tem restri\u00e7\u00f5es.\n",
      "\n",
      "Definimos dicion\u00e1rios com: <code>{}</code> e acessamos seus itens da mesma forma que listas:"
     ]
    },
    {
     "cell_type": "code",
     "collapsed": false,
     "input": [
      "x = {\n",
      "'Ivar' : [27,'Nova Hamburgo', 'Inter'],\n",
      "'Daniel' : [34, 'Rio de Janeiro', 'Flamengo']\n",
      "}\n",
      "\n",
      "# podemos adicionar valores aos dicion\u00e1rios, eles s\u00e3o *mut\u00e1veis*\n",
      "x['Felipe'] = [24, 'Matrix', 'C']\n",
      "\n",
      "print x['Felipe']\n",
      "\n",
      "print x['Ivan'] # notem que d\u00e1 erro, o Python nos diz que n\u00e3o existe a chave 'Ivan'\n",
      "\n"
     ],
     "language": "python",
     "metadata": {},
     "outputs": [
      {
       "output_type": "stream",
       "stream": "stdout",
       "text": [
        "[24, 'Matrix', 'C']\n"
       ]
      },
      {
       "ename": "KeyError",
       "evalue": "'Ivan'",
       "output_type": "pyerr",
       "traceback": [
        "\u001b[0;31m---------------------------------------------------------------------------\u001b[0m\n\u001b[0;31mKeyError\u001b[0m                                  Traceback (most recent call last)",
        "\u001b[0;32m<ipython-input-56-bc4cee0fac11>\u001b[0m in \u001b[0;36m<module>\u001b[0;34m()\u001b[0m\n\u001b[1;32m      9\u001b[0m \u001b[0;32mprint\u001b[0m \u001b[0mx\u001b[0m\u001b[0;34m[\u001b[0m\u001b[0;34m'Felipe'\u001b[0m\u001b[0;34m]\u001b[0m\u001b[0;34m\u001b[0m\u001b[0m\n\u001b[1;32m     10\u001b[0m \u001b[0;34m\u001b[0m\u001b[0m\n\u001b[0;32m---> 11\u001b[0;31m \u001b[0;32mprint\u001b[0m \u001b[0mx\u001b[0m\u001b[0;34m[\u001b[0m\u001b[0;34m'Ivan'\u001b[0m\u001b[0;34m]\u001b[0m \u001b[0;31m# notem que d\u00e1 erro, o Python nos diz que n\u00e3o existe a chave 'Ivan'\u001b[0m\u001b[0;34m\u001b[0m\u001b[0m\n\u001b[0m\u001b[1;32m     12\u001b[0m \u001b[0;34m\u001b[0m\u001b[0m\n",
        "\u001b[0;31mKeyError\u001b[0m: 'Ivan'"
       ]
      }
     ],
     "prompt_number": 56
    },
    {
     "cell_type": "markdown",
     "metadata": {},
     "source": [
      "Como em todas as estruturas que guardam m\u00faltiplos dados, podemos guardar outros dicion\u00e1rios dentro de dicion\u00e1rios:<br/><br/>"
     ]
    },
    {
     "cell_type": "code",
     "collapsed": false,
     "input": [
      "x = {\n",
      "'Ivar' : {'idade':28,'cidade':'Nova Hamburgo', 'time':'Inter', 'lingua':'Legagese'},\n",
      "'Daniel' : {'idade':float('Inf'), 'cidade':'Barad Dur', 'lingua':'Black Speech', 'time':'Mordor'},\n",
      "'Felipe' : {'cidade':'Xion', 'time':'Morpheus', 'idade':float('NaN') , 'lingua':'CUDA'}\n",
      "}\n",
      "\n",
      "print x['Felipe']['time'] \n",
      "print x['Daniel']['idade'] # professores malvados s\u00e3o eternos! \n",
      "# PS: quem consegue explicar a minha idade e a do Felipe??"
     ],
     "language": "python",
     "metadata": {},
     "outputs": [
      {
       "output_type": "stream",
       "stream": "stdout",
       "text": [
        "Morpheus\n",
        "inf\n"
       ]
      }
     ],
     "prompt_number": 57
    },
    {
     "cell_type": "markdown",
     "metadata": {},
     "source": [
      "<br/>Dicion\u00e1rios t\u00eam fun\u00e7\u00f5es muito \u00fateis, a saber:"
     ]
    },
    {
     "cell_type": "code",
     "collapsed": false,
     "input": [
      "# a fun\u00e7\u00e3o get() evita que o erro anterior aconte\u00e7a, retornando None quando a chave n\u00e3o \u00e9 encontrada\n",
      "print x.get('Ivar')\n",
      "# para obter todas as chaves do dicion\u00e1rio, usamos keys(), que retorna uma lista\n",
      "print '\\nKEYS:\\t',x.keys()\n",
      "# para obter os valores, a fun\u00e7\u00e3o values(), que retorna uma lista\n",
      "print '\\nVALUES:\\t',x.values()\n",
      "# j\u00e1 a fun\u00e7\u00e3o items() retorna uma lista de tuplas na forma (chave,valor)\n",
      "print '\\nITEMS:\\t',x.items()\n"
     ],
     "language": "python",
     "metadata": {},
     "outputs": [
      {
       "output_type": "stream",
       "stream": "stdout",
       "text": [
        "{'idade': 28, 'cidade': 'Nova Hamburgo', 'lingua': 'Legagese', 'time': 'Inter'}\n",
        "\n",
        "KEYS:\t['Felipe', 'Daniel', 'Ivar']\n",
        "\n",
        "VALUES:\t[{'idade': nan, 'cidade': 'Xion', 'lingua': 'CUDA', 'time': 'Morpheus'}, {'idade': inf, 'cidade': 'Barad Dur', 'lingua': 'Black Speech', 'time': 'Mordor'}, {'idade': 28, 'cidade': 'Nova Hamburgo', 'lingua': 'Legagese', 'time': 'Inter'}]\n",
        "\n",
        "ITEMS:\t[('Felipe', {'idade': nan, 'cidade': 'Xion', 'lingua': 'CUDA', 'time': 'Morpheus'}), ('Daniel', {'idade': inf, 'cidade': 'Barad Dur', 'lingua': 'Black Speech', 'time': 'Mordor'}), ('Ivar', {'idade': 28, 'cidade': 'Nova Hamburgo', 'lingua': 'Legagese', 'time': 'Inter'})]\n"
       ]
      }
     ],
     "prompt_number": 58
    },
    {
     "cell_type": "markdown",
     "metadata": {},
     "source": [
      "<br/>Vale notar que o print das chaves e valores n\u00e3o \u00e9 nem alfab\u00e9tico, nem em fun\u00e7\u00e3o da ordem da adi\u00e7\u00e3o dos registros, mas sim de acordo com a fun\u00e7\u00e3o <code>hash</code> mencionada.\n",
      "\n",
      "Estas listas retornadas pelas fun\u00e7\u00f5es permitem iterar as chaves, os valores, ou AMBOS com loops. Os dicion\u00e1rios em si, por\u00e9m, n\u00e3o s\u00e3o iter\u00e1veis (uma explica\u00e7\u00e3o b\u00e1sica seria que eles n\u00e3o t\u00eam ordena\u00e7\u00e3o intr\u00ednseca, como as listas e as tuplas)."
     ]
    },
    {
     "cell_type": "markdown",
     "metadata": {},
     "source": [
      "<span id=\"modulos\"><h4>Importando M\u00f3dulos</h4></span>"
     ]
    },
    {
     "cell_type": "markdown",
     "metadata": {},
     "source": [
      "Modulos s\u00e3o a forma de importar c\u00f3digo de outros programas seus e de outros para dentro do seu programa. N\u00f3s importamos m\u00f3dulos para usar funcionalidades j\u00e1 programados (por n\u00f3s mesmos ou outros) dentro do nosso c\u00f3digo, sem re-escrever.\n",
      "\n",
      "o jeito de importar m\u00f3dulos \u00e9:"
     ]
    },
    {
     "cell_type": "code",
     "collapsed": false,
     "input": [
      "import sys # importando o m\u00f3dulo inteiro\n",
      "from glob import glob # importando uma fun\u00e7\u00e3o espec\u00edfica de um m\u00f3dulo\n",
      "from math import * # importando todas as fun\u00e7\u00f5es do m\u00f3dulo para o escopo local"
     ],
     "language": "python",
     "metadata": {},
     "outputs": [],
     "prompt_number": 59
    },
    {
     "cell_type": "markdown",
     "metadata": {},
     "source": [
      "<h6>FAQ: Qual \u00e9 a diferen\u00e7a entre importar o m\u00f3dulo todo e importar todas as fun\u00e7\u00f5es com o asterisco?</h6>"
     ]
    },
    {
     "cell_type": "markdown",
     "metadata": {},
     "source": [
      "Ao importar um m\u00f3dulo inteiro usando s\u00f3 o comando <code>import</code>, importa-se o m\u00f3dulo como um objeto, e as fun\u00e7\u00f5es do m\u00f3dulo ficam acess\u00edveis via este objeto:"
     ]
    },
    {
     "cell_type": "code",
     "collapsed": false,
     "input": [
      "# um detalhe: posso renomear o m\u00f3dulo ao importar, para facilitar a sua chamada!\n",
      "import os as o\n",
      "print o.getcwd() # getcwd() foi importada como fun\u00e7\u00e3o do objeto 'os'!\n",
      "\n",
      "from math import sqrt, pi\n",
      "print sqrt(pi) # note que n\u00e3o preciso usar 'math<ponto>'!"
     ],
     "language": "python",
     "metadata": {},
     "outputs": [
      {
       "output_type": "stream",
       "stream": "stdout",
       "text": [
        "/Users/cyg/Documents/work/code/atc_2014\n",
        "1.77245385091\n"
       ]
      }
     ],
     "prompt_number": 60
    },
    {
     "cell_type": "code",
     "collapsed": false,
     "input": [
      "# mas cuidado!\n",
      "from math import *\n",
      "\n",
      "# aqui eu redefino a variavel 'pi' importada antes do math, e perco a original!\n",
      "pi = 'principal investiga\u00e7\u00e3o'\n",
      "print pi\n",
      "\n",
      "# j\u00e1 aqui, n\u00e3o corro este risco, pois fica como parte do m\u00f3dulo!\n",
      "import math \n",
      "print pi, math.pi\n"
     ],
     "language": "python",
     "metadata": {},
     "outputs": [
      {
       "output_type": "stream",
       "stream": "stdout",
       "text": [
        "principal investiga\u00e7\u00e3o\n",
        "principal investiga\u00e7\u00e3o 3.14159265359\n"
       ]
      }
     ],
     "prompt_number": 61
    },
    {
     "cell_type": "markdown",
     "metadata": {},
     "source": [
      "<span id=\"chdir\"><h4>Manipulando arquivos em si, n\u00e3o s\u00f3 seu conte\u00fado (o m\u00f3dulo os)</h4></span>"
     ]
    },
    {
     "cell_type": "markdown",
     "metadata": {},
     "source": [
      "J\u00e1 vimos como manipular o conte\u00fado de arquivos, e como trazer c\u00f3digo Python externo na forma de m\u00f3dulo para dentro do nosso pr\u00f3prio c\u00f3digo. Agora usaremos um m\u00f3dulo do Python para manipular arquivos e diret\u00f3rios ('pastas' para os que falam Windows\u00ae)"
     ]
    },
    {
     "cell_type": "markdown",
     "metadata": {},
     "source": [
      "Import os\n",
      ".mkdir() \u2013 make directory\n",
      ".chdir() \u2013 change directory\n",
      ".getcwd() \u2013 get current working directory\n",
      ".remove()\n",
      ".rename(a,b)\n",
      ".rmdir() \u2013 remove directory\n"
     ]
    },
    {
     "cell_type": "markdown",
     "metadata": {},
     "source": [
      "<span id=\"aula_6\"><h2>M\u00f3dulo 6 - Fun\u00e7\u00f5es (pte. 2); Built-ins: zip, map, reduce, filter; usando lambda; usando \\*args, \\*\\*kwargs</h2></span>"
     ]
    },
    {
     "cell_type": "heading",
     "level": 4,
     "metadata": {},
     "source": [
      "<span id=\"outras_built_in\"><h4>Outras Func\u00f5es Built-in</h4></span>"
     ]
    },
    {
     "cell_type": "markdown",
     "metadata": {},
     "source": [
      "Vamos agora continuar a ver fun\u00e7\u00f5es built-in \u00fateis no dia-a-dia da programa\u00e7\u00e3o Python. Uma lista completa pode ser encontrada [aqui](https://docs.python.org/2/library/functions.html).\n",
      "\n",
      "a fun\u00e7\u00e3o **<code>map</code>** recebe um objeto fun\u00e7\u00e3o e um objeto iter\u00e1vel (i.e. uma sequ\u00eancia...tupla, lista, string, etc) e aplica a fun\u00e7\u00e3o a cada membro do iter\u00e1vel, um de cada vez, coletando os resultados em uma lista. veja:"
     ]
    },
    {
     "cell_type": "code",
     "collapsed": false,
     "input": [
      "equipe = ('Ivar','Felipe', 'Daniel', 'Mariana', 'Fred', 'Luan')\n",
      "\n",
      "# passo a fun\u00e7\u00e3o len e a minha tupla\n",
      "tamanhos_de_cada = map(len, equipe)\n",
      "\n",
      "print tamanhos_de_cada\n",
      "    "
     ],
     "language": "python",
     "metadata": {},
     "outputs": [
      {
       "output_type": "stream",
       "stream": "stdout",
       "text": [
        "[4, 6, 6, 7, 4, 4]\n"
       ]
      }
     ],
     "prompt_number": 62
    },
    {
     "cell_type": "markdown",
     "metadata": {},
     "source": [
      "A fun\u00e7\u00e3o **<code>zip</code>** retorna uma lista de tuplas, onde a n-\u00e9sima tupla cont\u00e9m os n-\u00e9simos itens de cada iter\u00e1vel passado para ela:"
     ]
    },
    {
     "cell_type": "code",
     "collapsed": false,
     "input": [
      "idades = [28, float('NaN'), float('Inf'), 25, 22, 22]\n",
      "\n",
      "# passo dois iter\u00e1veis\n",
      "agrupados = zip(equipe,idades)\n",
      "print 'agrupados:\\t', agrupados\n",
      "\n",
      "abc = 'abcdefghijklmnopqrstuvwxyz'\n",
      "# agora um terceiro, note o que acontece quando os tamanhos s\u00e3o \n",
      "# diferentes e quando os itens J\u00c1 S\u00c3O iter\u00e1veis em si\n",
      "agrup = zip(agrupados, abc)\n",
      "print '\\nnovo agrup:\\t',agrup\n",
      "\n",
      "# posso DESAGRUPAR com o '*':\n",
      "desagrup = zip(*agrupados)\n",
      "print '\\ndesagrup:\\t',desagrup\n",
      "\n",
      "# assim...\n",
      "final = zip(zip(*agrupados)[0],zip(*agrupados)[1],abc)\n",
      "print '\\nfinal:\\t',final\n",
      "# qual a diferen\u00e7a entre 'final' e 'novo agrup'??"
     ],
     "language": "python",
     "metadata": {},
     "outputs": [
      {
       "output_type": "stream",
       "stream": "stdout",
       "text": [
        "agrupados:\t[('Ivar', 28), ('Felipe', nan), ('Daniel', inf), ('Mariana', 25), ('Fred', 22), ('Luan', 22)]\n",
        "\n",
        "novo agrup:\t[(('Ivar', 28), 'a'), (('Felipe', nan), 'b'), (('Daniel', inf), 'c'), (('Mariana', 25), 'd'), (('Fred', 22), 'e'), (('Luan', 22), 'f')]\n",
        "\n",
        "desagrup:\t[('Ivar', 'Felipe', 'Daniel', 'Mariana', 'Fred', 'Luan'), (28, nan, inf, 25, 22, 22)]\n",
        "\n",
        "final:\t[('Ivar', 28, 'a'), ('Felipe', nan, 'b'), ('Daniel', inf, 'c'), ('Mariana', 25, 'd'), ('Fred', 22, 'e'), ('Luan', 22, 'f')]\n"
       ]
      }
     ],
     "prompt_number": 63
    },
    {
     "cell_type": "markdown",
     "metadata": {},
     "source": [
      "<br/>**<code>reduce</code>** aplica uma fun\u00e7\u00e3o que recebe dois valores e retorna um a um iter\u00e1vel, cada vez pegando o resultado da itera\u00e7\u00e3o anterior omo primeiro par\u00e2metro:"
     ]
    },
    {
     "cell_type": "code",
     "collapsed": false,
     "input": [
      "def add(x,y):\n",
      "    return x+y\n",
      "\n",
      "print reduce(add, [2,4,6,8])"
     ],
     "language": "python",
     "metadata": {},
     "outputs": [
      {
       "output_type": "stream",
       "stream": "stdout",
       "text": [
        "20\n"
       ]
      }
     ],
     "prompt_number": 64
    },
    {
     "cell_type": "markdown",
     "metadata": {},
     "source": [
      "<br/>**<code>filter</code>** recebe uma fun\u00e7\u00e3o que retorna <code>True</code> ou <code>False</code> e um iter\u00e1vel. Constr\u00f3i uma lista com os membros do iter\u00e1vel para os quais a fun\u00e7\u00e3o responde <code>True</code>"
     ]
    },
    {
     "cell_type": "code",
     "collapsed": false,
     "input": [
      "CUT_OFF = 5\n",
      "def maior(x):\n",
      "    return x >= CUT_OFF\n",
      "\n",
      "y = filter(maior,tamanhos_de_cada)\n",
      "print y\n",
      "\n",
      "def maior_que(x):\n",
      "    return x[0] >= CUT_OFF\n",
      "\n",
      "# agora posso fazer algo mais desafiador... o que estou fazendo aqui?? \n",
      "print zip(*filter(maior_que, zip(tamanhos_de_cada, equipe)))[1]\n",
      "#seja um dos 5 primeiros e um email explicando com o subject [explica\u00e7\u00e3o do filter]"
     ],
     "language": "python",
     "metadata": {},
     "outputs": [
      {
       "output_type": "stream",
       "stream": "stdout",
       "text": [
        "[6, 6, 7]\n",
        "('Felipe', 'Daniel', 'Mariana')\n"
       ]
      }
     ],
     "prompt_number": 65
    },
    {
     "cell_type": "markdown",
     "metadata": {},
     "source": [
      "<span id=\"defaults\"><h4>Valores *default* em fun\u00e7\u00f5es</h4></span>"
     ]
    },
    {
     "cell_type": "markdown",
     "metadata": {},
     "source": [
      "O Python permite que argumentos de fun\u00e7\u00f5es tenham valores *default*, de forma que, se nada for passado naquele parametro, a fun\u00e7\u00e3o prov\u00ea um valor pre-definido ao inv\u00e9s de dar erro.\n",
      "\n",
      "Em c\u00f3digo:"
     ]
    },
    {
     "cell_type": "code",
     "collapsed": false,
     "input": [
      "def meu_time(nome, time='Mordor'):\n",
      "    return nome + ' torce por ' + time\n",
      "\n",
      "print meu_time('Ivar','Inter')\n",
      "#  na aus\u00eancia do valor, vai o default\n",
      "print meu_time('Daniel')"
     ],
     "language": "python",
     "metadata": {},
     "outputs": [
      {
       "output_type": "stream",
       "stream": "stdout",
       "text": [
        "Ivar torce por Inter\n",
        "Daniel torce por Mordor\n"
       ]
      }
     ],
     "prompt_number": 66
    },
    {
     "cell_type": "markdown",
     "metadata": {},
     "source": [
      "Cuidado que passar <code>None</code> ainda \u00e9 passar alguma coisa:"
     ]
    },
    {
     "cell_type": "code",
     "collapsed": false,
     "input": [
      "print meu_time('Felipe', None) # uh oh!"
     ],
     "language": "python",
     "metadata": {},
     "outputs": [
      {
       "ename": "TypeError",
       "evalue": "cannot concatenate 'str' and 'NoneType' objects",
       "output_type": "pyerr",
       "traceback": [
        "\u001b[0;31m---------------------------------------------------------------------------\u001b[0m\n\u001b[0;31mTypeError\u001b[0m                                 Traceback (most recent call last)",
        "\u001b[0;32m<ipython-input-67-387ca642fad3>\u001b[0m in \u001b[0;36m<module>\u001b[0;34m()\u001b[0m\n\u001b[0;32m----> 1\u001b[0;31m \u001b[0;32mprint\u001b[0m \u001b[0mmeu_time\u001b[0m\u001b[0;34m(\u001b[0m\u001b[0;34m'Felipe'\u001b[0m\u001b[0;34m,\u001b[0m \u001b[0mNone\u001b[0m\u001b[0;34m)\u001b[0m \u001b[0;31m# uh oh!\u001b[0m\u001b[0;34m\u001b[0m\u001b[0m\n\u001b[0m",
        "\u001b[0;32m<ipython-input-66-c198612e6fc7>\u001b[0m in \u001b[0;36mmeu_time\u001b[0;34m(nome, time)\u001b[0m\n\u001b[1;32m      1\u001b[0m \u001b[0;32mdef\u001b[0m \u001b[0mmeu_time\u001b[0m\u001b[0;34m(\u001b[0m\u001b[0mnome\u001b[0m\u001b[0;34m,\u001b[0m \u001b[0mtime\u001b[0m\u001b[0;34m=\u001b[0m\u001b[0;34m'Mordor'\u001b[0m\u001b[0;34m)\u001b[0m\u001b[0;34m:\u001b[0m\u001b[0;34m\u001b[0m\u001b[0m\n\u001b[0;32m----> 2\u001b[0;31m     \u001b[0;32mreturn\u001b[0m \u001b[0mnome\u001b[0m \u001b[0;34m+\u001b[0m \u001b[0;34m' torce por '\u001b[0m \u001b[0;34m+\u001b[0m \u001b[0mtime\u001b[0m\u001b[0;34m\u001b[0m\u001b[0m\n\u001b[0m\u001b[1;32m      3\u001b[0m \u001b[0;34m\u001b[0m\u001b[0m\n\u001b[1;32m      4\u001b[0m \u001b[0;32mprint\u001b[0m \u001b[0mmeu_time\u001b[0m\u001b[0;34m(\u001b[0m\u001b[0;34m'Ivar'\u001b[0m\u001b[0;34m,\u001b[0m\u001b[0;34m'Inter'\u001b[0m\u001b[0;34m)\u001b[0m\u001b[0;34m\u001b[0m\u001b[0m\n\u001b[1;32m      5\u001b[0m \u001b[0;31m#  na aus\u00eancia do valor, vai o default\u001b[0m\u001b[0;34m\u001b[0m\u001b[0;34m\u001b[0m\u001b[0m\n",
        "\u001b[0;31mTypeError\u001b[0m: cannot concatenate 'str' and 'NoneType' objects"
       ]
      }
     ],
     "prompt_number": 67
    },
    {
     "cell_type": "markdown",
     "metadata": {},
     "source": [
      "**IMPORTANTE**: \u00c9 um erro comum utilizar um objeto mut\u00e1vel como valor *default*. Lembra, de <a href=\"#pass_by_\">pass-by-value, pass-by-reference</a>?\n",
      "\n",
      "Vejamos um exemplo:"
     ]
    },
    {
     "cell_type": "code",
     "collapsed": false,
     "input": [
      "def bad_append(new_item, a_list=[]):\n",
      "    a_list.append(new_item)\n",
      "    return a_list\n",
      "\n",
      "print bad_append('one')\n",
      "\n",
      "print bad_append('two') "
     ],
     "language": "python",
     "metadata": {},
     "outputs": [
      {
       "output_type": "stream",
       "stream": "stdout",
       "text": [
        "['one']\n",
        "['one', 'two']\n"
       ]
      }
     ],
     "prompt_number": 68
    },
    {
     "cell_type": "markdown",
     "metadata": {},
     "source": [
      "<br/>Uh oh! Por que que o 'one' ainda est\u00e1 l\u00e1?!\n",
      "\n",
      "O problema \u00e9 que o valor *default*, isto \u00e9, a lista vazia, \u00e9 definida na **declara\u00e7\u00e3o** da fun\u00e7\u00e3o, e para sempre aponta para o **mesmo** objeto *default*, ou seja, o mesmo lugar na mem\u00f3ria ...que \u00e9 modificado!\n",
      "\n",
      "A forma correta de se criar uma lista (ou dicion\u00e1rio, ou qualquer objeto **mut\u00e1vel**) *default* \u00e9 cri\u00e1-lo durante a **execu\u00e7\u00e3o** ...dentro de fun\u00e7\u00e3o."
     ]
    },
    {
     "cell_type": "code",
     "collapsed": false,
     "input": [
      "def good_append(new_item, a_list=None):\n",
      "    if a_list is None:\n",
      "        a_list = []\n",
      "    a_list.append(new_item)\n",
      "    return a_list\n",
      "\n",
      "print good_append('one')\n",
      "print good_append('two')"
     ],
     "language": "python",
     "metadata": {},
     "outputs": [
      {
       "output_type": "stream",
       "stream": "stdout",
       "text": [
        "['one']\n",
        "['two']\n"
       ]
      }
     ],
     "prompt_number": 69
    },
    {
     "cell_type": "markdown",
     "metadata": {},
     "source": [
      "<span id=\"lambda\"><h4>Fun\u00e7\u00f5es an\u00f4nimas com <code>lambda</code></h4></span>"
     ]
    },
    {
     "cell_type": "markdown",
     "metadata": {},
     "source": [
      "H\u00e1 casos em que podemos querer aplicar uma express\u00e3o a uma cole\u00e7\u00e3o de objetos. Ou usar uma fun\u00e7\u00e3o simples apenas uma vez. Para estes casos, existe o operador <code>lambda</code>.\n",
      "\n",
      "Podemos usar o operador <code>lambda</code> para criar fun\u00e7\u00f5es pequenas **an\u00f4nimas**. Estas fun\u00e7\u00f5es s\u00e3o chamadas an\u00f4nimas pois n\u00e3o precisam de um <code>def</code> e um nome de chamada, isto \u00e9, n\u00e3o precisam ser *declaradas* na forma padr\u00e3o.\n",
      "\n",
      "Express\u00f5es lambda podem aceitar qualquer quntidade de argumentos (como fun\u00e7\u00f5es) mas devem conter apenas uma \u00fanica **express\u00e3o**. Elas n\u00e3o podem aceitar *statements* ou m\u00faltiplas express\u00f5es.\n",
      "\n",
      "Aqui se torna importante que uma chamada <code>print</code> **n\u00e3o** se qualifica como uma express\u00e3o, e sim um *statement* mais abrangente; logo, chamadas print n\u00e3o s\u00e3o permitidas dentro de <code>lambda</code>.\n",
      "\n",
      "An anonymous function cannot be a direct call to print because lambda requires an expression.\n",
      "\n",
      "fun\u00e7\u00f5es <code>lambda</code> t\u00eam seus pr\u00f3prios escopos internos, mas conseguem acessar vari\u00e1veis da fun\u00e7\u00e3o ou escopo que a chama.\n",
      "\n",
      "Vamos ver um exemplo:"
     ]
    },
    {
     "cell_type": "code",
     "collapsed": false,
     "input": [
      "li = ['Ivar','Daniel','Felipe']\n",
      "\n",
      "# ao inv\u00e9s de definir uma fun\u00e7\u00e3o s\u00f3 para chamar dentro \n",
      "# do meu map ou fazer um for loop, uso uma fun\u00e7\u00e3o an\u00f4nima\n",
      "quad = map(lambda inp: inp + ' ama Python', li)\n",
      "\n",
      "quad"
     ],
     "language": "python",
     "metadata": {},
     "outputs": [
      {
       "metadata": {},
       "output_type": "pyout",
       "prompt_number": 70,
       "text": [
        "['Ivar ama Python', 'Daniel ama Python', 'Felipe ama Python']"
       ]
      }
     ],
     "prompt_number": 70
    },
    {
     "cell_type": "markdown",
     "metadata": {},
     "source": [
      "**IMPORTANTE**: \u00c9 necess\u00e1rio tomar cuidado ao usar <code>lambda</code> e <code>def</code> dentro de loops <code>for</code>. \n",
      "\n",
      "Este cuidado \u00e9  necess\u00e1rio pois, se a fun\u00e7\u00e3o aninhada referencia algum valor que \u00e9 modificado pelo loop, a regra de escopo dita que este ser\u00e1 modificado e os ponteiros (isto \u00e9, as vari\u00e1veis) criados acabar\u00e3o por apontar ao valor final do loop.\n",
      "\n",
      "Vejamos:"
     ]
    },
    {
     "cell_type": "code",
     "collapsed": false,
     "input": [
      " def make():\n",
      "    items = []\n",
      "    for i in ['Ivar','Daniel','Felipe','Mari']:\n",
      "        # cada item \u00e9 um FUN\u00c7\u00c3O criada com lambda\n",
      "        items.append(lambda x: i + x)\n",
      "    return items\n",
      "\n",
      " # populei uma lista onde cada item \u00e9 uma ***FUN\u00c7\u00c3O***\n",
      " functions = make()\n",
      "# note...\n",
      " functions[0]\n",
      "# mas agora ao chamar as fun\u00e7\u00f5es..."
     ],
     "language": "python",
     "metadata": {},
     "outputs": [
      {
       "metadata": {},
       "output_type": "pyout",
       "prompt_number": 71,
       "text": [
        "<function __main__.<lambda>>"
       ]
      }
     ],
     "prompt_number": 71
    },
    {
     "cell_type": "code",
     "collapsed": false,
     "input": [
      "# esta deve me dar 'Ivar ama python'\n",
      "functions[0](' ama Python')"
     ],
     "language": "python",
     "metadata": {},
     "outputs": [
      {
       "metadata": {},
       "output_type": "pyout",
       "prompt_number": 72,
       "text": [
        "'Mari ama Python'"
       ]
      }
     ],
     "prompt_number": 72
    },
    {
     "cell_type": "code",
     "collapsed": false,
     "input": [
      "# esta deve me dar 'Daniel ama C'\n",
      "functions[1](' ama C')"
     ],
     "language": "python",
     "metadata": {},
     "outputs": [
      {
       "metadata": {},
       "output_type": "pyout",
       "prompt_number": 73,
       "text": [
        "'Mari ama C'"
       ]
      }
     ],
     "prompt_number": 73
    },
    {
     "cell_type": "code",
     "collapsed": false,
     "input": [
      "# esta deve me dar 'Felipe ama LISP'\n",
      "functions[2](' ama LISP')"
     ],
     "language": "python",
     "metadata": {},
     "outputs": [
      {
       "metadata": {},
       "output_type": "pyout",
       "prompt_number": 74,
       "text": [
        "'Mari ama LISP'"
       ]
      }
     ],
     "prompt_number": 74
    },
    {
     "cell_type": "markdown",
     "metadata": {},
     "source": [
      "Mas todas s\u00f3 se lembram do \u00faltimo <code>i</code> que foi criado no <code>for</code>, pois este fica no escopo *externo* e foi modificado l\u00e1.\n",
      "\n",
      "Para reslver este problema, podemos usar um valor default, como vimos acima:"
     ]
    },
    {
     "cell_type": "code",
     "collapsed": false,
     "input": [
      " def make():\n",
      "    items = []\n",
      "    for i in ['Ivar','Daniel','Felipe','Mari']:\n",
      "        # cada item \u00e9 um FUN\u00c7\u00c3O criada com lambda\n",
      "        #\n",
      "        # s\u00f3 que agora i \u00e9 passado para dentro do \n",
      "        # lambda como valor default, e existe l\u00e1 dentro!!\n",
      "        items.append(lambda x, i=i: i + x)\n",
      "    return items\n",
      "\n",
      " # populei uma lista onde cada item \u00e9 uma ***FUN\u00c7\u00c3O***\n",
      " functions = make()\n",
      "# agora ao chamar as fun\u00e7\u00f5es...\n",
      " functions[0](' ama Python'),functions[1](' ama C'), functions[2](' ama LISP')"
     ],
     "language": "python",
     "metadata": {},
     "outputs": [
      {
       "metadata": {},
       "output_type": "pyout",
       "prompt_number": 75,
       "text": [
        "('Ivar ama Python', 'Daniel ama C', 'Felipe ama LISP')"
       ]
      }
     ],
     "prompt_number": 75
    },
    {
     "cell_type": "markdown",
     "metadata": {},
     "source": [
      "<h6>FAQ: Mas se <code>lambda</code> s\u00f3 aceita uma express\u00e3o, qual a diferen\u00e7a entre 'expression' e 'statement'?</h6>"
     ]
    },
    {
     "cell_type": "markdown",
     "metadata": {},
     "source": [
      "Volte e leia a parte sobre <a href=\"#expressoes\">express\u00f5es</a> e <a href=\"#statements\">*statements*</a>"
     ]
    },
    {
     "cell_type": "markdown",
     "metadata": {},
     "source": [
      "<span id=\"args_kwargs\"><h4>Par\u00e2metros Vari\u00e1veis com \\*args, \\*\\*kwargs</h4></span>"
     ]
    },
    {
     "cell_type": "markdown",
     "metadata": {},
     "source": [
      "O Python nos permite a flexibilidade de montar fun\u00e7\u00f5es que n\u00e3o precisam saber o n\u00fameros de argumentos que lhes ser\u00e3o passadas. Para isso usamos os operadores '<code>\\*</code>' e '<code>\\*\\*</code>' ao declarar a fun\u00e7\u00e3o.\n",
      "\n",
      "O operador '<code>\\*</code>' faz com que a vari\u00e1vel que o segue (quase sempre chamada 'args' pela comunidade Python) seja interpretada como uma tupla contendo todos os argumentos da fun\u00e7\u00e3o passados dali em diante. Veja:"
     ]
    },
    {
     "cell_type": "code",
     "collapsed": false,
     "input": [
      "def foo(primeiroarg, *args):\n",
      "    print 'eis o primeiro:',primeiroarg,'\\n'\n",
      "    # todos os outros args s\u00e3o empacotados em uma tupla por cause do '*'!\n",
      "    for i in args: \n",
      "        # EASTER-EGG: quem me explica a v\u00edrgula aqui? \n",
      "        # os primeiros 5 a mandar um email para daniel.chada<arroba>fgv<ponto>br \n",
      "        # explicando (corretamente) ganham chocolate!\n",
      "        print i,   \n",
      " \n",
      "# note que estou passando 6 argumentos, mas a fun\u00e7\u00e3o s\u00f3 recebe dois! \n",
      "# ...n\u00e3o d\u00e1 erro??\n",
      "foo(3, 'Daniel','\u00e9', 10, 'ou', 3.14)"
     ],
     "language": "python",
     "metadata": {},
     "outputs": [
      {
       "output_type": "stream",
       "stream": "stdout",
       "text": [
        "eis o primeiro: 3 \n",
        "\n",
        "Daniel \u00e9 10 ou 3.14\n"
       ]
      }
     ],
     "prompt_number": 76
    },
    {
     "cell_type": "markdown",
     "metadata": {},
     "source": [
      "J\u00e1 o operador '<code>\\*\\*</code>' acolhe todos os valores *nomeados*, isto \u00e9, que recebem nome na chamada (**n\u00e3o** na declara\u00e7\u00e3o) em um dicion\u00e1rio (sempre nomeado 'kwargs' pela comunidade Python), com as chaves sendo os nomes das vari\u00e1veis, e os valores seus valores.\n",
      "\n",
      "veja:"
     ]
    },
    {
     "cell_type": "code",
     "collapsed": false,
     "input": [
      "def bar(primeiroarg, **kwargs):\n",
      "    print 'eis o primeiro:',primeiroarg,'\\n'\n",
      "    \n",
      "    for key,val in kwargs.items():\n",
      "        print 'a chave:',key,'...tem valor:',val\n",
      "        \n",
      "bar('1o', trabalho='divers\u00e3o', python='legal', Daniel='melhor professor DO MUNDO!', Ivar='Ivan')"
     ],
     "language": "python",
     "metadata": {},
     "outputs": [
      {
       "output_type": "stream",
       "stream": "stdout",
       "text": [
        "eis o primeiro: 1o \n",
        "\n",
        "a chave: python ...tem valor: legal\n",
        "a chave: Ivar ...tem valor: Ivan\n",
        "a chave: trabalho ...tem valor: divers\u00e3o\n",
        "a chave: Daniel ...tem valor: melhor professor DO MUNDO!\n"
       ]
      }
     ],
     "prompt_number": 77
    },
    {
     "cell_type": "markdown",
     "metadata": {},
     "source": [
      "<br/>O site http://freepythontips.wordpress.com/2013/08/04/args-and-kwargs-in-python-explained/ cont\u00e9m uma boa explica\u00e7\u00e3o sobre o assunto."
     ]
    },
    {
     "cell_type": "markdown",
     "metadata": {},
     "source": [
      "<span id=\"aula_7\"><h2>M\u00f3dulo 7 - Strings Avan\u00e7ados</h2></span>"
     ]
    },
    {
     "cell_type": "markdown",
     "metadata": {},
     "source": [
      "Neste m\u00f3dulo veremos um pouco mais sobre strings, e as diferentes formas de interpret\u00e1-los.\n",
      "\n",
      "String \u00e9 um subtipo de **sequ\u00eancia**, de fato, uma string \u00e9 um **sequ\u00eancia imut\u00e1vel**, tal qual uma tupla.\n",
      "\n",
      "String n\u00e3o s\u00e3o apenas para guardar e procesar informa\u00e7\u00e3o em texto. No Python, string podem servir para guardar e processar informa\u00e7\u00e3o em qualquer formato bin\u00e1rio, at\u00e9 imagens e outras m\u00eddias. Isso os torna fortemente flex\u00edveis, mas um pouco mais dif\u00edceis de lidar quando sa\u00edmos das interpreta\u00e7\u00f5es triviais (isto \u00e9, 8 bits = um caract\u00e9re).\n",
      "\n",
      "OBS: para refer\u00eancia, eis todos os tipos Python que s\u00e3o sequ\u00eancias: <code>str, unicode, list, tuple, bytearray, buffer, xrange</code>. Leia mais sobre eles em https://docs.python.org/2/library/stdtypes.html#sequence-types-str-unicode-list-tuple-bytearray-buffer-xrange"
     ]
    },
    {
     "cell_type": "markdown",
     "metadata": {},
     "source": [
      "<span id=\"unicode\"><h4>Unicode strings</h4></span>"
     ]
    },
    {
     "cell_type": "markdown",
     "metadata": {},
     "source": [
      "Python tamb\u00e9m nos permite utilizar caracteres fora do 'b\u00e1sico' provido pelo c\u00f3digo ASCII (veja a lista ASCII completa em http://www.asciitable.com), permitindo quaisquer caracteres do Unicode (cuja espcifica\u00e7\u00e3o fica em http://www.unicode.org). O site da Unicode explica: \"*Unicode provides a unique number for every character, no matter what the platform, no matter what the program, no matter what the language*\".\n",
      "\n",
      "O Livro Refer\u00eancia [1], descreve: \"*non-Unicode strings are sequences of 8-bit bytes that print with ASCII characters when possible, and Unicode strings are sequences of Unicode code points - identifying numbers for characters, which do not necessarily map to single bytes when encoded to files or stored in memory. In fact, the notion of bytes doesn't apply to Unicode*\".\n",
      "\n",
      "Vejamos um exemplo um pouco mais concreto:"
     ]
    },
    {
     "cell_type": "code",
     "collapsed": false,
     "input": [
      "# o caractere em Unicode n\u00e3o \u00e9 automaticamente lido no Python 2.x\n",
      "print 'sp\\xc4m' \n",
      "# se colocarmos o 'u' na frente da string, o Python sabe que deve ler como\n",
      "# Unicode\n",
      "print u'sp\\xc4m' "
     ],
     "language": "python",
     "metadata": {},
     "outputs": [
      {
       "output_type": "stream",
       "stream": "stdout",
       "text": [
        "sp\ufffdm\n",
        "sp\u00c4m\n"
       ]
      }
     ],
     "prompt_number": 78
    },
    {
     "cell_type": "markdown",
     "metadata": {},
     "source": [
      "<br/>As fun\u00e7\u00f5es <code>encode()</code> e <code>decode()</code> funcionam para **mapear** strings para que sejam interpretados de certo jeito.\n",
      "\n",
      "Vejamos alguns outros exemplos de mapeamento:"
     ]
    },
    {
     "cell_type": "code",
     "collapsed": false,
     "input": [
      "'\\xc3\\xa1' # um string de um bando de caracteres"
     ],
     "language": "python",
     "metadata": {},
     "outputs": [
      {
       "metadata": {},
       "output_type": "pyout",
       "prompt_number": 79,
       "text": [
        "'\\xc3\\xa1'"
       ]
      }
     ],
     "prompt_number": 79
    },
    {
     "cell_type": "code",
     "collapsed": false,
     "input": [
      "print '\\xc3\\xa1' # a fun\u00e7\u00e3o print \u00e9 esperta e interpreta o utf-8\n",
      ">>> print '\u00e1'"
     ],
     "language": "python",
     "metadata": {},
     "outputs": [
      {
       "output_type": "stream",
       "stream": "stdout",
       "text": [
        "\u00e1\n",
        "\u00e1\n"
       ]
      }
     ],
     "prompt_number": 80
    },
    {
     "cell_type": "code",
     "collapsed": false,
     "input": [
      "u'\\xe1' # um unicode sem muito sentido"
     ],
     "language": "python",
     "metadata": {},
     "outputs": [
      {
       "metadata": {},
       "output_type": "pyout",
       "prompt_number": 81,
       "text": [
        "u'\\xe1'"
       ]
      }
     ],
     "prompt_number": 81
    },
    {
     "cell_type": "code",
     "collapsed": false,
     "input": [
      "print u'\\xe1' # mas a fun\u00e7\u00e3o print j\u00e1 interpreta diferente"
     ],
     "language": "python",
     "metadata": {},
     "outputs": [
      {
       "output_type": "stream",
       "stream": "stdout",
       "text": [
        "\u00e1\n"
       ]
      }
     ],
     "prompt_number": 82
    },
    {
     "cell_type": "code",
     "collapsed": false,
     "input": [
      "u'\\xe1'.encode('utf-8') # mapeando"
     ],
     "language": "python",
     "metadata": {},
     "outputs": [
      {
       "metadata": {},
       "output_type": "pyout",
       "prompt_number": 83,
       "text": [
        "'\\xc3\\xa1'"
       ]
      }
     ],
     "prompt_number": 83
    },
    {
     "cell_type": "code",
     "collapsed": false,
     "input": [
      "print u'\\xe1'.encode('utf-8') "
     ],
     "language": "python",
     "metadata": {},
     "outputs": [
      {
       "output_type": "stream",
       "stream": "stdout",
       "text": [
        "\u00e1\n"
       ]
      }
     ],
     "prompt_number": 84
    },
    {
     "cell_type": "code",
     "collapsed": false,
     "input": [
      "'\\xc3\\xa1'.decode('utf-8') # ...e de volta"
     ],
     "language": "python",
     "metadata": {},
     "outputs": [
      {
       "metadata": {},
       "output_type": "pyout",
       "prompt_number": 85,
       "text": [
        "u'\\xe1'"
       ]
      }
     ],
     "prompt_number": 85
    },
    {
     "cell_type": "code",
     "collapsed": false,
     "input": [
      "print '\\xc3\\xa1'.decode('utf-8')"
     ],
     "language": "python",
     "metadata": {},
     "outputs": [
      {
       "output_type": "stream",
       "stream": "stdout",
       "text": [
        "\u00e1\n"
       ]
      }
     ],
     "prompt_number": 86
    },
    {
     "cell_type": "markdown",
     "metadata": {},
     "source": [
      "Para quem quiser ler um pouco mais sobre a fun\u00e7\u00e3o <code>print</code>, busque aqui: https://docs.python.org/2/library/functions.html#print"
     ]
    },
    {
     "cell_type": "code",
     "collapsed": false,
     "input": [
      "s = '\u00f6'\n",
      ">>> s.decode('utf-8') # estou usando o '>>>' para emular o terminal python que imprime as opera\u00e7\u00f5es sem usar o print"
     ],
     "language": "python",
     "metadata": {},
     "outputs": [
      {
       "metadata": {},
       "output_type": "pyout",
       "prompt_number": 87,
       "text": [
        "u'\\xf6'"
       ]
      }
     ],
     "prompt_number": 87
    },
    {
     "cell_type": "code",
     "collapsed": false,
     "input": [
      ">>> 'spam'.encode('utf-16') # mapeie para utf-16 (16 bytes por caractere)"
     ],
     "language": "python",
     "metadata": {},
     "outputs": [
      {
       "metadata": {},
       "output_type": "pyout",
       "prompt_number": 88,
       "text": [
        "'\\xff\\xfes\\x00p\\x00a\\x00m\\x00'"
       ]
      }
     ],
     "prompt_number": 88
    },
    {
     "cell_type": "code",
     "collapsed": false,
     "input": [
      ">>> print 'sp\\xc4m' # uh oh, estou tentando considerar como string normal"
     ],
     "language": "python",
     "metadata": {},
     "outputs": [
      {
       "output_type": "stream",
       "stream": "stdout",
       "text": [
        "sp\ufffdm\n"
       ]
      }
     ],
     "prompt_number": 89
    },
    {
     "cell_type": "code",
     "collapsed": false,
     "input": [
      ">>> print u'sp\\xc4m' # considere como um unicode"
     ],
     "language": "python",
     "metadata": {},
     "outputs": [
      {
       "output_type": "stream",
       "stream": "stdout",
       "text": [
        "sp\u00c4m\n"
       ]
      }
     ],
     "prompt_number": 90
    },
    {
     "cell_type": "code",
     "collapsed": false,
     "input": [
      ">>> u'sp\\xc4\\u00c4\\U000000c4m' # unicode hexadecimal, unicode 'curto' (16) e unicode 'longo' (32)"
     ],
     "language": "python",
     "metadata": {},
     "outputs": [
      {
       "metadata": {},
       "output_type": "pyout",
       "prompt_number": 91,
       "text": [
        "u'sp\\xc4\\xc4\\xc4m'"
       ]
      }
     ],
     "prompt_number": 91
    },
    {
     "cell_type": "code",
     "collapsed": false,
     "input": [
      ">>> print u'sp\\xc4\\u00c4\\U000000c4m'"
     ],
     "language": "python",
     "metadata": {},
     "outputs": [
      {
       "output_type": "stream",
       "stream": "stdout",
       "text": [
        "sp\u00c4\u00c4\u00c4m\n"
       ]
      }
     ],
     "prompt_number": 92
    },
    {
     "cell_type": "markdown",
     "metadata": {},
     "source": [
      "H\u00e1 *codecs* (mapeamentos) que n\u00e3o tem nada \u00e0 ver com texto, mas sim com como interpretar uma sequ\u00eancia de *bytes* (i.e. arquivos *zip*), veja https://docs.python.org/2/library/codecs.html#python-specific-encodings\n",
      "\n",
      "Uma lista dos *codecs* padr\u00e3o que o Python lida como *built-in* existe aqui: https://docs.python.org/2/library/codecs.html#standard-encodings"
     ]
    },
    {
     "cell_type": "code",
     "collapsed": false,
     "input": [
      ">>> s.encode('zip')"
     ],
     "language": "python",
     "metadata": {},
     "outputs": [
      {
       "metadata": {},
       "output_type": "pyout",
       "prompt_number": 93,
       "text": [
        "'x\\x9c;\\xbc\\r\\x00\\x02>\\x01z'"
       ]
      }
     ],
     "prompt_number": 93
    },
    {
     "cell_type": "markdown",
     "metadata": {},
     "source": [
      "<span id=\"formatacao\"><h4>Formata\u00e7\u00e3o</h4></span>"
     ]
    },
    {
     "cell_type": "markdown",
     "metadata": {},
     "source": [
      "Python permite a formata\u00e7\u00e3o de strings via a fun\u00e7\u00e3o <code>str.format()</code>. O string sendo formatado (isto \u00e9, que chama a sua pr\u00f3pria fun\u00e7\u00e3o <code>format()</code> poe conter texto literal (como sempre) ou campos de 'substitui\u00e7\u00e3o', delimitados por chaves <code>{}</code>.\n",
      "\n",
      "Cada campo de substitui\u00e7\u00e3o cont\u00e9m ou o \u00edndice num\u00e9rico de um argumento posicional ou o nome de um argumento (veja o exemplo).\n",
      "\n",
      "A fun\u00e7\u00e3o retorna uma c\u00f3pia da string onde cada campo de substitui\u00e7\u00e3o \u00e9 trocado pelo valor string (<code>str()</code>) do argumento correspondente.\n",
      "\n",
      "Vejamos:"
     ]
    },
    {
     "cell_type": "code",
     "collapsed": false,
     "input": [
      "x = 'O melhor professor de Python \u00e9 {} e o triste segundo \u00e9 {}.'\n",
      "print x\n",
      "\n",
      "y = x.format('Daniel','Ivar')\n",
      "print y"
     ],
     "language": "python",
     "metadata": {},
     "outputs": [
      {
       "output_type": "stream",
       "stream": "stdout",
       "text": [
        "O melhor professor de Python \u00e9 {} e o triste segundo \u00e9 {}.\n",
        "O melhor professor de Python \u00e9 Daniel e o triste segundo \u00e9 Ivar.\n"
       ]
      }
     ],
     "prompt_number": 94
    },
    {
     "cell_type": "markdown",
     "metadata": {},
     "source": [
      "<br/>Vejamos colocando informa\u00e7\u00e3o, junto ao delimitador:"
     ]
    },
    {
     "cell_type": "code",
     "collapsed": false,
     "input": [
      "print 'O melhor professor de Python \u00e9 {1}\\\n",
      " e o triste segundo \u00e9 {0}.'.format('Daniel', 'Ivar')"
     ],
     "language": "python",
     "metadata": {},
     "outputs": [
      {
       "output_type": "stream",
       "stream": "stdout",
       "text": [
        "O melhor professor de Python \u00e9 Ivar e o triste segundo \u00e9 Daniel.\n"
       ]
      }
     ],
     "prompt_number": 95
    },
    {
     "cell_type": "markdown",
     "metadata": {},
     "source": [
      "<br/>Tamb\u00e9m aceita-se valores nomeados, vejamos:"
     ]
    },
    {
     "cell_type": "code",
     "collapsed": false,
     "input": [
      "at1 = 'fazer aluno sofrer'\n",
      "at2 = 'fazer aluno chorar'\n",
      "\n",
      "s = \"\"\"ol\u00e1, sou {nome} e tenho {idade} anos! \\\n",
      "Gosto muito de {ativ1} e {ativ2}!\"\"\"\n",
      "\n",
      "print s.format(nome='Daniel'\n",
      "            , idade='34'\n",
      "            , ativ1=at1\n",
      "            , ativ2=at2)"
     ],
     "language": "python",
     "metadata": {},
     "outputs": [
      {
       "output_type": "stream",
       "stream": "stdout",
       "text": [
        "ol\u00e1, sou Daniel e tenho 34 anos! Gosto muito de fazer aluno sofrer e fazer aluno chorar!\n"
       ]
      }
     ],
     "prompt_number": 96
    },
    {
     "cell_type": "markdown",
     "metadata": {},
     "source": [
      "<br/>Tamb\u00e9m podemos usar h\u00edbridos de posicionamento e nomea\u00e7\u00e3o (lembrem da se\u00e7\u00e3o sobre <a href=\"#args_kwargs\">\\*args e \\*\\*kwargs</a>)"
     ]
    },
    {
     "cell_type": "code",
     "collapsed": false,
     "input": [
      "s = \"ol\u00e1, sou {0} e tenho {1} ...gosto do {at1} e {at2}!\"\n",
      "at1 = \"programar\"\n",
      "at2 = 'dar zero a alunos'\n",
      "\n",
      "print s.format('Daniel','34', at1=at1, at2=at2)"
     ],
     "language": "python",
     "metadata": {},
     "outputs": [
      {
       "output_type": "stream",
       "stream": "stdout",
       "text": [
        "ol\u00e1, sou Daniel e tenho 34 ...gosto do programar e dar zero a alunos!\n"
       ]
      }
     ],
     "prompt_number": 97
    },
    {
     "cell_type": "markdown",
     "metadata": {},
     "source": [
      "</br>A documenta\u00e7\u00e3o do Python cont\u00e9m varios exemplos de formata\u00e7\u00e3o ...\n",
      "\n",
      "aqui: (https://docs.python.org/2/library/string.html#format-examples)\n",
      "\n",
      "e aqui: (https://docs.python.org/2/tutorial/inputoutput.html#fancier-output-formatting)"
     ]
    },
    {
     "cell_type": "markdown",
     "metadata": {},
     "source": [
      "<span id=\"multi_line\"><h4>Multi-line strings</h4></span>"
     ]
    },
    {
     "cell_type": "markdown",
     "metadata": {},
     "source": [
      "String multi-linha s\u00e3o bastante simples no Python: usamos **tr\u00eas** aspas para defini-los:"
     ]
    },
    {
     "cell_type": "code",
     "collapsed": false,
     "input": [
      ">>> x = \"\"\"Ei! Eu\n",
      "\n",
      "sou uma\n",
      "\n",
      "string multi-linha!\"\"\"\n",
      ">>> x"
     ],
     "language": "python",
     "metadata": {},
     "outputs": [
      {
       "metadata": {},
       "output_type": "pyout",
       "prompt_number": 98,
       "text": [
        "'Ei! Eu\\n\\nsou uma\\n\\nstring multi-linha!'"
       ]
      }
     ],
     "prompt_number": 98
    },
    {
     "cell_type": "code",
     "collapsed": false,
     "input": [
      "print x"
     ],
     "language": "python",
     "metadata": {},
     "outputs": [
      {
       "output_type": "stream",
       "stream": "stdout",
       "text": [
        "Ei! Eu\n",
        "\n",
        "sou uma\n",
        "\n",
        "string multi-linha!\n"
       ]
      }
     ],
     "prompt_number": 99
    },
    {
     "cell_type": "markdown",
     "metadata": {},
     "source": [
      "<span id=\"coding\"><h4>Enfim ...O porque do \"<code>#coding: utf-8</code>\" no in\u00edcio dos arquivos!</h4></span>"
     ]
    },
    {
     "cell_type": "markdown",
     "metadata": {},
     "source": [
      "O <code>coding: utf-8</code> no in\u00edcio dos nossos arquivos .py indica que aquele c\u00f3digo python deve ser interpretado como uma s\u00e9rie de caracteres utf-8, n\u00e3o ASCII (que n\u00e3o permite acentos, e uma s\u00e9rie de outros caracteres).\n",
      "\n",
      "[a defini\u00e7\u00e3o formal pela comunidade Python](http://legacy.python.org/dev/peps/pep-0263/) descreve: \"*The encoding information is then used by the Python parser to interpret the file using the given encoding. Most notably this enhances the interpretation of Unicode literals in the source code and makes it possible to write Unicode literals using e.g. UTF-8 directly in an Unicode aware editor*\".\n",
      "\n",
      "Assim, o Python, ao ler nosso arquivo .py, consegue entender caracteres fora do ASCII."
     ]
    },
    {
     "cell_type": "markdown",
     "metadata": {},
     "source": [
      "<span id=\"aula_8\"><h2>M\u00f3dulo 8 - N\u00fameros Bin\u00e1rios, Tabelas Verdade, OR, AND, XOR, NAND</h2></span>"
     ]
    },
    {
     "cell_type": "markdown",
     "metadata": {},
     "source": [
      "A computa\u00e7\u00e3o como um todo se baseia em n\u00fameros bin\u00e1rios. Mas o que queremos dizer quando dizemos 'bin\u00e1rio', ou 'base dois'? Sabemos intuitivamente que, da mesma forma que a base decimal usa somente zero a nove {0,9}, a base bin\u00e1ria se restringe a zeros e uns {0,1}.\n",
      "\n",
      "Na base decimal, quando chegamos ao final, adicionamos um \u00e0 pr\u00f3xima casa 'decimal' e come\u00e7amos de novo. Esta pr\u00f3xima casa implica uma outra pot\u00eancia de dez. por exemplo, 243 significa\n",
      "\n",
      "<table>\n",
      "<tr>\n",
      "<td>2</td><td>4</td><td>3</td>\n",
      "</tr>\n",
      "<tr>\n",
      "<td>10^2</td><td>10^1</td><td>10^0</td>\n",
      "</tr>\n",
      "</table>\n",
      "\n",
      "243 \u00e9 igual a <code>2\\*100 + 4\\*10 + 3\\*1</code>\n",
      "\n",
      "No bin\u00e1rio, como s\u00f3 temos o 0 e o 1, fazemos a mesma coisa, mas muito mais vezes... ao chegar ao 'final' (o 1) adicionamos uma casa 'bin\u00e1ria' e come\u00e7amos de novo. Esta pr\u00f3xima casa implica outra pot\u00eancia de dois. Por exemplo 1011 significa:\n",
      "\n",
      "<table>\n",
      "<tr>\n",
      "<td>1</td><td>0</td><td>1</td><td>1</td>\n",
      "</tr>\n",
      "<tr>\n",
      "<td>2^3</td><td>2^2</td><td>2^1</td><td>2^0</td>\n",
      "</tr>\n",
      "</table>\n",
      "\n",
      "Assim, 1011 \u00e9 igual a <code>1\\*8 + 0\\*4 + 1\\*2 + 1\\*1 = 8+2+1 = 11</code>\n",
      "\n",
      "\n"
     ]
    },
    {
     "cell_type": "markdown",
     "metadata": {},
     "source": [
      "Mais informa\u00e7\u00e3o e exemplos podem ser encontrados em: https://docs.python.org/2/library/stdtypes.html#truth-value-testing"
     ]
    },
    {
     "cell_type": "markdown",
     "metadata": {},
     "source": [
      "<span id=\"bitwise\"><h4>Operadores Bitwise: not, or, xor, and, nand</h4></span>"
     ]
    },
    {
     "cell_type": "markdown",
     "metadata": {},
     "source": [
      "Com bin\u00e1rios, podemos utilizar operadores (iguais aos operadores l\u00f3gicos que j\u00e1 vimos, mas que funcionam bit a bit), chamados bitwise. Vamos encontrar os mesmos operadores, mas vamos ver alguns outros importantes na computa\u00e7\u00e3o tamb\u00e9m.\n",
      "\n",
      "O *ou exclusivo* (*exclusive or*) tamb\u00e9m chamado **xor** ...dadas duas proposi\u00e7\u00f5es **A** e **B**, o xor funciona assim:\n",
      "\n",
      "<table><tbody>\n",
      "<tr><td><code>A</code></td><td><code>B</code></td><td><code>A xor B</code></td></tr>\n",
      "<tr><td><code>0</code></td><td><code>0</code></td><td><code>0</code></td></tr>\n",
      "<tr><td><code>0</code></td><td><code>1</code></td><td><code>1</code></td></tr>\n",
      "<tr><td><code>1</code></td><td><code>0</code></td><td><code>1</code></td></tr>\n",
      "<tr><td><code>1</code></td><td><code>1</code></td><td><code>0</code></td></tr>\n",
      "</tbody>\n",
      "</table>\n",
      "\n",
      "O xor \u00e9 uma opera\u00e7\u00e3o composta, que pode ser expressa como <code>(A or B) and not(A and B)</code>\n",
      "\n",
      "O *and negado* (*negated and*), tamb\u00e9m chamado **nand** ...dadas duas proposi\u00e7\u00f5es **A** e **B**, o nand oferece os resultados opostos a um operador *and* assim:\n",
      "\n",
      "<table>\n",
      "<tbody>\n",
      "<tr><td><code>A</code></td><td><code>B</code></td><td><code>A nand B</code></td></tr>\n",
      "<tr><td><code>0</code></td><td><code>0</code></td><td><code>1</code></td></tr>\n",
      "<tr><td><code>0</code></td><td><code>1</code></td><td><code>1</code></td></tr>\n",
      "<tr><td><code>1</code></td><td><code>0</code></td><td><code>1</code></td></tr>\n",
      "<tr><td><code>1</code></td><td><code>1</code></td><td><code>0</code></td></tr>\n",
      "</tbody>\n",
      "</table>"
     ]
    },
    {
     "cell_type": "code",
     "collapsed": false,
     "input": [
      "a = 0b1011\n",
      "b = 0b1001\n",
      "\n",
      "print bin(a | b) # operador 'or' bitwise\n",
      "\n",
      "print bin(a & b) # operador 'and' bitwise\n"
     ],
     "language": "python",
     "metadata": {},
     "outputs": [
      {
       "output_type": "stream",
       "stream": "stdout",
       "text": [
        "0b1011\n",
        "0b1001\n"
       ]
      }
     ],
     "prompt_number": 100
    },
    {
     "cell_type": "markdown",
     "metadata": {},
     "source": [
      "<span id=\"aula_9\"><h2>M\u00f3dulo 9 - Usando APIs Externas</h2></span>"
     ]
    },
    {
     "cell_type": "markdown",
     "metadata": {},
     "source": [
      "O Python package index \u00e9 o principal reposit\u00f3rio de m\u00f3dulos livremente dispon\u00edveis na internet.\n",
      "\n",
      "no momento da edi\u00e7\u00e3o desta apostila, o site https://pypi.python.org/pypi descreve: \"*The Python Package Index is a repository of software for the Python programming language. There are currently 49551 packages here.*\"\n",
      "\n",
      "Como baixar e instalar? No Linux e OSX a ferramenta pip do terminal torna trivial a instala\u00e7\u00e3o de novos pacotes Python. No Windows, ela tamb\u00e9m pode ser usada, como descrito [aqui](https://docs.python.org/3.4/installing/index.html).\n",
      "\n",
      "Muitos m\u00f3dulos disponibilizam instaladores espec\u00edficos para o Windows, facilitando o processo. Podemos encontrar uma lista extra-oficial de m\u00f3dulos com instaladores para o Windows [aqui](http://www.lfd.uci.edu/~gohlke/pythonlibs/).\n",
      "\n",
      "Em certos m\u00f3dulos do Python \u00e9 necess\u00e1rio construir o m\u00f3dulo a partir do c\u00f3digo-fonte original (isso se chama *build from source*).\n"
     ]
    },
    {
     "cell_type": "heading",
     "level": 2,
     "metadata": {},
     "source": [
      "Anexo A - Recursos Online"
     ]
    },
    {
     "cell_type": "markdown",
     "metadata": {},
     "source": [
      "[StackOverflow.com](http://stackoverflow.com)<br/>\n",
      "[Python.org](python.org)<br/>\n",
      "[Tutorialspoint.com](http://www.tutorialspoint.com/python/index.htm)\n",
      "\n"
     ]
    },
    {
     "cell_type": "heading",
     "level": 2,
     "metadata": {},
     "source": [
      "Refer\u00eancias"
     ]
    },
    {
     "cell_type": "markdown",
     "metadata": {},
     "source": [
      "[1] Lutz, M.; *Learning Python* 5th ed."
     ]
    },
    {
     "cell_type": "code",
     "collapsed": false,
     "input": [],
     "language": "python",
     "metadata": {},
     "outputs": [],
     "prompt_number": 100
    }
   ],
   "metadata": {}
  }
 ]
}